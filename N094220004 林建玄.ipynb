{
 "cells": [
  {
   "cell_type": "markdown",
   "id": "e159ede4-071a-4a28-968c-26e830a0535e",
   "metadata": {},
   "source": [
    "### 1.A. 畫圖"
   ]
  },
  {
   "cell_type": "code",
   "execution_count": 1,
   "id": "049f1171-cd19-443c-815b-e1db86101561",
   "metadata": {},
   "outputs": [],
   "source": [
    "import pandas as pd\n",
    "import IPython\n",
    "import numpy as np\n",
    "from pyvis.network import Network\n",
    "import networkx as nx\n",
    "import matplotlib.pyplot as plt\n",
    "%matplotlib inline"
   ]
  },
  {
   "cell_type": "code",
   "execution_count": 2,
   "id": "323bc53a-7620-4e04-8373-73051fa4552a",
   "metadata": {},
   "outputs": [],
   "source": [
    "# 移除警告語，視覺上比較乾淨\n",
    "import warnings\n",
    "warnings.filterwarnings(\"ignore\", category=DeprecationWarning)"
   ]
  },
  {
   "cell_type": "code",
   "execution_count": 3,
   "id": "4a35220f-a4aa-42d4-88b1-49a89fa4b93e",
   "metadata": {},
   "outputs": [
    {
     "data": {
      "text/html": [
       "<html>\n",
       "<head>\n",
       "<link rel=\"stylesheet\" href=\"https://cdnjs.cloudflare.com/ajax/libs/vis/4.16.1/vis.css\" type=\"text/css\" />\n",
       "<script type=\"text/javascript\" src=\"https://cdnjs.cloudflare.com/ajax/libs/vis/4.16.1/vis-network.min.js\"> </script>\n",
       "<center>\n",
       "<h1></h1>\n",
       "</center>\n",
       "\n",
       "<!-- <link rel=\"stylesheet\" href=\"../node_modules/vis/dist/vis.min.css\" type=\"text/css\" />\n",
       "<script type=\"text/javascript\" src=\"../node_modules/vis/dist/vis.js\"> </script>-->\n",
       "\n",
       "<style type=\"text/css\">\n",
       "\n",
       "        #mynetwork {\n",
       "            width: 500px;\n",
       "            height: 500px;\n",
       "            background-color: #ffffff;\n",
       "            border: 1px solid lightgray;\n",
       "            position: relative;\n",
       "            float: left;\n",
       "        }\n",
       "\n",
       "        \n",
       "\n",
       "        \n",
       "\n",
       "        \n",
       "</style>\n",
       "\n",
       "</head>\n",
       "\n",
       "<body>\n",
       "<div id = \"mynetwork\"></div>\n",
       "\n",
       "\n",
       "<script type=\"text/javascript\">\n",
       "\n",
       "    // initialize global variables.\n",
       "    var edges;\n",
       "    var nodes;\n",
       "    var network; \n",
       "    var container;\n",
       "    var options, data;\n",
       "\n",
       "    \n",
       "    // This method is responsible for drawing the graph, returns the drawn network\n",
       "    function drawGraph() {\n",
       "        var container = document.getElementById('mynetwork');\n",
       "        \n",
       "        \n",
       "\n",
       "        // parsing and collecting nodes and edges from the python\n",
       "        nodes = new vis.DataSet([{\"id\": \"Chicago\", \"label\": \"Chicago\", \"shape\": \"dot\"}, {\"id\": \"Washington\", \"label\": \"Washington\", \"shape\": \"dot\"}, {\"id\": \"Dallas\", \"label\": \"Dallas\", \"shape\": \"dot\"}, {\"id\": \"New York\", \"label\": \"New York\", \"shape\": \"dot\"}, {\"id\": \"Detorit\", \"label\": \"Detorit\", \"shape\": \"dot\"}, {\"id\": \"Seattle\", \"label\": \"Seattle\", \"shape\": \"dot\"}, {\"id\": \"Denver\", \"label\": \"Denver\", \"shape\": \"dot\"}, {\"id\": \"Cincinnati\", \"label\": \"Cincinnati\", \"shape\": \"dot\"}, {\"id\": \"Miami\", \"label\": \"Miami\", \"shape\": \"dot\"}]);\n",
       "        edges = new vis.DataSet([{\"from\": \"Chicago\", \"to\": \"Washington\"}, {\"from\": \"Washington\", \"to\": \"Dallas\"}, {\"from\": \"Chicago\", \"to\": \"New York\"}, {\"from\": \"New York\", \"to\": \"Detorit\"}, {\"from\": \"Detorit\", \"to\": \"Dallas\"}, {\"from\": \"Detorit\", \"to\": \"Seattle\"}, {\"from\": \"Dallas\", \"to\": \"Seattle\"}, {\"from\": \"Detorit\", \"to\": \"Denver\"}, {\"from\": \"Detorit\", \"to\": \"Cincinnati\"}, {\"from\": \"Denver\", \"to\": \"Miami\"}, {\"from\": \"Cincinnati\", \"to\": \"Miami\"}, {\"from\": \"Denver\", \"to\": \"Cincinnati\"}]);\n",
       "\n",
       "        // adding nodes and edges to the graph\n",
       "        data = {nodes: nodes, edges: edges};\n",
       "\n",
       "        var options = {\n",
       "    \"configure\": {\n",
       "        \"enabled\": false\n",
       "    },\n",
       "    \"edges\": {\n",
       "        \"color\": {\n",
       "            \"inherit\": true\n",
       "        },\n",
       "        \"smooth\": {\n",
       "            \"enabled\": false,\n",
       "            \"type\": \"continuous\"\n",
       "        }\n",
       "    },\n",
       "    \"interaction\": {\n",
       "        \"dragNodes\": true,\n",
       "        \"hideEdgesOnDrag\": false,\n",
       "        \"hideNodesOnDrag\": false\n",
       "    },\n",
       "    \"physics\": {\n",
       "        \"enabled\": true,\n",
       "        \"stabilization\": {\n",
       "            \"enabled\": true,\n",
       "            \"fit\": true,\n",
       "            \"iterations\": 1000,\n",
       "            \"onlyDynamicEdges\": false,\n",
       "            \"updateInterval\": 50\n",
       "        }\n",
       "    }\n",
       "};\n",
       "        \n",
       "        \n",
       "\n",
       "        \n",
       "\n",
       "        network = new vis.Network(container, data, options);\n",
       "\t \n",
       "        \n",
       "\n",
       "\n",
       "        \n",
       "\n",
       "        return network;\n",
       "\n",
       "    }\n",
       "\n",
       "    drawGraph();\n",
       "\n",
       "</script>\n",
       "</body>\n",
       "</html>"
      ],
      "text/plain": [
       "<IPython.core.display.HTML object>"
      ]
     },
     "execution_count": 3,
     "metadata": {},
     "output_type": "execute_result"
    }
   ],
   "source": [
    "net = Network()\n",
    "net.add_nodes([\"Chicago\", \"Washington\", \"Dallas\", \"New York\",\n",
    "               \"Detorit\", \"Seattle\", \"Denver\", \"Cincinnati\", \"Miami\"])\n",
    "net.add_edges([(\"Chicago\", \"Washington\")\n",
    ",(\"Washington\", \"Dallas\")\n",
    ",(\"Chicago\", \"New York\")\n",
    ",(\"New York\", \"Detorit\")\n",
    ",(\"Detorit\", \"Dallas\")\n",
    ",(\"Detorit\", \"Seattle\")\n",
    ",(\"Dallas\", \"Seattle\")\n",
    ",(\"Detorit\", \"Denver\")\n",
    ",(\"Detorit\", \"Cincinnati\")\n",
    ",(\"Denver\", \"Miami\")\n",
    ",(\"Cincinnati\", \"Miami\")\n",
    ",(\"Denver\", \"Cincinnati\")])\n",
    "\n",
    "net.show('./demo.html')\n",
    "# colab可以解開直接看\n",
    "IPython.display.HTML('./demo.html')"
   ]
  },
  {
   "cell_type": "code",
   "execution_count": 4,
   "id": "968157a5-bb1e-4a93-8c91-c939d3f0e6c2",
   "metadata": {},
   "outputs": [],
   "source": [
    "# Create network plot \n",
    "G = nx.Graph()\n",
    "\n",
    "edges = [(\"Chicago\", \"Washington\"),\n",
    "         (\"Chicago\", \"New York\"),\n",
    "         (\"Washington\", \"Dallas\"),\n",
    "         (\"New York\", \"Detorit\"),\n",
    "         (\"Detorit\", \"Dallas\"),\n",
    "         (\"Detorit\", \"Seattle\"),\n",
    "         (\"Dallas\", \"Seattle\"),\n",
    "         (\"Detorit\", \"Denver\"),\n",
    "         (\"Detorit\", \"Cincinnati\"),\n",
    "         (\"Denver\", \"Miami\"),\n",
    "         (\"Cincinnati\", \"Miami\"),\n",
    "         (\"Denver\", \"Cincinnati\")]\n",
    "\n",
    "for x,y in edges:\n",
    "    G.add_edge(x, y)"
   ]
  },
  {
   "cell_type": "code",
   "execution_count": 5,
   "id": "25af644f-1a34-4482-91f4-05227123c6cd",
   "metadata": {},
   "outputs": [
    {
     "data": {
      "image/png": "[encoded data removed]",
      "text/plain": [
       "<Figure size 720x576 with 1 Axes>"
      ]
     },
     "metadata": {},
     "output_type": "display_data"
    }
   ],
   "source": [
    "fig, ax = plt.subplots(figsize=(10, 8))\n",
    "    \n",
    "# 建立節點的布局 (節點位置)\n",
    "pos = nx.spring_layout(G, scale=len(G.nodes()))\n",
    "# pos = nx.random_layout(G)\n",
    "\n",
    "# networks\n",
    "nx.draw_networkx(G, pos,\n",
    "                 edge_color='grey',\n",
    "                 with_labels = True,\n",
    "                 ax=ax)\n",
    "\n",
    "plt.show()"
   ]
  },
  {
   "cell_type": "markdown",
   "id": "a664ee78-49c2-484f-92e6-62ef692e3667",
   "metadata": {},
   "source": [
    "### 1.B 計算圖形"
   ]
  },
  {
   "cell_type": "code",
   "execution_count": 6,
   "id": "5234157a-b9df-47f7-bf38-177597eb0a55",
   "metadata": {},
   "outputs": [
    {
     "data": {
      "text/plain": [
       "0.3333333333333333"
      ]
     },
     "execution_count": 6,
     "metadata": {},
     "output_type": "execute_result"
    }
   ],
   "source": [
    "# Density\n",
    "nx.density(G)"
   ]
  },
  {
   "cell_type": "code",
   "execution_count": 7,
   "id": "cef07545-3f9b-4ffa-862c-65adfa33e267",
   "metadata": {},
   "outputs": [
    {
     "data": {
      "text/plain": [
       "2.0"
      ]
     },
     "execution_count": 7,
     "metadata": {},
     "output_type": "execute_result"
    }
   ],
   "source": [
    "# Distance\n",
    "nx.average_shortest_path_length(G)"
   ]
  },
  {
   "cell_type": "code",
   "execution_count": 8,
   "id": "81650907-f992-4b29-b16e-d263dc384319",
   "metadata": {},
   "outputs": [
    {
     "data": {
      "text/plain": [
       "4"
      ]
     },
     "execution_count": 8,
     "metadata": {},
     "output_type": "execute_result"
    }
   ],
   "source": [
    "# Diameter\n",
    "nx.diameter(G)"
   ]
  },
  {
   "cell_type": "code",
   "execution_count": 9,
   "id": "7e597314-4461-4c66-a1ba-ff09eb652ff2",
   "metadata": {},
   "outputs": [
    {
     "data": {
      "text/plain": [
       "0.4296296296296296"
      ]
     },
     "execution_count": 9,
     "metadata": {},
     "output_type": "execute_result"
    }
   ],
   "source": [
    "# clustering coefficient\n",
    "nx.average_clustering(G)"
   ]
  },
  {
   "cell_type": "markdown",
   "id": "1195e593-b91f-4f73-b628-09b2e65f1929",
   "metadata": {},
   "source": [
    "### 2.A LDA（K=4）"
   ]
  },
  {
   "cell_type": "code",
   "execution_count": 10,
   "id": "7cd861f4-9654-4525-88cf-731891046378",
   "metadata": {},
   "outputs": [],
   "source": [
    "import pandas as pd\n",
    "import jieba\n",
    "import re\n",
    "import matplotlib\n",
    "import matplotlib.pyplot as plt\n",
    "import gensim\n",
    "from gensim.models import CoherenceModel\n",
    "from gensim import corpora\n",
    "import pyLDAvis.gensim_models\n",
    "import numpy as np"
   ]
  },
  {
   "cell_type": "code",
   "execution_count": 11,
   "id": "9413e53c-19db-4f92-b794-8ad5b8d11659",
   "metadata": {},
   "outputs": [],
   "source": [
    "# 設定圖的字體大小\n",
    "font = {'size':14}\n",
    "matplotlib.rc('font', **font)"
   ]
  },
  {
   "cell_type": "code",
   "execution_count": 12,
   "id": "92cf9fef-270c-49a5-ad43-5dabcd147f36",
   "metadata": {},
   "outputs": [],
   "source": [
    "# 匯入資料\n",
    "metadata = pd.read_csv('./News2.csv', encoding='UTF-8')"
   ]
  },
  {
   "cell_type": "code",
   "execution_count": 13,
   "id": "65645b81-2d0a-4f8a-944d-f0c19c3c652f",
   "metadata": {},
   "outputs": [
    {
     "name": "stderr",
     "output_type": "stream",
     "text": [
      "Building prefix dict from /Users/beemo/Documents/中山/二上/社群媒體/final/dict/dict.txt ...\n"
     ]
    },
    {
     "name": "stdout",
     "output_type": "stream",
     "text": [
      "--> 匯入自定義字典，這裡匯入疫苗的名稱\n"
     ]
    },
    {
     "name": "stderr",
     "output_type": "stream",
     "text": [
      "Dumping model to file cache /var/folders/pb/7gdg5h6n4y3_8g14d0151y9w0000gn/T/jieba.u452bae8558d79866e1e581e434745ee3.cache\n",
      "Loading model cost 0.327 seconds.\n",
      "Prefix dict has been built successfully.\n"
     ]
    }
   ],
   "source": [
    "# 初始化斷詞引擎：不一定要設定，只使用內建效果也可以\n",
    "jieba.set_dictionary('./dict/dict.txt') \n",
    "\n",
    "# 自定義辭典\n",
    "print(\"--> 匯入自定義字典，這裡匯入疫苗的名稱\")\n",
    "jieba.load_userdict('./dict/user_dict.txt')"
   ]
  },
  {
   "cell_type": "code",
   "execution_count": 14,
   "id": "9f70d89f-dba5-4e04-b50e-5f55219a7c0c",
   "metadata": {},
   "outputs": [
    {
     "name": "stdout",
     "output_type": "stream",
     "text": [
      "資料斷詞後的 DataFrame：article_content(文章)、wordlist(斷詞)\n"
     ]
    },
    {
     "data": {
      "text/html": [
       "<div>\n",
       "<style scoped>\n",
       "    .dataframe tbody tr th:only-of-type {\n",
       "        vertical-align: middle;\n",
       "    }\n",
       "\n",
       "    .dataframe tbody tr th {\n",
       "        vertical-align: top;\n",
       "    }\n",
       "\n",
       "    .dataframe thead th {\n",
       "        text-align: right;\n",
       "    }\n",
       "</style>\n",
       "<table border=\"1\" class=\"dataframe\">\n",
       "  <thead>\n",
       "    <tr style=\"text-align: right;\">\n",
       "      <th></th>\n",
       "      <th>article_content</th>\n",
       "      <th>wordlist</th>\n",
       "    </tr>\n",
       "  </thead>\n",
       "  <tbody>\n",
       "    <tr>\n",
       "      <th>0</th>\n",
       "      <td>最後就剩李政宰獲勝\\n\\n其餘全部死光\\n\\n爽拿所有獎金\\n\\n然後一開始有腦癌的老頭居然...</td>\n",
       "      <td>[最後, 就, 剩, 李政宰, 獲勝, \\n, \\n, 其餘, 全部, 死光, \\n, \\n...</td>\n",
       "    </tr>\n",
       "    <tr>\n",
       "      <th>1</th>\n",
       "      <td>最近看魷魚遊戲\\n\\n日本的大逃殺、好萊塢的飢餓遊戲直接被海放\\n\\n為什麼韓國拍得出這麼獵...</td>\n",
       "      <td>[最近, 看, 魷魚, 遊戲, \\n, \\n, 日本, 的, 大逃殺, 、, 好萊塢, 的,...</td>\n",
       "    </tr>\n",
       "    <tr>\n",
       "      <th>2</th>\n",
       "      <td>魷魚遊戲我覺得算前面還好\\n後面有比較好看\\n\\n-防雷-\\n\\n\\n\\n\\n\\n\\n\\n\\...</td>\n",
       "      <td>[魷魚, 遊戲, 我, 覺得, 算, 前面, 還好, \\n, 後面, 有, 比較, 好看, ...</td>\n",
       "    </tr>\n",
       "  </tbody>\n",
       "</table>\n",
       "</div>"
      ],
      "text/plain": [
       "                                     article_content  \\\n",
       "0  最後就剩李政宰獲勝\\n\\n其餘全部死光\\n\\n爽拿所有獎金\\n\\n然後一開始有腦癌的老頭居然...   \n",
       "1  最近看魷魚遊戲\\n\\n日本的大逃殺、好萊塢的飢餓遊戲直接被海放\\n\\n為什麼韓國拍得出這麼獵...   \n",
       "2  魷魚遊戲我覺得算前面還好\\n後面有比較好看\\n\\n-防雷-\\n\\n\\n\\n\\n\\n\\n\\n\\...   \n",
       "\n",
       "                                            wordlist  \n",
       "0  [最後, 就, 剩, 李政宰, 獲勝, \\n, \\n, 其餘, 全部, 死光, \\n, \\n...  \n",
       "1  [最近, 看, 魷魚, 遊戲, \\n, \\n, 日本, 的, 大逃殺, 、, 好萊塢, 的,...  \n",
       "2  [魷魚, 遊戲, 我, 覺得, 算, 前面, 還好, \\n, 後面, 有, 比較, 好看, ...  "
      ]
     },
     "execution_count": 14,
     "metadata": {},
     "output_type": "execute_result"
    }
   ],
   "source": [
    "# 資料進行斷詞，為list的格式\n",
    "data = metadata[['article_content']]\n",
    "token_df = data.assign(wordlist = data['article_content'].apply(jieba.lcut))\n",
    "\n",
    "print(\"資料斷詞後的 DataFrame：article_content(文章)、wordlist(斷詞)\")\n",
    "token_df.head(3)"
   ]
  },
  {
   "cell_type": "code",
   "execution_count": 15,
   "id": "298ba238-f27c-4e0e-98a8-7c458e0255ef",
   "metadata": {},
   "outputs": [
    {
     "name": "stdout",
     "output_type": "stream",
     "text": [
      "stropwords儲存為list形式，前幾個為：\n"
     ]
    },
    {
     "data": {
      "text/plain": [
       "['$', '0', '1', '2', '3', '4', '5', '6', '7', '8', '9', '?', '_', '“', '”']"
      ]
     },
     "execution_count": 15,
     "metadata": {},
     "output_type": "execute_result"
    }
   ],
   "source": [
    "stopwords = []\n",
    "\n",
    "#匯入檔案\n",
    "with open(f'./dict/stopwords.txt','r') as f:\n",
    "    stopwords = f.read().splitlines() #移除換行符號\\n\n",
    "\n",
    "print(\"stropwords儲存為list形式，前幾個為：\")\n",
    "stopwords[:15]"
   ]
  },
  {
   "cell_type": "code",
   "execution_count": 16,
   "id": "4298cdf3-c9bb-4a08-a32a-e74134ef4149",
   "metadata": {},
   "outputs": [],
   "source": [
    "# 移除停用字的 function\n",
    "def remove_stop(listt):\n",
    "    result = [re.sub(r'\\d|-', '', word) for word in listt]\n",
    "    result = [word for word in result if len(word)>1] \n",
    "    result = list(filter(lambda x : x not in stopwords, result)) \n",
    "    return result"
   ]
  },
  {
   "cell_type": "code",
   "execution_count": 17,
   "id": "2c1cadc6-cd35-4cc2-b93d-06e97bf15c27",
   "metadata": {},
   "outputs": [
    {
     "name": "stdout",
     "output_type": "stream",
     "text": [
      "remove_stopwords 為 wordlist 移除停用字後的結果：\n"
     ]
    },
    {
     "data": {
      "text/html": [
       "<div>\n",
       "<style scoped>\n",
       "    .dataframe tbody tr th:only-of-type {\n",
       "        vertical-align: middle;\n",
       "    }\n",
       "\n",
       "    .dataframe tbody tr th {\n",
       "        vertical-align: top;\n",
       "    }\n",
       "\n",
       "    .dataframe thead th {\n",
       "        text-align: right;\n",
       "    }\n",
       "</style>\n",
       "<table border=\"1\" class=\"dataframe\">\n",
       "  <thead>\n",
       "    <tr style=\"text-align: right;\">\n",
       "      <th></th>\n",
       "      <th>article_content</th>\n",
       "      <th>wordlist</th>\n",
       "      <th>remove_stopwords</th>\n",
       "    </tr>\n",
       "  </thead>\n",
       "  <tbody>\n",
       "    <tr>\n",
       "      <th>0</th>\n",
       "      <td>最後就剩李政宰獲勝\\n\\n其餘全部死光\\n\\n爽拿所有獎金\\n\\n然後一開始有腦癌的老頭居然...</td>\n",
       "      <td>[最後, 就, 剩, 李政宰, 獲勝, \\n, \\n, 其餘, 全部, 死光, \\n, \\n...</td>\n",
       "      <td>[最後, 李政宰, 獲勝, 死光, 獎金, 腦癌, 老頭, 主辦, 方之一, 待在, 觀眾席...</td>\n",
       "    </tr>\n",
       "    <tr>\n",
       "      <th>1</th>\n",
       "      <td>最近看魷魚遊戲\\n\\n日本的大逃殺、好萊塢的飢餓遊戲直接被海放\\n\\n為什麼韓國拍得出這麼獵...</td>\n",
       "      <td>[最近, 看, 魷魚, 遊戲, \\n, \\n, 日本, 的, 大逃殺, 、, 好萊塢, 的,...</td>\n",
       "      <td>[最近, 魷魚, 遊戲, 日本, 大逃殺, 好萊塢, 飢餓, 遊戲, 直接, 海放, 韓國,...</td>\n",
       "    </tr>\n",
       "    <tr>\n",
       "      <th>2</th>\n",
       "      <td>魷魚遊戲我覺得算前面還好\\n後面有比較好看\\n\\n-防雷-\\n\\n\\n\\n\\n\\n\\n\\n\\...</td>\n",
       "      <td>[魷魚, 遊戲, 我, 覺得, 算, 前面, 還好, \\n, 後面, 有, 比較, 好看, ...</td>\n",
       "      <td>[魷魚, 遊戲, 前面, 還好, 後面, 好看, 防雷, 最後, 第六天, 決勝, 比賽, ...</td>\n",
       "    </tr>\n",
       "  </tbody>\n",
       "</table>\n",
       "</div>"
      ],
      "text/plain": [
       "                                     article_content  \\\n",
       "0  最後就剩李政宰獲勝\\n\\n其餘全部死光\\n\\n爽拿所有獎金\\n\\n然後一開始有腦癌的老頭居然...   \n",
       "1  最近看魷魚遊戲\\n\\n日本的大逃殺、好萊塢的飢餓遊戲直接被海放\\n\\n為什麼韓國拍得出這麼獵...   \n",
       "2  魷魚遊戲我覺得算前面還好\\n後面有比較好看\\n\\n-防雷-\\n\\n\\n\\n\\n\\n\\n\\n\\...   \n",
       "\n",
       "                                            wordlist  \\\n",
       "0  [最後, 就, 剩, 李政宰, 獲勝, \\n, \\n, 其餘, 全部, 死光, \\n, \\n...   \n",
       "1  [最近, 看, 魷魚, 遊戲, \\n, \\n, 日本, 的, 大逃殺, 、, 好萊塢, 的,...   \n",
       "2  [魷魚, 遊戲, 我, 覺得, 算, 前面, 還好, \\n, 後面, 有, 比較, 好看, ...   \n",
       "\n",
       "                                    remove_stopwords  \n",
       "0  [最後, 李政宰, 獲勝, 死光, 獎金, 腦癌, 老頭, 主辦, 方之一, 待在, 觀眾席...  \n",
       "1  [最近, 魷魚, 遊戲, 日本, 大逃殺, 好萊塢, 飢餓, 遊戲, 直接, 海放, 韓國,...  \n",
       "2  [魷魚, 遊戲, 前面, 還好, 後面, 好看, 防雷, 最後, 第六天, 決勝, 比賽, ...  "
      ]
     },
     "execution_count": 17,
     "metadata": {},
     "output_type": "execute_result"
    }
   ],
   "source": [
    "# list 刪掉 stopwords\n",
    "token_df = token_df.assign( remove_stopwords = token_df['wordlist'].apply(remove_stop))\n",
    "print(\"remove_stopwords 為 wordlist 移除停用字後的結果：\")\n",
    "token_df.head(3)"
   ]
  },
  {
   "cell_type": "code",
   "execution_count": 18,
   "id": "51d81094-575a-4daa-a82f-f48556e23bfe",
   "metadata": {},
   "outputs": [],
   "source": [
    "token_data = token_df['remove_stopwords'].tolist()"
   ]
  },
  {
   "cell_type": "code",
   "execution_count": 19,
   "id": "f8136f0c-7e71-4236-be19-514ff4beb91c",
   "metadata": {},
   "outputs": [
    {
     "name": "stdout",
     "output_type": "stream",
     "text": [
      "第 1 篇文章前10個字：\n",
      "最後 李政宰 獲勝 死光 獎金 腦癌 老頭 主辦 方之一 待在 \n",
      "\n",
      "第 2 篇文章前10個字：\n",
      "最近 魷魚 遊戲 日本 大逃殺 好萊塢 飢餓 遊戲 直接 海放 \n",
      "\n",
      "第 3 篇文章前10個字：\n",
      "魷魚 遊戲 前面 還好 後面 好看 防雷 最後 第六天 決勝 \n",
      "\n"
     ]
    }
   ],
   "source": [
    "for i in range(0,3):\n",
    "    print(\"第 \" + str(i+1) + \" 篇文章前10個字：\")\n",
    "    for j in range(0,10):\n",
    "        print(token_data[i][j], end=' ')\n",
    "    print('\\n')"
   ]
  },
  {
   "cell_type": "code",
   "execution_count": 20,
   "id": "4cda9201-19cb-4628-bf26-1dbdf47cd9b1",
   "metadata": {},
   "outputs": [
    {
     "name": "stdout",
     "output_type": "stream",
     "text": [
      "資料集字典：\n",
      "Dictionary(18413 unique tokens: ['下去', '主辦', '哥哥', '待在', '方之一']...)\n"
     ]
    }
   ],
   "source": [
    "id2word = corpora.Dictionary(token_data)\n",
    "print('資料集字典：')\n",
    "print(id2word)"
   ]
  },
  {
   "cell_type": "code",
   "execution_count": 21,
   "id": "0d6ae67b-dec8-4c25-858f-5bbdac72186f",
   "metadata": {},
   "outputs": [
    {
     "name": "stdout",
     "output_type": "stream",
     "text": [
      "第一篇文章 corpus :\n",
      "[(0, 1), (1, 1), (2, 2), (3, 1), (4, 1), (5, 1), (6, 1), (7, 1), (8, 1), (9, 1)]\n"
     ]
    }
   ],
   "source": [
    "corpus = [id2word.doc2bow(text) for text in token_data]\n",
    "print('第一篇文章 corpus :')\n",
    "print(corpus[0][:10])"
   ]
  },
  {
   "cell_type": "code",
   "execution_count": 22,
   "id": "3a4cf9a7-5d2f-4a62-994d-e0b65bf9cd2f",
   "metadata": {},
   "outputs": [],
   "source": [
    "warnings.filterwarnings(\"ignore\", category=DeprecationWarning)"
   ]
  },
  {
   "cell_type": "code",
   "execution_count": 23,
   "id": "5f1f06ca-e248-4611-a96c-2a3d0fafe3e1",
   "metadata": {},
   "outputs": [],
   "source": [
    "ldamodel = gensim.models.ldamulticore.LdaMulticore(\n",
    "    corpus=corpus, \n",
    "    id2word=id2word, # 字典\n",
    "    num_topics=4, # 生成幾個主題數\n",
    "    random_state=2021, # 亂數\n",
    "    iterations = 1000,\n",
    "    passes=5, # 模型訓練次數\n",
    ")"
   ]
  },
  {
   "cell_type": "code",
   "execution_count": 24,
   "id": "e6f64c20-6601-4dd6-89b5-0aec14912eb6",
   "metadata": {},
   "outputs": [
    {
     "name": "stdout",
     "output_type": "stream",
     "text": [
      "(0, '0.008*\"大樓\" + 0.005*\"高雄\" + 0.005*\"火災\" + 0.005*\"王力宏\" + 0.005*\"https\" + 0.005*\"台灣\" + 0.004*\"這種\" + 0.004*\"城中城\" + 0.004*\"消防\" + 0.004*\"新聞\"')\n",
      "(1, '0.011*\"高雄\" + 0.009*\"救護車\" + 0.009*\"分隊\" + 0.009*\"醫院\" + 0.008*\"城中城\" + 0.007*\"https\" + 0.007*\"意識\" + 0.007*\"男性\" + 0.006*\"清醒\" + 0.006*\"新聞\"')\n",
      "(2, '0.012*\"遊戲\" + 0.007*\"魷魚\" + 0.004*\"原文\" + 0.003*\"現在\" + 0.003*\"股價\" + 0.003*\"台股\" + 0.003*\"知道\" + 0.003*\"市值\" + 0.003*\"美元\" + 0.003*\"台灣\"')\n",
      "(3, '0.010*\"遊戲\" + 0.009*\"宇宙\" + 0.007*\"王力宏\" + 0.005*\"魷魚\" + 0.005*\"原文\" + 0.004*\"宏達電\" + 0.004*\"https\" + 0.004*\"股價\" + 0.003*\"時間\" + 0.003*\"VR\"')\n"
     ]
    }
   ],
   "source": [
    "# 每個主題重要的前10個關鍵字\n",
    "topics = ldamodel.print_topics(num_words=10)\n",
    "for topic in topics:\n",
    "    print(topic)"
   ]
  },
  {
   "cell_type": "markdown",
   "id": "0e52b3dd-9a9d-4f55-8f99-e6c1ebaffdbc",
   "metadata": {},
   "source": [
    "### 2.B LDAvis"
   ]
  },
  {
   "cell_type": "code",
   "execution_count": 25,
   "id": "6b06f41f-c139-4d83-9143-0cbb4d08974f",
   "metadata": {},
   "outputs": [
    {
     "name": "stderr",
     "output_type": "stream",
     "text": [
      "/opt/homebrew/Caskroom/miniforge/base/lib/python3.8/site-packages/pyLDAvis/_prepare.py:246: FutureWarning: In a future version of pandas all arguments of DataFrame.drop except for the argument 'labels' will be keyword-only\n",
      "  default_term_info = default_term_info.sort_values(\n"
     ]
    }
   ],
   "source": [
    "ldaVis = pyLDAvis.gensim_models.prepare(ldamodel, corpus, dictionary=ldamodel.id2word)\n",
    "pyLDAvis.save_html(ldaVis,'./lda_result/ldaVis.html')"
   ]
  },
  {
   "cell_type": "code",
   "execution_count": 26,
   "id": "7161dbbe-4cf5-4949-a052-28615f74b287",
   "metadata": {},
   "outputs": [
    {
     "data": {
      "text/html": [
       "\n",
       "<link rel=\"stylesheet\" type=\"text/css\" href=\"https://cdn.jsdelivr.net/gh/bmabey/pyLDAvis@3.3.1/pyLDAvis/js/ldavis.v1.0.0.css\">\n",
       "\n",
       "\n",
       "<div id=\"ldavis_el4578456620748006746857167\"></div>\n",
       "<script type=\"text/javascript\">\n",
       "\n",
       "var ldavis_el4578456620748006746857167_data = {\"mdsDat\": {\"x\": [-0.08768837927650365, -0.11056965606912966, 0.12789406515564394, 0.07036397018998937], \"y\": [0.0332627717331777, -0.0502539848510951, -0.06666730679260653, 0.08365851991052398], \"topics\": [1, 2, 3, 4], \"cluster\": [1, 1, 1, 1], \"Freq\": [32.407372412228106, 24.35901660864014, 24.349758958516272, 18.883852020615482]}, \"tinfo\": {\"Term\": [\"\\u6551\\u8b77\\u8eca\", \"\\u5206\\u968a\", \"\\u91ab\\u9662\", \"\\u9ad8\\u96c4\", \"\\u610f\\u8b58\", \"\\u7537\\u6027\", \"\\u6e05\\u9192\", \"\\u5b87\\u5b99\", \"\\u5927\\u6a13\", \"\\u904a\\u6232\", \"\\u57ce\\u4e2d\\u57ce\", \"\\u5b8f\\u9054\\u96fb\", \"\\u706b\\u707d\", \"\\u5438\\u5165\", \"\\u5927\\u706b\", \"\\u539f\\u6587\", \"\\u738b\\u529b\\u5b8f\", \"\\u767c\\u751f\", \"OHCA\", \"\\u80a1\\u50f9\", \"\\u6027\\u55c6\\u50b7\", \"\\u6d88\\u9632\", \"\\u9b77\\u9b5a\", \"\\u5973\\u6027\", \"VR\", \"imgur\", \"\\u5e02\\u503c\", \"USB\", \"\\u5e02\\u7acb\", \"\\u65b0\\u805e\", \"\\u5149\\u96fb\", \"VIVE\", \"HUD\", \"\\u5ddd\\u666e\", \"Fi\", \"\\u71b1\\u641c\", \"Phunware\", \"KY\", \"\\u8a55\\u5206\", \"Flow\", \"\\u5b8f\\u9054\\u96fb\", \"\\u7fa4\\u806f\", \"\\u5357\\u4e9e\\u79d1\", \"\\u6a21\\u5f0f\", \"\\u5f35\\u5fd7\\u8aa0\", \"DWAC\", \"\\u82f1\\u6fdf\", \"lurl\", \"\\u83ef\\u90a6\\u96fb\", \"\\u842c\\u65ed\", \"\\u6beb\\u7c73\", \"\\u805a\\u6703\", \"\\u8edf\\u9280\", \"GAME\", \"\\u5546\\u6e6f\", \"\\u8f1d\\u9054\", \"redirect\", \"\\u7e3d\\u7d93\\u7406\", \"HTC\", \"netflixkr\", \"VR\", \"\\u80a1\\u6771\", \"\\u53ef\\u671b\", \"\\u5b87\\u5b99\", \"\\u8667\\u640d\", \"\\u6f32\\u505c\", \"\\u773c\\u93e1\", \"Instagram\", \"\\u786c\\u9ad4\", \"\\u984c\\u6750\", \"AR\", \"\\u88dd\\u7f6e\", \"\\u79d1\\u6280\", \"\\u5104\\u5143\", \"\\u5f90\\u82e5\\u7444\", \"\\u5546\\u6a5f\", \".%\", \"\\u539f\\u6587\", \"\\u738b\\u529b\\u5b8f\", \"\\u904a\\u6232\", \"\\u96e2\\u5a5a\", \"\\u80a1\\u50f9\", \"\\u516c\\u53f8\", \"\\u5e02\\u5834\", \"\\u7522\\u54c1\", \"\\u9b77\\u9b5a\", \"\\u6642\\u9593\", \"\\u61c9\\u7528\", \"\\u5167\\u5bb9\", \"\\u767c\\u5e03\", \"\\u8a55\\u8ad6\", \"\\u674e\\u975a\\u857e\", \"\\u6700\\u5f8c\", \"\\u5b69\\u5b50\", \"https\", \"\\u5fc3\\u5f97\", \"\\u6a19\\u984c\", \"com\", \"\\u53f0\\u7063\", \"\\u9023\\u7d50\", \"\\u4e16\\u754c\", \"\\u65b0\\u805e\", \"\\u73fe\\u5728\", \"\\u76ee\\u524d\", \"\\u554f\\u984c\", \"\\u77e5\\u9053\", \"\\u8ca8\\u6ac3\", \"\\u8b1d\\u91d1\\u6cb3\", \"Nike\", \"\\u4e94\\u5143\", \"\\u806f\\u96fb\", \"\\u822a\\u904b\\u80a1\", \"\\u6ec5\\u706b\\u5668\", \"USB\", \"\\u967d\\u660e\", \"Roblox\", \"\\u6676\\u5713\", \"\\u4ecb\\u9762\", \"\\u65fa\\u5b8f\", \"Tesla\", \"\\u8eca\\u624b\", \"\\u8ce3\\u8d85\", \"\\u4e8c\\u5e74\", \"Giga\", \"Muse\", \"\\u5341\\u4e00\\u6708\", \"\\u5546\\u6a19\", \"\\u5341\\u5927\", \"production\", \"\\u9a30\\u8a0a\", \"USB.\", \"de\", \"\\u4e8c\\u4e8c\", \"\\u7e3d\\u5e79\\u4e8b\", \"\\u4e09\\u96c4\", \"\\u8b8a\\u5316\", \"\\u9739\\u9742\", \"\\u923a\\u5275\", \"\\u5e33\\u865f\", \"\\u865f\\u78bc\", \"\\u96fb\\u8a71\", \"\\u6797\\u50b3\\u5bcc\", \"\\u534a\\u5c0e\\u9ad4\", \"\\u50b3\\u8f38\", \"\\u6311\\u6230\", \"\\u5e02\\u503c\", \"\\u7f8e\\u5143\", \"\\u7f8e\\u5149\", \"\\u53f0\\u80a1\", \"\\u5104\\u7f8e\", \"\\u9577\\u69ae\", \"\\u904a\\u6232\", \"\\u80a1\\u5e02\", \"\\u9b77\\u9b5a\", \"\\u5916\\u8cc7\", \"\\u5168\\u7403\", \"\\u539f\\u6587\", \"\\u80a1\\u50f9\", \"\\u7522\\u696d\", \"\\u6307\\u6578\", \"\\u77e5\\u9053\", \"\\u660e\\u5e74\", \"\\u73fe\\u5728\", \"iPhone\", \"\\u7f8e\\u570b\", \"\\u81c9\\u66f8\", \"on\", \"\\u6642\\u9593\", \"Sent\", \"my\", \"\\u53f0\\u7063\", \"from\", \"\\u767c\\u5e03\", \"\\u5b87\\u5b99\", \"\\u6a19\\u984c\", \"\\u516c\\u53f8\", \"https\", \"\\u5167\\u5bb9\", \"JPTT\", \"\\u4e16\\u754c\", \"\\u706b\\u707d\", \"\\u554f\\u984c\", \"\\u6551\\u8b77\\u8eca\", \"\\u5206\\u968a\", \"\\u91ab\\u9662\", \"\\u6536\\u6cbb\", \"\\u5438\\u5165\", \"\\u6027\\u55c6\\u50b7\", \"\\u6e05\\u9192\", \"OHCA\", \"\\u5e02\\u7acb\", \"\\u610f\\u8b58\", \"\\u7537\\u6027\", \"\\u55c6\\u50b7\", \"\\u9ad8\\u91ab\", \"\\u7e3d\\u91ab\\u9662\", \"\\u5de6\\u71df\", \"\\u4f4f\\u9662\", \"\\u706b\\u6d77\", \"\\u5927\\u540c\", \"\\u5c0f\\u6e2f\", \"\\u7fa9\\u5927\", \"\\u4e8c\\u54e5\", \"\\u5927\\u660c\", \"\\u5168\\u68df\", \"\\u7537\\u5b50\", \"\\u7121\\u6548\", \"\\u5916\\u50b7\", \"\\u5de8\\u97ff\", \"\\u8521\\u82f1\\u6587\", \"\\u50b7\\u8005\", \"\\u4e94\\u7532\", \"\\u570b\\u8ecd\", \"\\u9ed1\\u7159\", \"\\u806f\\u5408\", \"\\u5973\\u6027\", \"\\u6436\\u6551\", \"\\u9ad8\\u96c4\", \"\\u7d9c\\u5408\", \"\\u57ce\\u4e2d\\u57ce\", \"\\u6b7b\\u4ea1\", \"\\u767c\\u751f\", \"\\u706b\\u8b66\", \"\\u73fe\\u5834\", \"\\u5927\\u706b\", \"imgur\", \"\\u65b0\\u805e\", \"\\u5b8c\\u6574\", \"https\", \"com\", \"\\u706b\\u707d\", \"jpg\", \"\\u76ee\\u524d\", \"\\u5927\\u6a13\", \"\\u738b\\u529b\\u5b8f\", \"\\u8a18\\u8005\", \"\\u9ad8\\u96c4\\u5e02\", \"\\u4eca\\u5929\", \"\\u73fe\\u5728\", \"\\u53f0\\u7063\", \"\\u745e\\u838e\", \"\\u7533\\u5831\", \"\\u58fd\\u96aa\", \"\\u90e8\\u4f4d\", \"\\u91d1\\u63a7\", \"\\u907f\\u96e3\", \"\\u4e2d\\u4fe1\\u91d1\", \"\\u70cf\\u514b\\u862d\", \"\\u8907\\u5408\\u5f0f\", \"\\u5927\\u5ec8\", \"\\u6c34\\u6876\", \"\\u8001\\u5916\", \"\\u8f15\\u751f\", \"\\u842c\\u80fd\", \"\\u4e2d\\u6587\\u5b57\", \"\\u554f\\u677f\", \"\\u5169\\u5247\", \"\\u672c\\u677f\", \"\\u7e41\\u9ad4\", \"\\u5c08\\u677f\", \"\\u677f\\u8ad6\", \"\\u4e94\\u5927\", \"\\u79d1\\u6280\\u80a1\", \"\\u570b\\u6cf0\\u91d1\", \"\\u73fe\\u884c\", \"\\u6df1\\u5207\", \"\\u4fee\\u6cd5\", \"\\u5ee3\\u5834\", \"\\u984f\\u5bb6\", \"Atropos\", \"Wecare\", \"\\u6295\\u7968\", \"\\u5167\\u653f\\u90e8\", \"\\u7ba1\\u59d4\\u6703\", \"\\u6cd5\\u898f\", \"\\u7522\\u6b0a\", \"\\u5217\\u7ba1\", \"\\u7dad\\u8b77\", \"\\u9632\\u706b\", \"\\u7ba1\\u7406\", \"\\u516c\\u5171\", \"\\u5b89\\u5168\", \"\\u5efa\\u7bc9\", \"\\u8001\\u820a\", \"\\u5efa\\u7269\", \"\\u516c\\u5bd3\", \"\\u6d88\\u9632\", \"\\u9003\\u751f\", \"\\u5927\\u6a13\", \"\\u516c\\u5b89\", \"\\u8907\\u96dc\", \"\\u53f0\\u4e2d\", \"\\u96fb\\u8996\", \"\\u6aa2\\u67e5\", \"\\u9019\\u7a2e\", \"\\u706b\\u707d\", \"\\u53f0\\u7063\", \"\\u623f\\u5b50\", \"\\u9ad8\\u96c4\", \"\\u554f\\u984c\", \"\\u57ce\\u4e2d\\u57ce\", \"\\u5927\\u706b\", \"\\u738b\\u529b\\u5b8f\", \"https\", \"\\u5730\\u65b9\", \"\\u65b0\\u805e\", \"\\u8655\\u7406\", \"\\u653f\\u5e9c\", \"\\u73fe\\u5728\", \"com\", \"\\u674e\\u975a\\u857e\", \"\\u8868\\u793a\", \"\\u767c\\u751f\", \"\\u6839\\u672c\", \"\\u6709\\u6c92\\u6709\", \"imgur\", \"\\u5831\\u5c0e\", \"\\u904a\\u6232\"], \"Freq\": [181.0, 180.0, 179.0, 322.0, 147.0, 139.0, 126.0, 285.0, 258.0, 561.0, 248.0, 123.0, 215.0, 69.0, 146.0, 235.0, 363.0, 172.0, 55.0, 162.0, 53.0, 107.0, 319.0, 81.0, 89.0, 125.0, 75.0, 47.0, 42.0, 259.0, 12.915086675553312, 15.300353065439221, 15.263886182970458, 17.59460031566056, 10.400284871209427, 11.984210767490213, 11.965508828640305, 14.333033813685448, 9.551143953143102, 13.512500863467645, 114.03841236585193, 11.68092652016775, 8.556585779247115, 7.776919944369989, 9.314980151885456, 10.854322083833672, 10.077016960604308, 6.943262227078672, 6.93297502173809, 6.155321372729914, 6.155309982998581, 6.155154702994732, 6.924583067691433, 6.1550453615739285, 6.906114238676155, 19.922354636834747, 6.1066390034057765, 6.096859020767254, 15.201224437065068, 6.067964411346834, 79.25895352268294, 15.875766848309413, 20.16065059579806, 230.80785754815602, 41.444413744424544, 15.635856584758406, 20.131199787830845, 15.352253793180546, 13.269850989873177, 60.5562128356898, 49.13058714336655, 37.37197126577175, 31.37212200369287, 48.575992270743484, 41.045767073222265, 25.299973764369465, 51.6652670661494, 135.53893273217432, 189.0273950959391, 266.9566415257091, 47.71104392421685, 93.87097652744067, 76.7736959221032, 60.80458187304462, 32.57156094276541, 140.32803836717426, 79.41003299361628, 27.151178689280673, 53.03337729585787, 48.83975718759976, 40.82673798378301, 64.69539913995797, 57.42499041909735, 34.54056909954548, 108.53293818888866, 38.431790322263474, 56.274992025798056, 72.24426401246447, 66.79929816286912, 47.73770500732274, 40.52746747778254, 59.43523851509042, 55.50272571971072, 47.295242798995204, 44.97083250294058, 44.762154401337376, 41.149398405899305, 15.270542646088776, 23.665556525878518, 16.603870703184416, 15.84164656982454, 15.841354351051166, 13.576814098615964, 44.39686216176566, 11.172909462351997, 13.400184972304348, 10.405415117755114, 11.15410016177513, 11.117839921325757, 19.910367217190917, 10.31715705783869, 8.831184072700086, 9.548646796412495, 8.074602843661228, 10.27762419542343, 8.067291096189138, 8.790176418662949, 7.290563893981136, 7.2881947531055875, 6.546477871203031, 7.238487883162616, 7.238435375101775, 6.50216962895021, 7.950731762219274, 15.162018757646942, 15.153406294189455, 12.166950976926415, 20.513520463192535, 12.05478462713364, 22.992341546001008, 24.107224655202778, 10.606966167813225, 26.073436935531806, 25.4508671218149, 19.90368271274996, 54.18853338594347, 52.115204661499064, 16.5710029400572, 63.469228123446236, 32.785072063232306, 18.148024331954083, 234.1815863323699, 21.49678412753957, 138.21032057433786, 32.07896192471757, 33.9163536681306, 88.1905573797747, 64.03177665770369, 28.678902895170133, 22.925384636592224, 57.77014017732781, 29.228491070236558, 64.35460991350838, 29.347428676918636, 34.41322146715362, 36.10996694516561, 41.592150940827885, 47.22100593113289, 39.11361066199695, 37.623680737882154, 51.91672875743889, 38.76939521063419, 34.28780025643727, 50.73928800114314, 38.35682339589327, 37.62379945175884, 45.30341154922418, 32.26349808010407, 31.18076816781025, 30.338767167839332, 33.06379398201233, 31.571298011793832, 178.25979231105467, 177.22605961915173, 176.18091646960968, 35.67300893088179, 68.12081093243333, 52.18299406663006, 123.34590603256798, 54.39829333960773, 41.76360313626037, 144.17493879830053, 135.6066070763372, 25.790206181446948, 30.423121269709096, 21.03427723146953, 21.73353746068999, 16.236105626266518, 17.007421754431935, 35.37473043983043, 13.800687214973573, 13.010774322948006, 12.983849066057095, 12.218903396391573, 12.199262575657444, 36.626469053293896, 9.900686359692555, 12.180600772188747, 11.405846673136683, 9.863818030014961, 37.059228915987795, 11.351298980393114, 22.59638713899025, 16.95308287306316, 25.773250241395292, 65.8451275176297, 34.84933135365645, 220.0149836579435, 59.02268709810502, 149.6136193273862, 67.21916569816024, 104.86586658987855, 38.35281195970526, 54.54625502590506, 88.70980874708738, 76.66558690564655, 120.35979839678983, 64.09319323682544, 146.54525598457954, 104.07792428388724, 95.61578284489616, 63.20095021964695, 78.04558590924773, 94.10795020227297, 89.30881213130793, 52.17135996402126, 43.52671510136787, 50.12567942593987, 52.798428509850865, 51.28240772282587, 11.03726440255231, 15.277997092146935, 7.26594404139504, 7.26594359894016, 16.693631480597144, 7.968900868763721, 6.480410089958843, 7.154744511142544, 8.581864585821782, 9.29335504046036, 7.837022767241149, 6.342908386911907, 5.637799016552193, 7.039126184003831, 7.0380465940967145, 7.037107262386548, 7.032489803259225, 7.032434938854109, 7.031120405405732, 7.030590786914413, 7.028426297641621, 4.909420944055083, 4.9094191742355635, 4.909418289325803, 4.901967349147181, 4.897037516874604, 6.293622895377649, 6.982512754747582, 4.868966409470061, 4.865732064297512, 11.086148587510438, 20.89306454678601, 9.593941187713849, 19.903425716766762, 32.03834899882338, 12.092889183550119, 8.176963506248065, 9.428606417987792, 13.434641571233898, 36.17814091701239, 17.674587576051945, 41.71861401852829, 26.46192555340051, 34.92875452516049, 14.212544503355327, 19.723008545092434, 63.0983559256228, 20.201530577053404, 125.89394528634364, 22.305238938074886, 16.458273801567717, 16.88048548586521, 17.672396539486353, 17.244898404283028, 66.78930745501846, 79.0824242850385, 73.67669462284782, 32.99443736020459, 83.36345488019063, 49.48327594488034, 66.27000701150034, 47.63619672369751, 78.60668971882131, 73.88667308996241, 29.657486900991394, 56.781360351210964, 25.76399722574264, 33.996749867805576, 46.84297423381215, 46.142886726340045, 36.345987060637135, 34.75437066822938, 36.71227244810697, 29.856788046942654, 30.052873430826327, 28.988001342837237, 27.327905323747427, 26.704721783871918], \"Total\": [181.0, 180.0, 179.0, 322.0, 147.0, 139.0, 126.0, 285.0, 258.0, 561.0, 248.0, 123.0, 215.0, 69.0, 146.0, 235.0, 363.0, 172.0, 55.0, 162.0, 53.0, 107.0, 319.0, 81.0, 89.0, 125.0, 75.0, 47.0, 42.0, 259.0, 13.542943148867355, 16.079659640263436, 16.075161686353667, 18.606027809863093, 10.998310335069778, 12.689455437013855, 12.68640635066844, 15.227225365061612, 10.149285498028966, 14.37587081701201, 123.32876931912492, 12.668062679098457, 9.290936184239058, 8.446350495727811, 10.133748246323213, 11.81778134476751, 10.974128142449217, 7.599118272927531, 7.59772864868697, 6.753238997961077, 6.753238050609306, 6.753229815469796, 7.5974429705981334, 6.753222183260897, 7.59632799353196, 21.94135616564217, 6.750761265079406, 6.749579121509283, 16.858189839682197, 6.748983807989323, 89.3439372861319, 17.710264468935403, 22.753612186347397, 285.9619704755236, 48.76090754718918, 17.691195526495324, 23.553447252007654, 17.69171201595806, 15.16466163602166, 77.83744718721994, 63.58662468594981, 48.53079900130023, 40.16008220320032, 66.5711533333928, 55.13624954676329, 31.82063017497214, 73.26797926651707, 235.50485384505535, 363.15452235219226, 561.0063219808721, 69.89471053121966, 162.0071203780967, 132.24114434378524, 100.19580454794014, 45.82094893618954, 319.47131421305414, 154.04770586584655, 36.723582628201896, 92.5363118302519, 87.47727740477457, 67.88556010443655, 137.83329734107454, 120.80335364832257, 54.64789376267617, 374.2682788126548, 66.91006633025529, 137.5911537037637, 239.53126436234547, 243.6751292659817, 111.53696365278331, 78.1831555827692, 259.5447882844713, 219.49873837688213, 159.1609570348975, 153.8792874708399, 169.7155202594795, 42.30885864749039, 15.969789272286157, 24.762104980872863, 17.564548983000584, 16.77298544713508, 16.776305348629485, 14.381879896050236, 47.204289825155605, 11.986365176374276, 14.377190273767996, 11.18551559646279, 11.992869153941422, 11.995196906264507, 21.540361424753822, 11.197599063957313, 9.593744369567004, 10.386397357588256, 8.789314760438785, 11.191486083058674, 8.788165923609023, 9.59544861760397, 7.993047543082992, 7.991383184672739, 7.191863722657302, 7.999243142334442, 7.999227807886778, 7.193445442815994, 8.800226748806603, 16.821426274998988, 16.81690157672369, 13.625850651684626, 23.278045080596122, 13.570349025488719, 27.32389089861601, 28.904228457544157, 12.010694987384996, 32.240081946112134, 31.432226398010176, 24.15229653085629, 75.40615316984915, 73.82686027802612, 20.122500729036705, 99.93218536702616, 45.36287345955849, 22.460125542022094, 561.0063219808721, 28.148391197760574, 319.47131421305414, 53.075450959807924, 58.78568601562638, 235.50485384505535, 162.0071203780967, 47.196388628884094, 34.822461952003565, 169.7155202594795, 53.13472345194813, 219.49873837688213, 55.034693980223835, 74.53271852177163, 82.77444940796245, 109.23538989642213, 154.04770586584655, 106.04731405271832, 102.94551241684343, 243.6751292659817, 117.4604757702528, 87.47727740477457, 285.9619704755236, 137.5911537037637, 132.24114434378524, 374.2682788126548, 92.5363118302519, 89.90383676629298, 78.1831555827692, 215.04271981761087, 153.8792874708399, 181.1486608933487, 180.3550340803364, 179.51852416245902, 36.37651503242161, 69.54843467585064, 53.37254842769814, 126.18776581926082, 55.80567266529812, 42.86123373989834, 147.98511922974544, 139.9969427393038, 26.679268395216617, 31.542687487835778, 21.833087763731385, 22.642369556315888, 16.97173756840299, 17.78660123932864, 37.178106660160175, 14.557042123404871, 13.74789395287441, 13.737491615927924, 12.938848549239603, 12.936193686129421, 38.87070257419696, 10.508809006103666, 12.94078186636475, 12.125130317488965, 10.510658421065125, 39.55506685322064, 12.133623232327293, 24.25033088088694, 18.577259373005884, 29.104172953004365, 81.26219046100267, 41.07486383533835, 322.3943026668743, 75.45784269696934, 248.70873257237582, 97.62149712082105, 172.824531887342, 50.655013010296706, 79.05039545518927, 146.52133004050683, 125.10999834292414, 259.5447882844713, 109.90793721204479, 374.2682788126548, 239.53126436234547, 215.04271981761087, 110.87417028645277, 159.1609570348975, 258.44248911376496, 363.15452235219226, 116.86354134771432, 68.29342397832201, 131.4826791773089, 219.49873837688213, 243.6751292659817, 11.81182941575571, 16.54483578079246, 7.879747917238358, 7.8797479334608065, 18.10393848865345, 8.667075855312651, 7.094235920850912, 7.8829638276163845, 9.455986233396418, 10.262387389551211, 8.6768257832037, 7.09821989970918, 6.313271443518895, 7.891799352261284, 7.891880406897458, 7.891952294216845, 7.8923039671886865, 7.892300111516977, 7.8923983952820675, 7.8924421924218695, 7.892591659240013, 5.523209652268841, 5.523209338775053, 5.523209319350154, 5.523425913158828, 5.523447529462928, 7.1082870036642465, 7.888125527890946, 5.524380246131685, 5.523891407051892, 12.61863962124983, 24.59710027097239, 11.046370822551651, 23.68999101688991, 39.61405310590072, 14.206735644736652, 9.47278488999899, 11.050507648696147, 16.596929493349208, 50.742960137655935, 22.967576458775497, 62.631922398062386, 37.195062814983416, 52.35217198385105, 18.183362679299325, 26.90138511374785, 107.48394640134802, 27.741201550783853, 258.44248911376496, 31.68320830635525, 22.152714551505237, 24.580243929119028, 26.221611703946184, 25.462051706244974, 163.04470381647738, 215.04271981761087, 243.6751292659817, 74.17726872409457, 322.3943026668743, 153.8792874708399, 248.70873257237582, 146.52133004050683, 363.15452235219226, 374.2682788126548, 72.03359797388913, 259.5447882844713, 56.14544741701506, 103.75646953392321, 219.49873837688213, 239.53126436234547, 137.83329734107454, 126.23949174176772, 172.824531887342, 98.46696154260191, 106.60346567598292, 125.10999834292414, 100.84724815658363, 561.0063219808721], \"Category\": [\"Default\", \"Default\", \"Default\", \"Default\", \"Default\", \"Default\", \"Default\", \"Default\", \"Default\", \"Default\", \"Default\", \"Default\", \"Default\", \"Default\", \"Default\", \"Default\", \"Default\", \"Default\", \"Default\", \"Default\", \"Default\", \"Default\", \"Default\", \"Default\", \"Default\", \"Default\", \"Default\", \"Default\", \"Default\", \"Default\", \"Topic1\", \"Topic1\", \"Topic1\", \"Topic1\", \"Topic1\", \"Topic1\", \"Topic1\", \"Topic1\", \"Topic1\", \"Topic1\", \"Topic1\", \"Topic1\", \"Topic1\", \"Topic1\", \"Topic1\", \"Topic1\", \"Topic1\", \"Topic1\", \"Topic1\", \"Topic1\", \"Topic1\", \"Topic1\", \"Topic1\", \"Topic1\", \"Topic1\", \"Topic1\", \"Topic1\", \"Topic1\", \"Topic1\", \"Topic1\", \"Topic1\", \"Topic1\", \"Topic1\", \"Topic1\", \"Topic1\", \"Topic1\", \"Topic1\", \"Topic1\", \"Topic1\", \"Topic1\", \"Topic1\", \"Topic1\", \"Topic1\", \"Topic1\", \"Topic1\", \"Topic1\", \"Topic1\", \"Topic1\", \"Topic1\", \"Topic1\", \"Topic1\", \"Topic1\", \"Topic1\", \"Topic1\", \"Topic1\", \"Topic1\", \"Topic1\", \"Topic1\", \"Topic1\", \"Topic1\", \"Topic1\", \"Topic1\", \"Topic1\", \"Topic1\", \"Topic1\", \"Topic1\", \"Topic1\", \"Topic1\", \"Topic1\", \"Topic1\", \"Topic1\", \"Topic1\", \"Topic1\", \"Topic1\", \"Topic1\", \"Topic1\", \"Topic2\", \"Topic2\", \"Topic2\", \"Topic2\", \"Topic2\", \"Topic2\", \"Topic2\", \"Topic2\", \"Topic2\", \"Topic2\", \"Topic2\", \"Topic2\", \"Topic2\", \"Topic2\", \"Topic2\", \"Topic2\", \"Topic2\", \"Topic2\", \"Topic2\", \"Topic2\", \"Topic2\", \"Topic2\", \"Topic2\", \"Topic2\", \"Topic2\", \"Topic2\", \"Topic2\", \"Topic2\", \"Topic2\", \"Topic2\", \"Topic2\", \"Topic2\", \"Topic2\", \"Topic2\", \"Topic2\", \"Topic2\", \"Topic2\", \"Topic2\", \"Topic2\", \"Topic2\", \"Topic2\", \"Topic2\", \"Topic2\", \"Topic2\", \"Topic2\", \"Topic2\", \"Topic2\", \"Topic2\", \"Topic2\", \"Topic2\", \"Topic2\", \"Topic2\", \"Topic2\", \"Topic2\", \"Topic2\", \"Topic2\", \"Topic2\", \"Topic2\", \"Topic2\", \"Topic2\", \"Topic2\", \"Topic2\", \"Topic2\", \"Topic2\", \"Topic2\", \"Topic2\", \"Topic2\", \"Topic2\", \"Topic2\", \"Topic2\", \"Topic2\", \"Topic2\", \"Topic2\", \"Topic2\", \"Topic2\", \"Topic2\", \"Topic3\", \"Topic3\", \"Topic3\", \"Topic3\", \"Topic3\", \"Topic3\", \"Topic3\", \"Topic3\", \"Topic3\", \"Topic3\", \"Topic3\", \"Topic3\", \"Topic3\", \"Topic3\", \"Topic3\", \"Topic3\", \"Topic3\", \"Topic3\", \"Topic3\", \"Topic3\", \"Topic3\", \"Topic3\", \"Topic3\", \"Topic3\", \"Topic3\", \"Topic3\", \"Topic3\", \"Topic3\", \"Topic3\", \"Topic3\", \"Topic3\", \"Topic3\", \"Topic3\", \"Topic3\", \"Topic3\", \"Topic3\", \"Topic3\", \"Topic3\", \"Topic3\", \"Topic3\", \"Topic3\", \"Topic3\", \"Topic3\", \"Topic3\", \"Topic3\", \"Topic3\", \"Topic3\", \"Topic3\", \"Topic3\", \"Topic3\", \"Topic3\", \"Topic3\", \"Topic3\", \"Topic3\", \"Topic3\", \"Topic3\", \"Topic3\", \"Topic3\", \"Topic4\", \"Topic4\", \"Topic4\", \"Topic4\", \"Topic4\", \"Topic4\", \"Topic4\", \"Topic4\", \"Topic4\", \"Topic4\", \"Topic4\", \"Topic4\", \"Topic4\", \"Topic4\", \"Topic4\", \"Topic4\", \"Topic4\", \"Topic4\", \"Topic4\", \"Topic4\", \"Topic4\", \"Topic4\", \"Topic4\", \"Topic4\", \"Topic4\", \"Topic4\", \"Topic4\", \"Topic4\", \"Topic4\", \"Topic4\", \"Topic4\", \"Topic4\", \"Topic4\", \"Topic4\", \"Topic4\", \"Topic4\", \"Topic4\", \"Topic4\", \"Topic4\", \"Topic4\", \"Topic4\", \"Topic4\", \"Topic4\", \"Topic4\", \"Topic4\", \"Topic4\", \"Topic4\", \"Topic4\", \"Topic4\", \"Topic4\", \"Topic4\", \"Topic4\", \"Topic4\", \"Topic4\", \"Topic4\", \"Topic4\", \"Topic4\", \"Topic4\", \"Topic4\", \"Topic4\", \"Topic4\", \"Topic4\", \"Topic4\", \"Topic4\", \"Topic4\", \"Topic4\", \"Topic4\", \"Topic4\", \"Topic4\", \"Topic4\", \"Topic4\", \"Topic4\", \"Topic4\", \"Topic4\", \"Topic4\", \"Topic4\", \"Topic4\", \"Topic4\"], \"logprob\": [30.0, 29.0, 28.0, 27.0, 26.0, 25.0, 24.0, 23.0, 22.0, 21.0, 20.0, 19.0, 18.0, 17.0, 16.0, 15.0, 14.0, 13.0, 12.0, 11.0, 10.0, 9.0, 8.0, 7.0, 6.0, 5.0, 4.0, 3.0, 2.0, 1.0, -7.6109, -7.4414, -7.4438, -7.3017, -7.8275, -7.6857, -7.6873, -7.5067, -7.9126, -7.5657, -5.4328, -7.7113, -8.0226, -8.1181, -7.9377, -7.7847, -7.859, -8.2315, -8.233, -8.352, -8.352, -8.352, -8.2342, -8.352, -8.2369, -7.1775, -8.3599, -8.3615, -7.4479, -8.3663, -5.7966, -7.4045, -7.1656, -4.7277, -6.4449, -7.4197, -7.167, -7.438, -7.5838, -6.0657, -6.2748, -6.5484, -6.7234, -6.2862, -6.4546, -6.9385, -6.2245, -5.26, -4.9274, -4.5822, -6.3041, -5.6274, -5.8284, -6.0616, -6.6859, -5.2253, -5.7947, -6.8679, -6.1984, -6.2808, -6.46, -5.9996, -6.1188, -6.6272, -5.4822, -6.5204, -6.1391, -5.8892, -5.9676, -6.3036, -6.4673, -6.0844, -6.1529, -6.3129, -6.3633, -6.3679, -6.1666, -7.1579, -6.7198, -7.0742, -7.1212, -7.1212, -7.2755, -6.0907, -7.4703, -7.2886, -7.5415, -7.472, -7.4753, -6.8926, -7.55, -7.7055, -7.6274, -7.7951, -7.5538, -7.796, -7.7102, -7.8972, -7.8976, -8.0049, -7.9044, -7.9044, -8.0117, -7.8106, -7.165, -7.1656, -7.3851, -6.8627, -7.3944, -6.7487, -6.7013, -7.5223, -6.6229, -6.6471, -6.8929, -5.8913, -5.9304, -7.0762, -5.7333, -6.3938, -6.9853, -4.4277, -6.8159, -4.955, -6.4156, -6.3599, -5.4043, -5.7244, -6.5277, -6.7516, -5.8273, -6.5087, -5.7194, -6.5046, -6.3454, -6.2972, -6.1559, -6.029, -6.2173, -6.2562, -5.9342, -6.2262, -6.349, -5.9571, -6.2369, -6.2562, -6.0704, -6.4099, -6.444, -6.4714, -6.3854, -6.4316, -4.7002, -4.706, -4.7119, -6.309, -5.6622, -5.9287, -5.0684, -5.8871, -6.1514, -4.9124, -4.9737, -6.6334, -6.4682, -6.8373, -6.8046, -7.0962, -7.0498, -6.3174, -7.2587, -7.3177, -7.3197, -7.3805, -7.3821, -6.2827, -7.5908, -7.3836, -7.4493, -7.5946, -6.2709, -7.4541, -6.7656, -7.053, -6.6341, -5.6961, -6.3324, -4.4897, -5.8055, -4.8754, -5.6755, -5.2308, -6.2366, -5.8844, -5.3981, -5.544, -5.093, -5.7231, -4.8961, -5.2383, -5.3231, -5.7371, -5.5261, -5.339, -5.3913, -5.9289, -6.1101, -5.9689, -5.917, -5.9461, -7.2279, -6.9028, -7.646, -7.646, -6.8142, -7.5537, -7.7604, -7.6614, -7.4796, -7.3999, -7.5704, -7.7819, -7.8997, -7.6777, -7.6779, -7.678, -7.6787, -7.6787, -7.6789, -7.679, -7.6793, -8.0381, -8.0381, -8.0381, -8.0396, -8.0406, -7.7897, -7.6858, -8.0463, -8.047, -7.2235, -6.5898, -7.3681, -6.6383, -6.1623, -7.1366, -7.5279, -7.3855, -7.0314, -6.0408, -6.7571, -5.8983, -6.3535, -6.0759, -6.9751, -6.6474, -5.4845, -6.6235, -4.7938, -6.5244, -6.8284, -6.8031, -6.7572, -6.7817, -5.4277, -5.2587, -5.3295, -6.1329, -5.206, -5.7276, -5.4355, -5.7656, -5.2648, -5.3267, -6.2395, -5.59, -6.3802, -6.103, -5.7824, -5.7975, -6.0361, -6.0809, -6.0261, -6.2328, -6.2263, -6.2623, -6.3213, -6.3444], \"loglift\": [30.0, 29.0, 28.0, 27.0, 26.0, 25.0, 24.0, 23.0, 22.0, 21.0, 20.0, 19.0, 18.0, 17.0, 16.0, 15.0, 14.0, 13.0, 12.0, 11.0, 10.0, 9.0, 8.0, 7.0, 6.0, 5.0, 4.0, 3.0, 2.0, 1.0, 1.0793, 1.0771, 1.075, 1.0709, 1.0709, 1.0696, 1.0683, 1.0663, 1.066, 1.0648, 1.0485, 1.0457, 1.0444, 1.0442, 1.0425, 1.0417, 1.0415, 1.0365, 1.0352, 1.0341, 1.0341, 1.0341, 1.0341, 1.034, 1.0315, 1.0303, 1.0265, 1.0251, 1.0233, 1.0204, 1.007, 1.0174, 1.0058, 0.9125, 0.9642, 1.0033, 0.9698, 0.985, 0.9933, 0.8757, 0.8689, 0.8655, 0.8798, 0.8116, 0.8317, 0.8975, 0.7774, 0.5743, 0.4738, 0.3841, 0.745, 0.5811, 0.583, 0.6273, 0.7855, 0.3041, 0.4641, 0.8248, 0.5701, 0.5439, 0.6183, 0.3704, 0.3831, 0.668, -0.1111, 0.5723, 0.2327, -0.0718, -0.1674, 0.2781, 0.4697, -0.3473, -0.2481, -0.0867, -0.1034, -0.206, 1.3845, 1.3675, 1.367, 1.356, 1.3551, 1.3549, 1.3547, 1.351, 1.342, 1.3419, 1.34, 1.3398, 1.3363, 1.3336, 1.3304, 1.3294, 1.3282, 1.3275, 1.3271, 1.3267, 1.3246, 1.3203, 1.3202, 1.3182, 1.3123, 1.3123, 1.3112, 1.3108, 1.3084, 1.3081, 1.299, 1.2858, 1.2938, 1.2397, 1.2308, 1.288, 1.2, 1.2012, 1.2188, 1.0818, 1.064, 1.2181, 0.9583, 1.0875, 1.1991, 0.5386, 1.1427, 0.5744, 0.9088, 0.8623, 0.43, 0.484, 0.9141, 0.9943, 0.3346, 0.8146, 0.1853, 0.7835, 0.6395, 0.5827, 0.4467, 0.2298, 0.4149, 0.4057, -0.1339, 0.3038, 0.4757, -0.3169, 0.1349, 0.1553, -0.6993, 0.3586, 0.3533, 0.4656, -0.4601, -0.1717, 1.3966, 1.3951, 1.3939, 1.3931, 1.3919, 1.3901, 1.3899, 1.3871, 1.3867, 1.3866, 1.3808, 1.3788, 1.3765, 1.3754, 1.3717, 1.3683, 1.3679, 1.3629, 1.3593, 1.3575, 1.3562, 1.3554, 1.354, 1.3532, 1.353, 1.3521, 1.3515, 1.3491, 1.3475, 1.346, 1.342, 1.3212, 1.2911, 1.2023, 1.2483, 1.0306, 1.167, 0.9044, 1.0395, 0.9131, 1.1344, 1.0416, 0.9108, 0.9229, 0.6442, 0.8733, 0.475, 0.5791, 0.6021, 0.8506, 0.7, 0.4024, 0.0099, 0.6062, 0.9622, 0.4483, -0.0122, -0.1458, 1.599, 1.5872, 1.5858, 1.5858, 1.5858, 1.5829, 1.5764, 1.5699, 1.5699, 1.5677, 1.5651, 1.5544, 1.5537, 1.5525, 1.5524, 1.5522, 1.5515, 1.5515, 1.5513, 1.5512, 1.5509, 1.5491, 1.5491, 1.5491, 1.5475, 1.5465, 1.5451, 1.5449, 1.5406, 1.54, 1.5374, 1.5037, 1.5259, 1.4927, 1.4546, 1.5058, 1.5198, 1.5081, 1.4555, 1.3285, 1.4049, 1.2605, 1.3264, 1.2622, 1.4205, 1.3565, 1.1342, 1.3497, 0.9476, 1.3159, 1.3697, 1.2911, 1.2723, 1.2772, 0.7744, 0.6665, 0.4707, 0.8567, 0.3143, 0.5323, 0.3443, 0.5433, 0.1365, 0.0444, 0.7794, 0.1471, 0.8879, 0.5511, 0.1223, 0.0199, 0.3339, 0.377, 0.1177, 0.4736, 0.4007, 0.2046, 0.3612, -1.378]}, \"token.table\": {\"Topic\": [1, 2, 3, 4, 1, 2, 4, 4, 1, 4, 1, 1, 1, 2, 1, 4, 1, 1, 2, 3, 1, 2, 3, 4, 1, 2, 2, 1, 3, 1, 2, 3, 1, 2, 3, 4, 2, 4, 1, 2, 2, 1, 1, 2, 4, 3, 4, 1, 2, 3, 4, 2, 1, 2, 3, 4, 1, 2, 3, 4, 1, 2, 3, 4, 1, 2, 3, 4, 1, 2, 3, 4, 1, 1, 2, 3, 4, 1, 1, 2, 3, 4, 2, 1, 1, 2, 1, 2, 3, 4, 4, 4, 2, 3, 2, 2, 4, 3, 1, 2, 3, 4, 2, 3, 4, 1, 2, 3, 4, 1, 2, 3, 4, 1, 2, 3, 1, 1, 2, 3, 4, 3, 4, 3, 1, 2, 3, 4, 4, 1, 2, 3, 4, 1, 2, 3, 4, 1, 2, 3, 4, 1, 2, 3, 4, 1, 3, 3, 4, 2, 2, 1, 2, 1, 1, 2, 3, 4, 1, 2, 1, 2, 3, 4, 1, 2, 3, 4, 1, 2, 3, 4, 1, 3, 2, 1, 2, 4, 1, 4, 1, 2, 3, 4, 3, 4, 2, 3, 1, 2, 3, 4, 1, 2, 3, 4, 1, 2, 3, 4, 4, 3, 1, 2, 1, 3, 4, 1, 4, 3, 1, 2, 3, 4, 1, 2, 3, 4, 1, 3, 4, 1, 3, 4, 1, 2, 3, 4, 1, 2, 3, 4, 1, 2, 3, 4, 1, 2, 4, 4, 3, 1, 4, 3, 3, 1, 2, 4, 1, 2, 3, 4, 1, 3, 2, 4, 4, 2, 3, 4, 1, 2, 3, 4, 1, 1, 3, 4, 1, 2, 3, 4, 1, 3, 1, 2, 3, 4, 1, 2, 4, 1, 2, 3, 4, 1, 4, 1, 2, 3, 4, 1, 2, 3, 4, 3, 1, 2, 3, 4, 1, 3, 1, 2, 3, 4, 2, 1, 2, 3, 4, 1, 2, 3, 4, 2, 1, 2, 3, 4, 1, 2, 3, 4, 4, 1, 3, 4, 4, 1, 2, 3, 1, 2, 3, 4, 1, 2, 3, 4, 1, 1, 2, 3, 4, 1, 2, 3, 4, 1, 4, 1, 2, 3, 4, 1, 2, 3, 4, 4, 1, 3, 2, 1, 2, 4, 3, 1, 2, 3, 4, 1, 2, 3, 4, 4, 3, 1, 1, 2, 3, 4, 1, 2, 3, 4, 1, 2, 3, 4, 4, 4, 1, 2, 3, 4, 1, 2, 3, 4, 3, 4, 3, 4, 1, 3, 1, 3, 1, 2, 3, 4, 1, 2, 3, 4, 1, 2, 3, 4, 1, 2, 1, 2, 3, 4, 1, 2, 3, 1, 2, 4, 4, 1, 2, 3, 4, 1, 2, 3, 4, 1, 2, 3, 4, 3, 4, 2, 1, 3, 4, 1, 2, 3, 4, 1, 2, 1, 2, 3, 4, 1, 3, 4, 1, 2, 3, 4, 1, 1, 3, 4, 2, 1, 2, 3, 4, 1, 2, 3, 4, 1, 2, 1, 2, 3, 4, 2, 1, 1, 1, 4, 3, 1, 2, 3, 4, 1, 2, 3, 1, 2, 4, 1, 2, 3, 4, 1, 2, 3, 4, 4, 1, 2, 3, 4, 1, 2, 3, 4, 1, 1, 2, 3, 4, 2, 1, 2, 2, 2, 2, 1, 4, 1, 2, 1, 2, 3, 4, 1, 2, 3, 4, 1, 2, 3, 4, 1, 2, 3, 4, 4, 4, 1, 3, 4, 2, 4, 1, 2, 1, 2, 3, 4, 2, 3, 4, 2, 1, 2, 3, 4, 1, 2, 3, 4, 1, 2, 3, 1, 2, 1, 2, 3, 4, 4, 2, 1, 3, 1, 2, 3, 4, 1, 2, 3, 4, 1, 2, 3, 4, 3, 4], \"Freq\": [0.7097234087874403, 0.23202496056512473, 0.01364852709206616, 0.05459410836826464, 0.7706023120743993, 0.20444551136667738, 0.015726577797436723, 0.9051589959963581, 0.9308007720815046, 0.08461825200740951, 0.9092305722737688, 0.9738540487879721, 0.8884647709166305, 0.9101960981086334, 0.8897752453049119, 0.05931834968699413, 0.9331165864871903, 0.8478546330886397, 0.056523642205909316, 0.056523642205909316, 0.35593586604301114, 0.34481287022916707, 0.23358291209072607, 0.05561497906922049, 0.9194058447524234, 0.8935363834422035, 0.9692229323209178, 0.017919325262821074, 0.967643564192338, 0.9458943429923894, 0.9042100544304016, 0.06955461957156936, 0.3300413623168313, 0.36776037515304055, 0.23574383022630804, 0.06600827246336625, 0.9284895274327354, 0.04642447637163677, 0.04236903059887115, 0.9321186731751653, 0.8750827891396198, 0.9328555663230601, 0.884223400038835, 0.10073431139682931, 0.011192701266314367, 0.07924784525235166, 0.8717262977758683, 0.3005870661254626, 0.070971946168512, 0.4341813177367793, 0.19204173669126778, 0.8750844666654453, 0.32351307749107217, 0.3320265795303109, 0.28094556729487846, 0.06810801631390993, 0.29123494073768796, 0.12023460856143083, 0.3927663879673407, 0.19771913407879735, 0.1998739196033822, 0.5269403334998257, 0.1998739196033822, 0.05451106898274059, 0.119894494434292, 0.03197186518247787, 0.615458404762699, 0.23179602257296453, 0.1713654311992766, 0.027057699663043673, 0.5682116929239172, 0.23450006374637852, 0.9211595014829631, 0.34969955615189946, 0.36912730927144943, 0.23313303743459962, 0.048569382798874926, 0.8890227285620852, 0.32040898131262474, 0.3844907775751497, 0.2380181004036641, 0.06408179626252496, 0.8759434804009667, 0.8887886512943403, 0.059447991130589205, 0.8917198669588381, 0.5244096339472386, 0.3837143663028575, 0.02558095775352383, 0.06395239438380958, 0.8457570437381697, 0.8869875921943825, 0.9731080962031643, 0.9463154092066677, 0.9627977493749595, 0.9678586120516406, 0.9052707238708718, 0.9065717460793565, 0.235772500180008, 0.22816693565807228, 0.38027822609678713, 0.1445057259167791, 0.9172117079577143, 0.9427437783263798, 0.8440852200969183, 0.15907240984738283, 0.7953620492369141, 0.9354048151984706, 0.05056242244316057, 0.7360545453464613, 0.06008608533440501, 0.015021521333601252, 0.19527977733681626, 0.24248904800544926, 0.7274671440163478, 0.022044458909586298, 0.9599095157604082, 0.5727481347778687, 0.3458101945828641, 0.032419705742143506, 0.04322627432285801, 0.09052746970601928, 0.9052746970601929, 0.9276298957139737, 0.391251706986734, 0.5783720885890851, 0.017010943782031912, 0.034021887564063824, 0.8869399897801283, 0.04353963953466749, 0.04353963953466749, 0.13061891860400246, 0.7837135116240148, 0.5822696134557358, 0.2873538352119216, 0.060495544255141386, 0.06805748728703406, 0.03156246016283056, 0.06312492032566112, 0.22093722113981393, 0.6943741235822724, 0.037172807116498764, 0.18586403558249381, 0.037172807116498764, 0.7434561423299753, 0.016633857853192473, 0.9813976133383561, 0.10556557671395687, 0.844524613711655, 0.9103150838912076, 0.875761086402851, 0.15508645444379696, 0.8064495631077442, 0.9686860206044041, 0.5774827897580314, 0.3736653345493144, 0.02123098491757468, 0.029723378884604554, 0.878981316733542, 0.0878981316733542, 0.040683078771864764, 0.040683078771864764, 0.24409847263118856, 0.691612339121701, 0.2749562509798309, 0.2133988813574807, 0.2092950567159907, 0.303683023470261, 0.3102103680225213, 0.6304275221102852, 0.01000678606524262, 0.05003393032621311, 0.01437846882767055, 0.9777358802815974, 0.9379446817617729, 0.7856538309433995, 0.1571307661886799, 0.06285230647547196, 0.92149786132988, 0.8869795126776856, 0.29243701826035223, 0.2079552129851394, 0.18196081136199696, 0.31843141988349466, 0.9745394669316193, 0.9052707784372522, 0.041236550746949055, 0.9484406671798282, 0.05552964328465069, 0.04164723246348802, 0.4858843787406935, 0.41647232463488015, 0.03216614035726288, 0.10051918861644651, 0.603115131698679, 0.2653706579474188, 0.30739559647544257, 0.059495921898472755, 0.3668915183739153, 0.26773164854312737, 0.8883532916943, 0.9273010026689347, 0.37682204556576, 0.602915272905216, 0.026897550462718793, 0.9414142661951578, 0.026897550462718793, 0.0974432129718825, 0.8769889167469426, 0.9274395595816153, 0.04643199359807151, 0.10447198559566089, 0.3637172831848935, 0.4875359327797508, 0.01364988974265444, 0.05459955897061776, 0.6074200935481225, 0.3275973538237066, 0.13536430580564826, 0.8121858348338896, 0.049223383929326646, 0.6404638420649355, 0.1463917353291281, 0.21958760299369215, 0.8077997211163156, 0.178345392973732, 0.0069939369793620395, 0.0069939369793620395, 0.031932598001524426, 0.11176409300533549, 0.19159558800914656, 0.670584558032013, 0.1364778593839004, 0.10918228750712031, 0.5823055333713083, 0.17287195521960713, 0.9243585306929818, 0.05675885714781467, 0.01621681632794705, 0.8869244562502123, 0.961733838599721, 0.967428415347104, 0.05374602307483911, 0.9716297556791398, 0.9072067443377406, 0.26523034472996987, 0.7161219307709187, 0.013261517236498493, 0.6088079263919046, 0.309394192100804, 0.04990228904851677, 0.03992183123881342, 0.023331106287524515, 0.9799064640760297, 0.884280866870912, 0.07369007223924266, 0.8874098130473839, 0.05499532829196881, 0.16498598487590643, 0.7699345960875634, 0.02688528864635138, 0.1344264432317569, 0.1344264432317569, 0.6990175048051358, 0.8881215302803119, 0.7436124208126677, 0.1450951065000327, 0.10882132987502453, 0.5679265032026611, 0.34374498878055804, 0.029890868589613744, 0.05978173717922749, 0.01873622357296024, 0.9742836257939326, 0.013514872376424686, 0.006757436188212343, 0.9730708111025773, 0.006757436188212343, 0.7352223848461161, 0.21784366958403442, 0.027230458698004303, 0.2291807219706647, 0.026962437878901728, 0.3100680356073699, 0.4448802250018785, 0.12196559622681905, 0.8537591735877333, 0.22973677194411316, 0.6604932193393253, 0.08615128947904244, 0.028717096493014144, 0.1656157208441737, 0.8280786042208684, 0.852102642148946, 0.14607473865410506, 0.9896495023757491, 0.14456929835200055, 0.16384520479893397, 0.3662422224917347, 0.32769040959786794, 0.011040655725175359, 0.982618359540607, 0.2273210739078054, 0.08861668982846652, 0.4623479469311296, 0.21961527479228657, 0.917033716574943, 0.39522178032960203, 0.5457824585504029, 0.0376401695552002, 0.0188200847776001, 0.5128281499290724, 0.30510029172995445, 0.1103554246682814, 0.06491495568722436, 0.8940133258731776, 0.4718412053852073, 0.25661539240248116, 0.1655583176790201, 0.09933499060741206, 0.20637227749112907, 0.18761116135557188, 0.3283195323722508, 0.2814167420333578, 0.8869404230821288, 0.4715841618383013, 0.26118507424890536, 0.26118507424890536, 0.886907660021276, 0.0832591287223857, 0.9158504159462426, 0.0832591287223857, 0.3757605537974469, 0.18280243157713633, 0.13202397836126514, 0.3046707192952272, 0.4070029103801909, 0.27618054632941524, 0.2107693643040274, 0.10175072759504772, 0.947154632529922, 0.07854826559438131, 0.03927413279719066, 0.19637066398595326, 0.6676602575522411, 0.07170551780553482, 0.11268009940869758, 0.6863242418529761, 0.12292374480948827, 0.8884626833876609, 0.9219961538799274, 0.0757307007182543, 0.025243566906084768, 0.0757307007182543, 0.8077941409947126, 0.05582228975474937, 0.08373343463212406, 0.269807733814622, 0.5861340424248683, 0.9052317367602793, 0.015849397023675077, 0.9747379169560172, 0.9734471502466716, 0.9044046783631725, 0.05652529239769828, 0.05652529239769828, 0.9557756297144979, 0.03255167162104847, 0.15345788049922848, 0.44642292508866466, 0.36736886543754693, 0.01974138274916105, 0.01974138274916105, 0.75017254446812, 0.19741382749161052, 0.8879908817387824, 0.9515826193236414, 0.9456670587295036, 0.5204396155549047, 0.016521892557298565, 0.24507473959992868, 0.21753825200443108, 0.25512675113351807, 0.2915734298668778, 0.24145924660850818, 0.2141242375584884, 0.06325079047623884, 0.11385142285722992, 0.6957586952386272, 0.12650158095247768, 0.9052352794464328, 0.9312697985061639, 0.7201946002025394, 0.21824078794016347, 0.021824078794016346, 0.04364815758803269, 0.339008989137106, 0.6144537928110045, 0.021188061821069124, 0.04237612364213825, 0.07038914674043946, 0.8446697608852736, 0.060441820834567526, 0.9066273125185128, 0.05145263315429843, 0.951873713354521, 0.028572052515808334, 0.9714497855374833, 0.5601454623841042, 0.3886723616542764, 0.011431540048655188, 0.034294620145965564, 0.05207594027141223, 0.1330829584713868, 0.6075526364998093, 0.21408997667136137, 0.29529855107427394, 0.1068101142183544, 0.49006993582539077, 0.1068101142183544, 0.8491326040732843, 0.12736989061099263, 0.2651495863854945, 0.34174835578574847, 0.27693401244707205, 0.12373647364656411, 0.8572561862587299, 0.06594278355836383, 0.06594278355836383, 0.7719107705792903, 0.17430243206629137, 0.04980069487608325, 0.9052707752534523, 0.04221191976337368, 0.04221191976337368, 0.08442383952674735, 0.8442383952674736, 0.059121501620354316, 0.09853583603392387, 0.13795017044749341, 0.7094580194442518, 0.13252432938162487, 0.02650486587632497, 0.7818935433515867, 0.06626216469081243, 0.09049358018570218, 0.8144422216713196, 0.9090674852309776, 0.8889443166729382, 0.9618428793605964, 0.8869293780436214, 0.2709041116564023, 0.704350690306646, 0.013545205582820116, 0.013545205582820116, 0.1490868376846924, 0.8448254135465904, 0.4427585717319626, 0.45617549814808267, 0.040250779248360236, 0.06708463208060039, 0.9472640216565458, 0.9455993801350177, 0.8452823503320634, 0.038202808483608575, 0.13370982969263, 0.1528112339344343, 0.6685491484631501, 0.8884637668120885, 0.03435933402453108, 0.893342684637808, 0.06871866804906215, 0.9539148561494095, 0.5802214111368699, 0.3950443650293582, 0.006172568203583722, 0.018517704610751164, 0.14210403613824407, 0.7460461897257814, 0.07105201806912204, 0.03552600903456102, 0.9034308904909194, 0.05646443065568246, 0.25370147612217053, 0.43491681620943523, 0.22953943077720193, 0.08456715870739018, 0.9537260837534228, 0.9112341199405923, 0.9213279815158615, 0.8884625587531415, 0.8869967022152241, 0.9514151825120983, 0.17810883090352694, 0.21373059708423234, 0.16029794781317425, 0.46308296034917007, 0.10979402644855216, 0.8417542027722332, 0.03659800881618405, 0.8408375082092467, 0.12304939144525562, 0.020508231907542602, 0.25348644515662644, 0.2376435423343373, 0.2297220909231927, 0.27725079939006014, 0.7624024487832706, 0.20605471588737043, 0.020605471588737042, 0.020605471588737042, 0.9517780354009001, 0.045141194668264786, 0.09028238933652957, 0.13542358400479437, 0.7222591146922366, 0.23959568294006384, 0.10268386411717022, 0.44496341117440424, 0.21392471691077128, 0.9852910337325758, 0.6039576006580007, 0.30934413692239066, 0.05892269274712203, 0.04419201956034152, 0.9392735085134079, 0.059463986004657486, 0.8919597900698624, 0.969064193898598, 0.9381112997496095, 0.8930485850478315, 0.9213626251739936, 0.9503789047688589, 0.9115206849118047, 0.04557603424559024, 0.03604746528982787, 0.07209493057965574, 0.14418986115931148, 0.7209493057965574, 0.24533148924005455, 0.09199930846502045, 0.2514647764710559, 0.41093024447709137, 0.43035060690216487, 0.25103785402626283, 0.22414094109487753, 0.0986220140817461, 0.47593046555561547, 0.41710759902626976, 0.058822866529345735, 0.04812779988764651, 0.923033342911871, 0.8883532898654007, 0.011140911554007978, 0.9804002167527021, 0.005570455777003989, 0.05523659951820676, 0.9390221918095149, 0.08591786780527974, 0.9021376119554373, 0.08904669727949968, 0.8014202755154971, 0.04452334863974984, 0.04452334863974984, 0.060252108704849545, 0.12050421740969909, 0.7832774131630441, 0.9177094004846064, 0.6867472464680998, 0.014307234301418746, 0.17168681161702495, 0.14307234301418748, 0.07627296226413927, 0.15254592452827853, 0.07627296226413927, 0.6864566603772535, 0.10379104235238579, 0.8303283388190863, 0.06919402823492385, 0.07338991344928365, 0.8806789613914039, 0.78368448869191, 0.19270930049801063, 0.012847286699867377, 0.025694573399734754, 0.9050789006606, 0.9733221137028983, 0.0317030690674548, 0.951092072023644, 0.006203583572835569, 0.05273046036910234, 0.6823941930119126, 0.2574487182726761, 0.043928094759932854, 0.08785618951986571, 0.6442787231456819, 0.23428317205297525, 0.43822400876541473, 0.4319636657830517, 0.056343086841267605, 0.07199394429717527, 0.9150973057254206, 0.053829253277965915], \"Term\": [\".%\", \".%\", \".%\", \".%\", \"AR\", \"AR\", \"AR\", \"Atropos\", \"DWAC\", \"DWAC\", \"Fi\", \"Flow\", \"GAME\", \"Giga\", \"HTC\", \"HTC\", \"HUD\", \"Instagram\", \"Instagram\", \"Instagram\", \"JPTT\", \"JPTT\", \"JPTT\", \"JPTT\", \"KY\", \"Muse\", \"Nike\", \"OHCA\", \"OHCA\", \"Phunware\", \"Roblox\", \"Roblox\", \"Sent\", \"Sent\", \"Sent\", \"Sent\", \"Tesla\", \"Tesla\", \"USB\", \"USB\", \"USB.\", \"VIVE\", \"VR\", \"VR\", \"VR\", \"Wecare\", \"Wecare\", \"com\", \"com\", \"com\", \"com\", \"de\", \"from\", \"from\", \"from\", \"from\", \"https\", \"https\", \"https\", \"https\", \"iPhone\", \"iPhone\", \"iPhone\", \"iPhone\", \"imgur\", \"imgur\", \"imgur\", \"imgur\", \"jpg\", \"jpg\", \"jpg\", \"jpg\", \"lurl\", \"my\", \"my\", \"my\", \"my\", \"netflixkr\", \"on\", \"on\", \"on\", \"on\", \"production\", \"redirect\", \"\\u4e09\\u96c4\", \"\\u4e09\\u96c4\", \"\\u4e16\\u754c\", \"\\u4e16\\u754c\", \"\\u4e16\\u754c\", \"\\u4e16\\u754c\", \"\\u4e2d\\u4fe1\\u91d1\", \"\\u4e2d\\u6587\\u5b57\", \"\\u4e8c\\u4e8c\", \"\\u4e8c\\u54e5\", \"\\u4e8c\\u5e74\", \"\\u4e94\\u5143\", \"\\u4e94\\u5927\", \"\\u4e94\\u7532\", \"\\u4eca\\u5929\", \"\\u4eca\\u5929\", \"\\u4eca\\u5929\", \"\\u4eca\\u5929\", \"\\u4ecb\\u9762\", \"\\u4f4f\\u9662\", \"\\u4fee\\u6cd5\", \"\\u50b3\\u8f38\", \"\\u50b3\\u8f38\", \"\\u50b7\\u8005\", \"\\u50b7\\u8005\", \"\\u5104\\u5143\", \"\\u5104\\u5143\", \"\\u5104\\u5143\", \"\\u5104\\u5143\", \"\\u5104\\u7f8e\", \"\\u5104\\u7f8e\", \"\\u5104\\u7f8e\", \"\\u5149\\u96fb\", \"\\u5167\\u5bb9\", \"\\u5167\\u5bb9\", \"\\u5167\\u5bb9\", \"\\u5167\\u5bb9\", \"\\u5167\\u653f\\u90e8\", \"\\u5167\\u653f\\u90e8\", \"\\u5168\\u68df\", \"\\u5168\\u7403\", \"\\u5168\\u7403\", \"\\u5168\\u7403\", \"\\u5168\\u7403\", \"\\u5169\\u5247\", \"\\u516c\\u5171\", \"\\u516c\\u5171\", \"\\u516c\\u5171\", \"\\u516c\\u5171\", \"\\u516c\\u53f8\", \"\\u516c\\u53f8\", \"\\u516c\\u53f8\", \"\\u516c\\u53f8\", \"\\u516c\\u5b89\", \"\\u516c\\u5b89\", \"\\u516c\\u5b89\", \"\\u516c\\u5b89\", \"\\u516c\\u5bd3\", \"\\u516c\\u5bd3\", \"\\u516c\\u5bd3\", \"\\u516c\\u5bd3\", \"\\u5206\\u968a\", \"\\u5206\\u968a\", \"\\u5217\\u7ba1\", \"\\u5217\\u7ba1\", \"\\u5341\\u4e00\\u6708\", \"\\u5341\\u5927\", \"\\u534a\\u5c0e\\u9ad4\", \"\\u534a\\u5c0e\\u9ad4\", \"\\u5357\\u4e9e\\u79d1\", \"\\u539f\\u6587\", \"\\u539f\\u6587\", \"\\u539f\\u6587\", \"\\u539f\\u6587\", \"\\u53ef\\u671b\", \"\\u53ef\\u671b\", \"\\u53f0\\u4e2d\", \"\\u53f0\\u4e2d\", \"\\u53f0\\u4e2d\", \"\\u53f0\\u4e2d\", \"\\u53f0\\u7063\", \"\\u53f0\\u7063\", \"\\u53f0\\u7063\", \"\\u53f0\\u7063\", \"\\u53f0\\u80a1\", \"\\u53f0\\u80a1\", \"\\u53f0\\u80a1\", \"\\u53f0\\u80a1\", \"\\u5438\\u5165\", \"\\u5438\\u5165\", \"\\u5546\\u6a19\", \"\\u5546\\u6a5f\", \"\\u5546\\u6a5f\", \"\\u5546\\u6a5f\", \"\\u5546\\u6e6f\", \"\\u554f\\u677f\", \"\\u554f\\u984c\", \"\\u554f\\u984c\", \"\\u554f\\u984c\", \"\\u554f\\u984c\", \"\\u55c6\\u50b7\", \"\\u570b\\u6cf0\\u91d1\", \"\\u570b\\u8ecd\", \"\\u570b\\u8ecd\", \"\\u5730\\u65b9\", \"\\u5730\\u65b9\", \"\\u5730\\u65b9\", \"\\u5730\\u65b9\", \"\\u57ce\\u4e2d\\u57ce\", \"\\u57ce\\u4e2d\\u57ce\", \"\\u57ce\\u4e2d\\u57ce\", \"\\u57ce\\u4e2d\\u57ce\", \"\\u5831\\u5c0e\", \"\\u5831\\u5c0e\", \"\\u5831\\u5c0e\", \"\\u5831\\u5c0e\", \"\\u58fd\\u96aa\", \"\\u5916\\u50b7\", \"\\u5916\\u8cc7\", \"\\u5916\\u8cc7\", \"\\u5927\\u540c\", \"\\u5927\\u540c\", \"\\u5927\\u540c\", \"\\u5927\\u5ec8\", \"\\u5927\\u5ec8\", \"\\u5927\\u660c\", \"\\u5927\\u6a13\", \"\\u5927\\u6a13\", \"\\u5927\\u6a13\", \"\\u5927\\u6a13\", \"\\u5927\\u706b\", \"\\u5927\\u706b\", \"\\u5927\\u706b\", \"\\u5927\\u706b\", \"\\u5973\\u6027\", \"\\u5973\\u6027\", \"\\u5973\\u6027\", \"\\u5b69\\u5b50\", \"\\u5b69\\u5b50\", \"\\u5b69\\u5b50\", \"\\u5b87\\u5b99\", \"\\u5b87\\u5b99\", \"\\u5b87\\u5b99\", \"\\u5b87\\u5b99\", \"\\u5b89\\u5168\", \"\\u5b89\\u5168\", \"\\u5b89\\u5168\", \"\\u5b89\\u5168\", \"\\u5b8c\\u6574\", \"\\u5b8c\\u6574\", \"\\u5b8c\\u6574\", \"\\u5b8c\\u6574\", \"\\u5b8f\\u9054\\u96fb\", \"\\u5b8f\\u9054\\u96fb\", \"\\u5b8f\\u9054\\u96fb\", \"\\u5c08\\u677f\", \"\\u5c0f\\u6e2f\", \"\\u5ddd\\u666e\", \"\\u5ddd\\u666e\", \"\\u5de6\\u71df\", \"\\u5de8\\u97ff\", \"\\u5e02\\u503c\", \"\\u5e02\\u503c\", \"\\u5e02\\u503c\", \"\\u5e02\\u5834\", \"\\u5e02\\u5834\", \"\\u5e02\\u5834\", \"\\u5e02\\u5834\", \"\\u5e02\\u7acb\", \"\\u5e02\\u7acb\", \"\\u5e33\\u865f\", \"\\u5e33\\u865f\", \"\\u5ee3\\u5834\", \"\\u5efa\\u7269\", \"\\u5efa\\u7269\", \"\\u5efa\\u7269\", \"\\u5efa\\u7bc9\", \"\\u5efa\\u7bc9\", \"\\u5efa\\u7bc9\", \"\\u5efa\\u7bc9\", \"\\u5f35\\u5fd7\\u8aa0\", \"\\u5f90\\u82e5\\u7444\", \"\\u5f90\\u82e5\\u7444\", \"\\u5f90\\u82e5\\u7444\", \"\\u5fc3\\u5f97\", \"\\u5fc3\\u5f97\", \"\\u5fc3\\u5f97\", \"\\u5fc3\\u5f97\", \"\\u6027\\u55c6\\u50b7\", \"\\u6027\\u55c6\\u50b7\", \"\\u610f\\u8b58\", \"\\u610f\\u8b58\", \"\\u610f\\u8b58\", \"\\u610f\\u8b58\", \"\\u61c9\\u7528\", \"\\u61c9\\u7528\", \"\\u61c9\\u7528\", \"\\u623f\\u5b50\", \"\\u623f\\u5b50\", \"\\u623f\\u5b50\", \"\\u623f\\u5b50\", \"\\u6295\\u7968\", \"\\u6295\\u7968\", \"\\u6307\\u6578\", \"\\u6307\\u6578\", \"\\u6307\\u6578\", \"\\u6307\\u6578\", \"\\u6311\\u6230\", \"\\u6311\\u6230\", \"\\u6436\\u6551\", \"\\u6436\\u6551\", \"\\u6536\\u6cbb\", \"\\u653f\\u5e9c\", \"\\u653f\\u5e9c\", \"\\u653f\\u5e9c\", \"\\u653f\\u5e9c\", \"\\u6551\\u8b77\\u8eca\", \"\\u6551\\u8b77\\u8eca\", \"\\u65b0\\u805e\", \"\\u65b0\\u805e\", \"\\u65b0\\u805e\", \"\\u65b0\\u805e\", \"\\u65fa\\u5b8f\", \"\\u660e\\u5e74\", \"\\u660e\\u5e74\", \"\\u660e\\u5e74\", \"\\u660e\\u5e74\", \"\\u6642\\u9593\", \"\\u6642\\u9593\", \"\\u6642\\u9593\", \"\\u6642\\u9593\", \"\\u6676\\u5713\", \"\\u6700\\u5f8c\", \"\\u6700\\u5f8c\", \"\\u6700\\u5f8c\", \"\\u6700\\u5f8c\", \"\\u6709\\u6c92\\u6709\", \"\\u6709\\u6c92\\u6709\", \"\\u6709\\u6c92\\u6709\", \"\\u6709\\u6c92\\u6709\", \"\\u672c\\u677f\", \"\\u674e\\u975a\\u857e\", \"\\u674e\\u975a\\u857e\", \"\\u674e\\u975a\\u857e\", \"\\u677f\\u8ad6\", \"\\u6797\\u50b3\\u5bcc\", \"\\u6797\\u50b3\\u5bcc\", \"\\u6797\\u50b3\\u5bcc\", \"\\u6839\\u672c\", \"\\u6839\\u672c\", \"\\u6839\\u672c\", \"\\u6839\\u672c\", \"\\u6a19\\u984c\", \"\\u6a19\\u984c\", \"\\u6a19\\u984c\", \"\\u6a19\\u984c\", \"\\u6a21\\u5f0f\", \"\\u6aa2\\u67e5\", \"\\u6aa2\\u67e5\", \"\\u6aa2\\u67e5\", \"\\u6aa2\\u67e5\", \"\\u6b7b\\u4ea1\", \"\\u6b7b\\u4ea1\", \"\\u6b7b\\u4ea1\", \"\\u6b7b\\u4ea1\", \"\\u6beb\\u7c73\", \"\\u6c34\\u6876\", \"\\u6cd5\\u898f\", \"\\u6cd5\\u898f\", \"\\u6cd5\\u898f\", \"\\u6cd5\\u898f\", \"\\u6d88\\u9632\", \"\\u6d88\\u9632\", \"\\u6d88\\u9632\", \"\\u6d88\\u9632\", \"\\u6df1\\u5207\", \"\\u6e05\\u9192\", \"\\u6e05\\u9192\", \"\\u6ec5\\u706b\\u5668\", \"\\u6f32\\u505c\", \"\\u6f32\\u505c\", \"\\u6f32\\u505c\", \"\\u706b\\u6d77\", \"\\u706b\\u707d\", \"\\u706b\\u707d\", \"\\u706b\\u707d\", \"\\u706b\\u707d\", \"\\u706b\\u8b66\", \"\\u706b\\u8b66\", \"\\u706b\\u8b66\", \"\\u706b\\u8b66\", \"\\u70cf\\u514b\\u862d\", \"\\u7121\\u6548\", \"\\u71b1\\u641c\", \"\\u738b\\u529b\\u5b8f\", \"\\u738b\\u529b\\u5b8f\", \"\\u738b\\u529b\\u5b8f\", \"\\u738b\\u529b\\u5b8f\", \"\\u73fe\\u5728\", \"\\u73fe\\u5728\", \"\\u73fe\\u5728\", \"\\u73fe\\u5728\", \"\\u73fe\\u5834\", \"\\u73fe\\u5834\", \"\\u73fe\\u5834\", \"\\u73fe\\u5834\", \"\\u73fe\\u884c\", \"\\u745e\\u838e\", \"\\u7522\\u54c1\", \"\\u7522\\u54c1\", \"\\u7522\\u54c1\", \"\\u7522\\u54c1\", \"\\u7522\\u696d\", \"\\u7522\\u696d\", \"\\u7522\\u696d\", \"\\u7522\\u696d\", \"\\u7522\\u6b0a\", \"\\u7522\\u6b0a\", \"\\u7533\\u5831\", \"\\u7533\\u5831\", \"\\u7537\\u5b50\", \"\\u7537\\u5b50\", \"\\u7537\\u6027\", \"\\u7537\\u6027\", \"\\u767c\\u5e03\", \"\\u767c\\u5e03\", \"\\u767c\\u5e03\", \"\\u767c\\u5e03\", \"\\u767c\\u751f\", \"\\u767c\\u751f\", \"\\u767c\\u751f\", \"\\u767c\\u751f\", \"\\u76ee\\u524d\", \"\\u76ee\\u524d\", \"\\u76ee\\u524d\", \"\\u76ee\\u524d\", \"\\u773c\\u93e1\", \"\\u773c\\u93e1\", \"\\u77e5\\u9053\", \"\\u77e5\\u9053\", \"\\u77e5\\u9053\", \"\\u77e5\\u9053\", \"\\u786c\\u9ad4\", \"\\u786c\\u9ad4\", \"\\u786c\\u9ad4\", \"\\u79d1\\u6280\", \"\\u79d1\\u6280\", \"\\u79d1\\u6280\", \"\\u79d1\\u6280\\u80a1\", \"\\u7ba1\\u59d4\\u6703\", \"\\u7ba1\\u59d4\\u6703\", \"\\u7ba1\\u59d4\\u6703\", \"\\u7ba1\\u59d4\\u6703\", \"\\u7ba1\\u7406\", \"\\u7ba1\\u7406\", \"\\u7ba1\\u7406\", \"\\u7ba1\\u7406\", \"\\u7d9c\\u5408\", \"\\u7d9c\\u5408\", \"\\u7d9c\\u5408\", \"\\u7d9c\\u5408\", \"\\u7dad\\u8b77\", \"\\u7dad\\u8b77\", \"\\u7e3d\\u5e79\\u4e8b\", \"\\u7e3d\\u7d93\\u7406\", \"\\u7e3d\\u91ab\\u9662\", \"\\u7e41\\u9ad4\", \"\\u7f8e\\u5143\", \"\\u7f8e\\u5143\", \"\\u7f8e\\u5143\", \"\\u7f8e\\u5143\", \"\\u7f8e\\u5149\", \"\\u7f8e\\u5149\", \"\\u7f8e\\u570b\", \"\\u7f8e\\u570b\", \"\\u7f8e\\u570b\", \"\\u7f8e\\u570b\", \"\\u7fa4\\u806f\", \"\\u7fa9\\u5927\", \"\\u8001\\u5916\", \"\\u8001\\u820a\", \"\\u8001\\u820a\", \"\\u8001\\u820a\", \"\\u8001\\u820a\", \"\\u805a\\u6703\", \"\\u806f\\u5408\", \"\\u806f\\u5408\", \"\\u806f\\u5408\", \"\\u806f\\u96fb\", \"\\u80a1\\u50f9\", \"\\u80a1\\u50f9\", \"\\u80a1\\u50f9\", \"\\u80a1\\u50f9\", \"\\u80a1\\u5e02\", \"\\u80a1\\u5e02\", \"\\u80a1\\u5e02\", \"\\u80a1\\u5e02\", \"\\u80a1\\u6771\", \"\\u80a1\\u6771\", \"\\u81c9\\u66f8\", \"\\u81c9\\u66f8\", \"\\u81c9\\u66f8\", \"\\u81c9\\u66f8\", \"\\u822a\\u904b\\u80a1\", \"\\u82f1\\u6fdf\", \"\\u83ef\\u90a6\\u96fb\", \"\\u842c\\u65ed\", \"\\u842c\\u80fd\", \"\\u8521\\u82f1\\u6587\", \"\\u8655\\u7406\", \"\\u8655\\u7406\", \"\\u8655\\u7406\", \"\\u8655\\u7406\", \"\\u865f\\u78bc\", \"\\u865f\\u78bc\", \"\\u865f\\u78bc\", \"\\u8667\\u640d\", \"\\u8667\\u640d\", \"\\u8667\\u640d\", \"\\u8868\\u793a\", \"\\u8868\\u793a\", \"\\u8868\\u793a\", \"\\u8868\\u793a\", \"\\u88dd\\u7f6e\", \"\\u88dd\\u7f6e\", \"\\u88dd\\u7f6e\", \"\\u88dd\\u7f6e\", \"\\u8907\\u5408\\u5f0f\", \"\\u8907\\u96dc\", \"\\u8907\\u96dc\", \"\\u8907\\u96dc\", \"\\u8907\\u96dc\", \"\\u8a18\\u8005\", \"\\u8a18\\u8005\", \"\\u8a18\\u8005\", \"\\u8a18\\u8005\", \"\\u8a55\\u5206\", \"\\u8a55\\u8ad6\", \"\\u8a55\\u8ad6\", \"\\u8a55\\u8ad6\", \"\\u8a55\\u8ad6\", \"\\u8b1d\\u91d1\\u6cb3\", \"\\u8b8a\\u5316\", \"\\u8b8a\\u5316\", \"\\u8ca8\\u6ac3\", \"\\u8ce3\\u8d85\", \"\\u8eca\\u624b\", \"\\u8edf\\u9280\", \"\\u8f15\\u751f\", \"\\u8f1d\\u9054\", \"\\u8f1d\\u9054\", \"\\u9003\\u751f\", \"\\u9003\\u751f\", \"\\u9003\\u751f\", \"\\u9003\\u751f\", \"\\u9019\\u7a2e\", \"\\u9019\\u7a2e\", \"\\u9019\\u7a2e\", \"\\u9019\\u7a2e\", \"\\u9023\\u7d50\", \"\\u9023\\u7d50\", \"\\u9023\\u7d50\", \"\\u9023\\u7d50\", \"\\u904a\\u6232\", \"\\u904a\\u6232\", \"\\u904a\\u6232\", \"\\u904a\\u6232\", \"\\u907f\\u96e3\", \"\\u90e8\\u4f4d\", \"\\u91ab\\u9662\", \"\\u91ab\\u9662\", \"\\u91ab\\u9662\", \"\\u91d1\\u63a7\", \"\\u91d1\\u63a7\", \"\\u923a\\u5275\", \"\\u923a\\u5275\", \"\\u9577\\u69ae\", \"\\u9577\\u69ae\", \"\\u9577\\u69ae\", \"\\u9577\\u69ae\", \"\\u9632\\u706b\", \"\\u9632\\u706b\", \"\\u9632\\u706b\", \"\\u967d\\u660e\", \"\\u96e2\\u5a5a\", \"\\u96e2\\u5a5a\", \"\\u96e2\\u5a5a\", \"\\u96e2\\u5a5a\", \"\\u96fb\\u8996\", \"\\u96fb\\u8996\", \"\\u96fb\\u8996\", \"\\u96fb\\u8996\", \"\\u96fb\\u8a71\", \"\\u96fb\\u8a71\", \"\\u96fb\\u8a71\", \"\\u9739\\u9742\", \"\\u9739\\u9742\", \"\\u984c\\u6750\", \"\\u984c\\u6750\", \"\\u984c\\u6750\", \"\\u984c\\u6750\", \"\\u984f\\u5bb6\", \"\\u9a30\\u8a0a\", \"\\u9ad8\\u91ab\", \"\\u9ad8\\u91ab\", \"\\u9ad8\\u96c4\", \"\\u9ad8\\u96c4\", \"\\u9ad8\\u96c4\", \"\\u9ad8\\u96c4\", \"\\u9ad8\\u96c4\\u5e02\", \"\\u9ad8\\u96c4\\u5e02\", \"\\u9ad8\\u96c4\\u5e02\", \"\\u9ad8\\u96c4\\u5e02\", \"\\u9b77\\u9b5a\", \"\\u9b77\\u9b5a\", \"\\u9b77\\u9b5a\", \"\\u9b77\\u9b5a\", \"\\u9ed1\\u7159\", \"\\u9ed1\\u7159\"]}, \"R\": 30, \"lambda.step\": 0.01, \"plot.opts\": {\"xlab\": \"PC1\", \"ylab\": \"PC2\"}, \"topic.order\": [4, 3, 2, 1]};\n",
       "\n",
       "function LDAvis_load_lib(url, callback){\n",
       "  var s = document.createElement('script');\n",
       "  s.src = url;\n",
       "  s.async = true;\n",
       "  s.onreadystatechange = s.onload = callback;\n",
       "  s.onerror = function(){console.warn(\"failed to load library \" + url);};\n",
       "  document.getElementsByTagName(\"head\")[0].appendChild(s);\n",
       "}\n",
       "\n",
       "if(typeof(LDAvis) !== \"undefined\"){\n",
       "   // already loaded: just create the visualization\n",
       "   !function(LDAvis){\n",
       "       new LDAvis(\"#\" + \"ldavis_el4578456620748006746857167\", ldavis_el4578456620748006746857167_data);\n",
       "   }(LDAvis);\n",
       "}else if(typeof define === \"function\" && define.amd){\n",
       "   // require.js is available: use it to load d3/LDAvis\n",
       "   require.config({paths: {d3: \"https://d3js.org/d3.v5\"}});\n",
       "   require([\"d3\"], function(d3){\n",
       "      window.d3 = d3;\n",
       "      LDAvis_load_lib(\"https://cdn.jsdelivr.net/gh/bmabey/pyLDAvis@3.3.1/pyLDAvis/js/ldavis.v3.0.0.js\", function(){\n",
       "        new LDAvis(\"#\" + \"ldavis_el4578456620748006746857167\", ldavis_el4578456620748006746857167_data);\n",
       "      });\n",
       "    });\n",
       "}else{\n",
       "    // require.js not available: dynamically load d3 & LDAvis\n",
       "    LDAvis_load_lib(\"https://d3js.org/d3.v5.js\", function(){\n",
       "         LDAvis_load_lib(\"https://cdn.jsdelivr.net/gh/bmabey/pyLDAvis@3.3.1/pyLDAvis/js/ldavis.v3.0.0.js\", function(){\n",
       "                 new LDAvis(\"#\" + \"ldavis_el4578456620748006746857167\", ldavis_el4578456620748006746857167_data);\n",
       "            })\n",
       "         });\n",
       "}\n",
       "</script>"
      ],
      "text/plain": [
       "<IPython.core.display.HTML object>"
      ]
     },
     "execution_count": 26,
     "metadata": {},
     "output_type": "execute_result"
    }
   ],
   "source": [
    "IPython.display.HTML('./lda_result/ldaVis.html')"
   ]
  },
  {
   "cell_type": "markdown",
   "id": "34b226a6-bc95-487c-a6e3-a32ad5220183",
   "metadata": {},
   "source": [
    "### 3. perplexity"
   ]
  },
  {
   "cell_type": "code",
   "execution_count": 27,
   "id": "58abfe70-362f-4ec5-afc6-150a82825c93",
   "metadata": {},
   "outputs": [
    {
     "name": "stdout",
     "output_type": "stream",
     "text": [
      "這個主題的 PMI score:  -4.283010906779129\n"
     ]
    }
   ],
   "source": [
    "PMI_model_lda = CoherenceModel(model=ldamodel, texts=token_data, coherence='c_uci')\n",
    "PMI_lda = PMI_model_lda.get_coherence()\n",
    "print('這個主題的 PMI score: ', PMI_lda)"
   ]
  },
  {
   "cell_type": "code",
   "execution_count": 28,
   "id": "69fd5efd-b7bf-41d2-9846-a3ce6922d9f8",
   "metadata": {},
   "outputs": [
    {
     "name": "stdout",
     "output_type": "stream",
     "text": [
      "這個主題的 Perplexity Score:  -8.822055781322648\n"
     ]
    }
   ],
   "source": [
    "perplexity = ldamodel.log_perplexity(corpus)\n",
    "print('這個主題的 Perplexity Score: ', perplexity)"
   ]
  },
  {
   "cell_type": "code",
   "execution_count": 29,
   "id": "146a66f7-5ec7-40a8-be84-89cbafc85087",
   "metadata": {},
   "outputs": [],
   "source": [
    "topic_num_list = np.arange(2, 10, 2)\n",
    "result = []\n",
    "for topic_num in topic_num_list:\n",
    "    # perplexity\n",
    "    tmp_ldamodel = gensim.models.ldamulticore.LdaMulticore(\n",
    "        corpus = corpus,\n",
    "        num_topics = topic_num ,\n",
    "        id2word=id2word,\n",
    "        random_state = 2021,\n",
    "        passes=5,\n",
    "        iterations=1000\n",
    "        )\n",
    "    tmp_perplexity = tmp_ldamodel.log_perplexity(corpus)\n",
    "    temp_skleran = np.exp(-1. * tmp_perplexity)\n",
    "    \n",
    "    result.append({\"topic_num\": topic_num, \"gensim_perplexity\": tmp_perplexity, \"perplexity\":temp_skleran})"
   ]
  },
  {
   "cell_type": "code",
   "execution_count": 30,
   "id": "09cb03d8-993a-44ad-8ead-d17a3dfbb4f5",
   "metadata": {},
   "outputs": [
    {
     "data": {
      "text/html": [
       "<div>\n",
       "<style scoped>\n",
       "    .dataframe tbody tr th:only-of-type {\n",
       "        vertical-align: middle;\n",
       "    }\n",
       "\n",
       "    .dataframe tbody tr th {\n",
       "        vertical-align: top;\n",
       "    }\n",
       "\n",
       "    .dataframe thead th {\n",
       "        text-align: right;\n",
       "    }\n",
       "</style>\n",
       "<table border=\"1\" class=\"dataframe\">\n",
       "  <thead>\n",
       "    <tr style=\"text-align: right;\">\n",
       "      <th></th>\n",
       "      <th>topic_num</th>\n",
       "      <th>gensim_perplexity</th>\n",
       "      <th>perplexity</th>\n",
       "    </tr>\n",
       "  </thead>\n",
       "  <tbody>\n",
       "    <tr>\n",
       "      <th>0</th>\n",
       "      <td>2</td>\n",
       "      <td>-8.849144</td>\n",
       "      <td>6968.424265</td>\n",
       "    </tr>\n",
       "    <tr>\n",
       "      <th>1</th>\n",
       "      <td>4</td>\n",
       "      <td>-8.822056</td>\n",
       "      <td>6782.196468</td>\n",
       "    </tr>\n",
       "    <tr>\n",
       "      <th>2</th>\n",
       "      <td>6</td>\n",
       "      <td>-8.824168</td>\n",
       "      <td>6796.536091</td>\n",
       "    </tr>\n",
       "    <tr>\n",
       "      <th>3</th>\n",
       "      <td>8</td>\n",
       "      <td>-8.857638</td>\n",
       "      <td>7027.861702</td>\n",
       "    </tr>\n",
       "  </tbody>\n",
       "</table>\n",
       "</div>"
      ],
      "text/plain": [
       "   topic_num  gensim_perplexity   perplexity\n",
       "0          2          -8.849144  6968.424265\n",
       "1          4          -8.822056  6782.196468\n",
       "2          6          -8.824168  6796.536091\n",
       "3          8          -8.857638  7027.861702"
      ]
     },
     "execution_count": 30,
     "metadata": {},
     "output_type": "execute_result"
    },
    {
     "data": {
      "image/png": "[encoded data removed]",
      "text/plain": [
       "<Figure size 432x288 with 1 Axes>"
      ]
     },
     "metadata": {
      "needs_background": "light"
     },
     "output_type": "display_data"
    }
   ],
   "source": [
    "result = pd.DataFrame(result)\n",
    "result.plot.line(x='topic_num', y='perplexity', label='perplexity')\n",
    "result"
   ]
  },
  {
   "cell_type": "markdown",
   "id": "f16304bf-7497-4fbf-9908-d5f545061a43",
   "metadata": {},
   "source": [
    "### 最佳的主題數為 4，也就是找 perplexity 較低 topic_num 也最少的"
   ]
  },
  {
   "cell_type": "code",
   "execution_count": 31,
   "id": "21d4ea21-e983-47a5-98b2-69136c8ef1f3",
   "metadata": {},
   "outputs": [],
   "source": [
    "ldamodel = gensim.models.ldamulticore.LdaMulticore(\n",
    "    corpus=corpus, \n",
    "    id2word=id2word, # 字典\n",
    "    num_topics=4, # 生成幾個主題數\n",
    "    random_state=2021, # 亂數\n",
    "    iterations = 1000,\n",
    "    passes=5, # 模型訓練次數\n",
    ")"
   ]
  },
  {
   "cell_type": "code",
   "execution_count": 32,
   "id": "a1bca2c2-cb0f-4880-9d79-f98663ade72e",
   "metadata": {},
   "outputs": [
    {
     "name": "stderr",
     "output_type": "stream",
     "text": [
      "/opt/homebrew/Caskroom/miniforge/base/lib/python3.8/site-packages/pyLDAvis/_prepare.py:246: FutureWarning: In a future version of pandas all arguments of DataFrame.drop except for the argument 'labels' will be keyword-only\n",
      "  default_term_info = default_term_info.sort_values(\n"
     ]
    }
   ],
   "source": [
    "ldaVis = pyLDAvis.gensim_models.prepare(ldamodel, corpus, dictionary=ldamodel.id2word)\n",
    "pyLDAvis.save_html(ldaVis,'./lda_result/ldaVis4.html')"
   ]
  },
  {
   "cell_type": "code",
   "execution_count": 33,
   "id": "8b1cc21e-772d-41ab-a124-871c52c9327e",
   "metadata": {},
   "outputs": [
    {
     "data": {
      "text/html": [
       "\n",
       "<link rel=\"stylesheet\" type=\"text/css\" href=\"https://cdn.jsdelivr.net/gh/bmabey/pyLDAvis@3.3.1/pyLDAvis/js/ldavis.v1.0.0.css\">\n",
       "\n",
       "\n",
       "<div id=\"ldavis_el4578456627550728079253145\"></div>\n",
       "<script type=\"text/javascript\">\n",
       "\n",
       "var ldavis_el4578456627550728079253145_data = {\"mdsDat\": {\"x\": [-0.08768837927650365, -0.11056965606912966, 0.12789406515564394, 0.07036397018998937], \"y\": [0.0332627717331777, -0.0502539848510951, -0.06666730679260653, 0.08365851991052398], \"topics\": [1, 2, 3, 4], \"cluster\": [1, 1, 1, 1], \"Freq\": [32.407372412228106, 24.35901660864014, 24.349758958516272, 18.883852020615482]}, \"tinfo\": {\"Term\": [\"\\u6551\\u8b77\\u8eca\", \"\\u5206\\u968a\", \"\\u91ab\\u9662\", \"\\u9ad8\\u96c4\", \"\\u610f\\u8b58\", \"\\u7537\\u6027\", \"\\u6e05\\u9192\", \"\\u5b87\\u5b99\", \"\\u5927\\u6a13\", \"\\u904a\\u6232\", \"\\u57ce\\u4e2d\\u57ce\", \"\\u5b8f\\u9054\\u96fb\", \"\\u706b\\u707d\", \"\\u5438\\u5165\", \"\\u5927\\u706b\", \"\\u539f\\u6587\", \"\\u738b\\u529b\\u5b8f\", \"\\u767c\\u751f\", \"OHCA\", \"\\u80a1\\u50f9\", \"\\u6027\\u55c6\\u50b7\", \"\\u6d88\\u9632\", \"\\u9b77\\u9b5a\", \"\\u5973\\u6027\", \"VR\", \"imgur\", \"\\u5e02\\u503c\", \"USB\", \"\\u5e02\\u7acb\", \"\\u65b0\\u805e\", \"\\u5149\\u96fb\", \"VIVE\", \"HUD\", \"\\u5ddd\\u666e\", \"Fi\", \"\\u71b1\\u641c\", \"Phunware\", \"KY\", \"\\u8a55\\u5206\", \"Flow\", \"\\u5b8f\\u9054\\u96fb\", \"\\u7fa4\\u806f\", \"\\u5357\\u4e9e\\u79d1\", \"\\u6a21\\u5f0f\", \"\\u5f35\\u5fd7\\u8aa0\", \"DWAC\", \"\\u82f1\\u6fdf\", \"lurl\", \"\\u83ef\\u90a6\\u96fb\", \"\\u842c\\u65ed\", \"\\u6beb\\u7c73\", \"\\u805a\\u6703\", \"\\u8edf\\u9280\", \"GAME\", \"\\u5546\\u6e6f\", \"\\u8f1d\\u9054\", \"redirect\", \"\\u7e3d\\u7d93\\u7406\", \"HTC\", \"netflixkr\", \"VR\", \"\\u80a1\\u6771\", \"\\u53ef\\u671b\", \"\\u5b87\\u5b99\", \"\\u8667\\u640d\", \"\\u6f32\\u505c\", \"\\u773c\\u93e1\", \"Instagram\", \"\\u786c\\u9ad4\", \"\\u984c\\u6750\", \"AR\", \"\\u88dd\\u7f6e\", \"\\u79d1\\u6280\", \"\\u5104\\u5143\", \"\\u5f90\\u82e5\\u7444\", \"\\u5546\\u6a5f\", \".%\", \"\\u539f\\u6587\", \"\\u738b\\u529b\\u5b8f\", \"\\u904a\\u6232\", \"\\u96e2\\u5a5a\", \"\\u80a1\\u50f9\", \"\\u516c\\u53f8\", \"\\u5e02\\u5834\", \"\\u7522\\u54c1\", \"\\u9b77\\u9b5a\", \"\\u6642\\u9593\", \"\\u61c9\\u7528\", \"\\u5167\\u5bb9\", \"\\u767c\\u5e03\", \"\\u8a55\\u8ad6\", \"\\u674e\\u975a\\u857e\", \"\\u6700\\u5f8c\", \"\\u5b69\\u5b50\", \"https\", \"\\u5fc3\\u5f97\", \"\\u6a19\\u984c\", \"com\", \"\\u53f0\\u7063\", \"\\u9023\\u7d50\", \"\\u4e16\\u754c\", \"\\u65b0\\u805e\", \"\\u73fe\\u5728\", \"\\u76ee\\u524d\", \"\\u554f\\u984c\", \"\\u77e5\\u9053\", \"\\u8ca8\\u6ac3\", \"\\u8b1d\\u91d1\\u6cb3\", \"Nike\", \"\\u4e94\\u5143\", \"\\u806f\\u96fb\", \"\\u822a\\u904b\\u80a1\", \"\\u6ec5\\u706b\\u5668\", \"USB\", \"\\u967d\\u660e\", \"Roblox\", \"\\u6676\\u5713\", \"\\u4ecb\\u9762\", \"\\u65fa\\u5b8f\", \"Tesla\", \"\\u8eca\\u624b\", \"\\u8ce3\\u8d85\", \"\\u4e8c\\u5e74\", \"Giga\", \"Muse\", \"\\u5341\\u4e00\\u6708\", \"\\u5546\\u6a19\", \"\\u5341\\u5927\", \"production\", \"\\u9a30\\u8a0a\", \"USB.\", \"de\", \"\\u4e8c\\u4e8c\", \"\\u7e3d\\u5e79\\u4e8b\", \"\\u4e09\\u96c4\", \"\\u8b8a\\u5316\", \"\\u9739\\u9742\", \"\\u923a\\u5275\", \"\\u5e33\\u865f\", \"\\u865f\\u78bc\", \"\\u96fb\\u8a71\", \"\\u6797\\u50b3\\u5bcc\", \"\\u534a\\u5c0e\\u9ad4\", \"\\u50b3\\u8f38\", \"\\u6311\\u6230\", \"\\u5e02\\u503c\", \"\\u7f8e\\u5143\", \"\\u7f8e\\u5149\", \"\\u53f0\\u80a1\", \"\\u5104\\u7f8e\", \"\\u9577\\u69ae\", \"\\u904a\\u6232\", \"\\u80a1\\u5e02\", \"\\u9b77\\u9b5a\", \"\\u5916\\u8cc7\", \"\\u5168\\u7403\", \"\\u539f\\u6587\", \"\\u80a1\\u50f9\", \"\\u7522\\u696d\", \"\\u6307\\u6578\", \"\\u77e5\\u9053\", \"\\u660e\\u5e74\", \"\\u73fe\\u5728\", \"iPhone\", \"\\u7f8e\\u570b\", \"\\u81c9\\u66f8\", \"on\", \"\\u6642\\u9593\", \"Sent\", \"my\", \"\\u53f0\\u7063\", \"from\", \"\\u767c\\u5e03\", \"\\u5b87\\u5b99\", \"\\u6a19\\u984c\", \"\\u516c\\u53f8\", \"https\", \"\\u5167\\u5bb9\", \"JPTT\", \"\\u4e16\\u754c\", \"\\u706b\\u707d\", \"\\u554f\\u984c\", \"\\u6551\\u8b77\\u8eca\", \"\\u5206\\u968a\", \"\\u91ab\\u9662\", \"\\u6536\\u6cbb\", \"\\u5438\\u5165\", \"\\u6027\\u55c6\\u50b7\", \"\\u6e05\\u9192\", \"OHCA\", \"\\u5e02\\u7acb\", \"\\u610f\\u8b58\", \"\\u7537\\u6027\", \"\\u55c6\\u50b7\", \"\\u9ad8\\u91ab\", \"\\u7e3d\\u91ab\\u9662\", \"\\u5de6\\u71df\", \"\\u4f4f\\u9662\", \"\\u706b\\u6d77\", \"\\u5927\\u540c\", \"\\u5c0f\\u6e2f\", \"\\u7fa9\\u5927\", \"\\u4e8c\\u54e5\", \"\\u5927\\u660c\", \"\\u5168\\u68df\", \"\\u7537\\u5b50\", \"\\u7121\\u6548\", \"\\u5916\\u50b7\", \"\\u5de8\\u97ff\", \"\\u8521\\u82f1\\u6587\", \"\\u50b7\\u8005\", \"\\u4e94\\u7532\", \"\\u570b\\u8ecd\", \"\\u9ed1\\u7159\", \"\\u806f\\u5408\", \"\\u5973\\u6027\", \"\\u6436\\u6551\", \"\\u9ad8\\u96c4\", \"\\u7d9c\\u5408\", \"\\u57ce\\u4e2d\\u57ce\", \"\\u6b7b\\u4ea1\", \"\\u767c\\u751f\", \"\\u706b\\u8b66\", \"\\u73fe\\u5834\", \"\\u5927\\u706b\", \"imgur\", \"\\u65b0\\u805e\", \"\\u5b8c\\u6574\", \"https\", \"com\", \"\\u706b\\u707d\", \"jpg\", \"\\u76ee\\u524d\", \"\\u5927\\u6a13\", \"\\u738b\\u529b\\u5b8f\", \"\\u8a18\\u8005\", \"\\u9ad8\\u96c4\\u5e02\", \"\\u4eca\\u5929\", \"\\u73fe\\u5728\", \"\\u53f0\\u7063\", \"\\u745e\\u838e\", \"\\u7533\\u5831\", \"\\u58fd\\u96aa\", \"\\u90e8\\u4f4d\", \"\\u91d1\\u63a7\", \"\\u907f\\u96e3\", \"\\u4e2d\\u4fe1\\u91d1\", \"\\u70cf\\u514b\\u862d\", \"\\u8907\\u5408\\u5f0f\", \"\\u5927\\u5ec8\", \"\\u6c34\\u6876\", \"\\u8001\\u5916\", \"\\u8f15\\u751f\", \"\\u842c\\u80fd\", \"\\u4e2d\\u6587\\u5b57\", \"\\u554f\\u677f\", \"\\u5169\\u5247\", \"\\u672c\\u677f\", \"\\u7e41\\u9ad4\", \"\\u5c08\\u677f\", \"\\u677f\\u8ad6\", \"\\u4e94\\u5927\", \"\\u79d1\\u6280\\u80a1\", \"\\u570b\\u6cf0\\u91d1\", \"\\u73fe\\u884c\", \"\\u6df1\\u5207\", \"\\u4fee\\u6cd5\", \"\\u5ee3\\u5834\", \"\\u984f\\u5bb6\", \"Atropos\", \"Wecare\", \"\\u6295\\u7968\", \"\\u5167\\u653f\\u90e8\", \"\\u7ba1\\u59d4\\u6703\", \"\\u6cd5\\u898f\", \"\\u7522\\u6b0a\", \"\\u5217\\u7ba1\", \"\\u7dad\\u8b77\", \"\\u9632\\u706b\", \"\\u7ba1\\u7406\", \"\\u516c\\u5171\", \"\\u5b89\\u5168\", \"\\u5efa\\u7bc9\", \"\\u8001\\u820a\", \"\\u5efa\\u7269\", \"\\u516c\\u5bd3\", \"\\u6d88\\u9632\", \"\\u9003\\u751f\", \"\\u5927\\u6a13\", \"\\u516c\\u5b89\", \"\\u8907\\u96dc\", \"\\u53f0\\u4e2d\", \"\\u96fb\\u8996\", \"\\u6aa2\\u67e5\", \"\\u9019\\u7a2e\", \"\\u706b\\u707d\", \"\\u53f0\\u7063\", \"\\u623f\\u5b50\", \"\\u9ad8\\u96c4\", \"\\u554f\\u984c\", \"\\u57ce\\u4e2d\\u57ce\", \"\\u5927\\u706b\", \"\\u738b\\u529b\\u5b8f\", \"https\", \"\\u5730\\u65b9\", \"\\u65b0\\u805e\", \"\\u8655\\u7406\", \"\\u653f\\u5e9c\", \"\\u73fe\\u5728\", \"com\", \"\\u674e\\u975a\\u857e\", \"\\u8868\\u793a\", \"\\u767c\\u751f\", \"\\u6839\\u672c\", \"\\u6709\\u6c92\\u6709\", \"imgur\", \"\\u5831\\u5c0e\", \"\\u904a\\u6232\"], \"Freq\": [181.0, 180.0, 179.0, 322.0, 147.0, 139.0, 126.0, 285.0, 258.0, 561.0, 248.0, 123.0, 215.0, 69.0, 146.0, 235.0, 363.0, 172.0, 55.0, 162.0, 53.0, 107.0, 319.0, 81.0, 89.0, 125.0, 75.0, 47.0, 42.0, 259.0, 12.915086675553312, 15.300353065439221, 15.263886182970458, 17.59460031566056, 10.400284871209427, 11.984210767490213, 11.965508828640305, 14.333033813685448, 9.551143953143102, 13.512500863467645, 114.03841236585193, 11.68092652016775, 8.556585779247115, 7.776919944369989, 9.314980151885456, 10.854322083833672, 10.077016960604308, 6.943262227078672, 6.93297502173809, 6.155321372729914, 6.155309982998581, 6.155154702994732, 6.924583067691433, 6.1550453615739285, 6.906114238676155, 19.922354636834747, 6.1066390034057765, 6.096859020767254, 15.201224437065068, 6.067964411346834, 79.25895352268294, 15.875766848309413, 20.16065059579806, 230.80785754815602, 41.444413744424544, 15.635856584758406, 20.131199787830845, 15.352253793180546, 13.269850989873177, 60.5562128356898, 49.13058714336655, 37.37197126577175, 31.37212200369287, 48.575992270743484, 41.045767073222265, 25.299973764369465, 51.6652670661494, 135.53893273217432, 189.0273950959391, 266.9566415257091, 47.71104392421685, 93.87097652744067, 76.7736959221032, 60.80458187304462, 32.57156094276541, 140.32803836717426, 79.41003299361628, 27.151178689280673, 53.03337729585787, 48.83975718759976, 40.82673798378301, 64.69539913995797, 57.42499041909735, 34.54056909954548, 108.53293818888866, 38.431790322263474, 56.274992025798056, 72.24426401246447, 66.79929816286912, 47.73770500732274, 40.52746747778254, 59.43523851509042, 55.50272571971072, 47.295242798995204, 44.97083250294058, 44.762154401337376, 41.149398405899305, 15.270542646088776, 23.665556525878518, 16.603870703184416, 15.84164656982454, 15.841354351051166, 13.576814098615964, 44.39686216176566, 11.172909462351997, 13.400184972304348, 10.405415117755114, 11.15410016177513, 11.117839921325757, 19.910367217190917, 10.31715705783869, 8.831184072700086, 9.548646796412495, 8.074602843661228, 10.27762419542343, 8.067291096189138, 8.790176418662949, 7.290563893981136, 7.2881947531055875, 6.546477871203031, 7.238487883162616, 7.238435375101775, 6.50216962895021, 7.950731762219274, 15.162018757646942, 15.153406294189455, 12.166950976926415, 20.513520463192535, 12.05478462713364, 22.992341546001008, 24.107224655202778, 10.606966167813225, 26.073436935531806, 25.4508671218149, 19.90368271274996, 54.18853338594347, 52.115204661499064, 16.5710029400572, 63.469228123446236, 32.785072063232306, 18.148024331954083, 234.1815863323699, 21.49678412753957, 138.21032057433786, 32.07896192471757, 33.9163536681306, 88.1905573797747, 64.03177665770369, 28.678902895170133, 22.925384636592224, 57.77014017732781, 29.228491070236558, 64.35460991350838, 29.347428676918636, 34.41322146715362, 36.10996694516561, 41.592150940827885, 47.22100593113289, 39.11361066199695, 37.623680737882154, 51.91672875743889, 38.76939521063419, 34.28780025643727, 50.73928800114314, 38.35682339589327, 37.62379945175884, 45.30341154922418, 32.26349808010407, 31.18076816781025, 30.338767167839332, 33.06379398201233, 31.571298011793832, 178.25979231105467, 177.22605961915173, 176.18091646960968, 35.67300893088179, 68.12081093243333, 52.18299406663006, 123.34590603256798, 54.39829333960773, 41.76360313626037, 144.17493879830053, 135.6066070763372, 25.790206181446948, 30.423121269709096, 21.03427723146953, 21.73353746068999, 16.236105626266518, 17.007421754431935, 35.37473043983043, 13.800687214973573, 13.010774322948006, 12.983849066057095, 12.218903396391573, 12.199262575657444, 36.626469053293896, 9.900686359692555, 12.180600772188747, 11.405846673136683, 9.863818030014961, 37.059228915987795, 11.351298980393114, 22.59638713899025, 16.95308287306316, 25.773250241395292, 65.8451275176297, 34.84933135365645, 220.0149836579435, 59.02268709810502, 149.6136193273862, 67.21916569816024, 104.86586658987855, 38.35281195970526, 54.54625502590506, 88.70980874708738, 76.66558690564655, 120.35979839678983, 64.09319323682544, 146.54525598457954, 104.07792428388724, 95.61578284489616, 63.20095021964695, 78.04558590924773, 94.10795020227297, 89.30881213130793, 52.17135996402126, 43.52671510136787, 50.12567942593987, 52.798428509850865, 51.28240772282587, 11.03726440255231, 15.277997092146935, 7.26594404139504, 7.26594359894016, 16.693631480597144, 7.968900868763721, 6.480410089958843, 7.154744511142544, 8.581864585821782, 9.29335504046036, 7.837022767241149, 6.342908386911907, 5.637799016552193, 7.039126184003831, 7.0380465940967145, 7.037107262386548, 7.032489803259225, 7.032434938854109, 7.031120405405732, 7.030590786914413, 7.028426297641621, 4.909420944055083, 4.9094191742355635, 4.909418289325803, 4.901967349147181, 4.897037516874604, 6.293622895377649, 6.982512754747582, 4.868966409470061, 4.865732064297512, 11.086148587510438, 20.89306454678601, 9.593941187713849, 19.903425716766762, 32.03834899882338, 12.092889183550119, 8.176963506248065, 9.428606417987792, 13.434641571233898, 36.17814091701239, 17.674587576051945, 41.71861401852829, 26.46192555340051, 34.92875452516049, 14.212544503355327, 19.723008545092434, 63.0983559256228, 20.201530577053404, 125.89394528634364, 22.305238938074886, 16.458273801567717, 16.88048548586521, 17.672396539486353, 17.244898404283028, 66.78930745501846, 79.0824242850385, 73.67669462284782, 32.99443736020459, 83.36345488019063, 49.48327594488034, 66.27000701150034, 47.63619672369751, 78.60668971882131, 73.88667308996241, 29.657486900991394, 56.781360351210964, 25.76399722574264, 33.996749867805576, 46.84297423381215, 46.142886726340045, 36.345987060637135, 34.75437066822938, 36.71227244810697, 29.856788046942654, 30.052873430826327, 28.988001342837237, 27.327905323747427, 26.704721783871918], \"Total\": [181.0, 180.0, 179.0, 322.0, 147.0, 139.0, 126.0, 285.0, 258.0, 561.0, 248.0, 123.0, 215.0, 69.0, 146.0, 235.0, 363.0, 172.0, 55.0, 162.0, 53.0, 107.0, 319.0, 81.0, 89.0, 125.0, 75.0, 47.0, 42.0, 259.0, 13.542943148867355, 16.079659640263436, 16.075161686353667, 18.606027809863093, 10.998310335069778, 12.689455437013855, 12.68640635066844, 15.227225365061612, 10.149285498028966, 14.37587081701201, 123.32876931912492, 12.668062679098457, 9.290936184239058, 8.446350495727811, 10.133748246323213, 11.81778134476751, 10.974128142449217, 7.599118272927531, 7.59772864868697, 6.753238997961077, 6.753238050609306, 6.753229815469796, 7.5974429705981334, 6.753222183260897, 7.59632799353196, 21.94135616564217, 6.750761265079406, 6.749579121509283, 16.858189839682197, 6.748983807989323, 89.3439372861319, 17.710264468935403, 22.753612186347397, 285.9619704755236, 48.76090754718918, 17.691195526495324, 23.553447252007654, 17.69171201595806, 15.16466163602166, 77.83744718721994, 63.58662468594981, 48.53079900130023, 40.16008220320032, 66.5711533333928, 55.13624954676329, 31.82063017497214, 73.26797926651707, 235.50485384505535, 363.15452235219226, 561.0063219808721, 69.89471053121966, 162.0071203780967, 132.24114434378524, 100.19580454794014, 45.82094893618954, 319.47131421305414, 154.04770586584655, 36.723582628201896, 92.5363118302519, 87.47727740477457, 67.88556010443655, 137.83329734107454, 120.80335364832257, 54.64789376267617, 374.2682788126548, 66.91006633025529, 137.5911537037637, 239.53126436234547, 243.6751292659817, 111.53696365278331, 78.1831555827692, 259.5447882844713, 219.49873837688213, 159.1609570348975, 153.8792874708399, 169.7155202594795, 42.30885864749039, 15.969789272286157, 24.762104980872863, 17.564548983000584, 16.77298544713508, 16.776305348629485, 14.381879896050236, 47.204289825155605, 11.986365176374276, 14.377190273767996, 11.18551559646279, 11.992869153941422, 11.995196906264507, 21.540361424753822, 11.197599063957313, 9.593744369567004, 10.386397357588256, 8.789314760438785, 11.191486083058674, 8.788165923609023, 9.59544861760397, 7.993047543082992, 7.991383184672739, 7.191863722657302, 7.999243142334442, 7.999227807886778, 7.193445442815994, 8.800226748806603, 16.821426274998988, 16.81690157672369, 13.625850651684626, 23.278045080596122, 13.570349025488719, 27.32389089861601, 28.904228457544157, 12.010694987384996, 32.240081946112134, 31.432226398010176, 24.15229653085629, 75.40615316984915, 73.82686027802612, 20.122500729036705, 99.93218536702616, 45.36287345955849, 22.460125542022094, 561.0063219808721, 28.148391197760574, 319.47131421305414, 53.075450959807924, 58.78568601562638, 235.50485384505535, 162.0071203780967, 47.196388628884094, 34.822461952003565, 169.7155202594795, 53.13472345194813, 219.49873837688213, 55.034693980223835, 74.53271852177163, 82.77444940796245, 109.23538989642213, 154.04770586584655, 106.04731405271832, 102.94551241684343, 243.6751292659817, 117.4604757702528, 87.47727740477457, 285.9619704755236, 137.5911537037637, 132.24114434378524, 374.2682788126548, 92.5363118302519, 89.90383676629298, 78.1831555827692, 215.04271981761087, 153.8792874708399, 181.1486608933487, 180.3550340803364, 179.51852416245902, 36.37651503242161, 69.54843467585064, 53.37254842769814, 126.18776581926082, 55.80567266529812, 42.86123373989834, 147.98511922974544, 139.9969427393038, 26.679268395216617, 31.542687487835778, 21.833087763731385, 22.642369556315888, 16.97173756840299, 17.78660123932864, 37.178106660160175, 14.557042123404871, 13.74789395287441, 13.737491615927924, 12.938848549239603, 12.936193686129421, 38.87070257419696, 10.508809006103666, 12.94078186636475, 12.125130317488965, 10.510658421065125, 39.55506685322064, 12.133623232327293, 24.25033088088694, 18.577259373005884, 29.104172953004365, 81.26219046100267, 41.07486383533835, 322.3943026668743, 75.45784269696934, 248.70873257237582, 97.62149712082105, 172.824531887342, 50.655013010296706, 79.05039545518927, 146.52133004050683, 125.10999834292414, 259.5447882844713, 109.90793721204479, 374.2682788126548, 239.53126436234547, 215.04271981761087, 110.87417028645277, 159.1609570348975, 258.44248911376496, 363.15452235219226, 116.86354134771432, 68.29342397832201, 131.4826791773089, 219.49873837688213, 243.6751292659817, 11.81182941575571, 16.54483578079246, 7.879747917238358, 7.8797479334608065, 18.10393848865345, 8.667075855312651, 7.094235920850912, 7.8829638276163845, 9.455986233396418, 10.262387389551211, 8.6768257832037, 7.09821989970918, 6.313271443518895, 7.891799352261284, 7.891880406897458, 7.891952294216845, 7.8923039671886865, 7.892300111516977, 7.8923983952820675, 7.8924421924218695, 7.892591659240013, 5.523209652268841, 5.523209338775053, 5.523209319350154, 5.523425913158828, 5.523447529462928, 7.1082870036642465, 7.888125527890946, 5.524380246131685, 5.523891407051892, 12.61863962124983, 24.59710027097239, 11.046370822551651, 23.68999101688991, 39.61405310590072, 14.206735644736652, 9.47278488999899, 11.050507648696147, 16.596929493349208, 50.742960137655935, 22.967576458775497, 62.631922398062386, 37.195062814983416, 52.35217198385105, 18.183362679299325, 26.90138511374785, 107.48394640134802, 27.741201550783853, 258.44248911376496, 31.68320830635525, 22.152714551505237, 24.580243929119028, 26.221611703946184, 25.462051706244974, 163.04470381647738, 215.04271981761087, 243.6751292659817, 74.17726872409457, 322.3943026668743, 153.8792874708399, 248.70873257237582, 146.52133004050683, 363.15452235219226, 374.2682788126548, 72.03359797388913, 259.5447882844713, 56.14544741701506, 103.75646953392321, 219.49873837688213, 239.53126436234547, 137.83329734107454, 126.23949174176772, 172.824531887342, 98.46696154260191, 106.60346567598292, 125.10999834292414, 100.84724815658363, 561.0063219808721], \"Category\": [\"Default\", \"Default\", \"Default\", \"Default\", \"Default\", \"Default\", \"Default\", \"Default\", \"Default\", \"Default\", \"Default\", \"Default\", \"Default\", \"Default\", \"Default\", \"Default\", \"Default\", \"Default\", \"Default\", \"Default\", \"Default\", \"Default\", \"Default\", \"Default\", \"Default\", \"Default\", \"Default\", \"Default\", \"Default\", \"Default\", \"Topic1\", \"Topic1\", \"Topic1\", \"Topic1\", \"Topic1\", \"Topic1\", \"Topic1\", \"Topic1\", \"Topic1\", \"Topic1\", \"Topic1\", \"Topic1\", \"Topic1\", \"Topic1\", \"Topic1\", \"Topic1\", \"Topic1\", \"Topic1\", \"Topic1\", \"Topic1\", \"Topic1\", \"Topic1\", \"Topic1\", \"Topic1\", \"Topic1\", \"Topic1\", \"Topic1\", \"Topic1\", \"Topic1\", \"Topic1\", \"Topic1\", \"Topic1\", \"Topic1\", \"Topic1\", \"Topic1\", \"Topic1\", \"Topic1\", \"Topic1\", \"Topic1\", \"Topic1\", \"Topic1\", \"Topic1\", \"Topic1\", \"Topic1\", \"Topic1\", \"Topic1\", \"Topic1\", \"Topic1\", \"Topic1\", \"Topic1\", \"Topic1\", \"Topic1\", \"Topic1\", \"Topic1\", \"Topic1\", \"Topic1\", \"Topic1\", \"Topic1\", \"Topic1\", \"Topic1\", \"Topic1\", \"Topic1\", \"Topic1\", \"Topic1\", \"Topic1\", \"Topic1\", \"Topic1\", \"Topic1\", \"Topic1\", \"Topic1\", \"Topic1\", \"Topic1\", \"Topic1\", \"Topic1\", \"Topic1\", \"Topic1\", \"Topic2\", \"Topic2\", \"Topic2\", \"Topic2\", \"Topic2\", \"Topic2\", \"Topic2\", \"Topic2\", \"Topic2\", \"Topic2\", \"Topic2\", \"Topic2\", \"Topic2\", \"Topic2\", \"Topic2\", \"Topic2\", \"Topic2\", \"Topic2\", \"Topic2\", \"Topic2\", \"Topic2\", \"Topic2\", \"Topic2\", \"Topic2\", \"Topic2\", \"Topic2\", \"Topic2\", \"Topic2\", \"Topic2\", \"Topic2\", \"Topic2\", \"Topic2\", \"Topic2\", \"Topic2\", \"Topic2\", \"Topic2\", \"Topic2\", \"Topic2\", \"Topic2\", \"Topic2\", \"Topic2\", \"Topic2\", \"Topic2\", \"Topic2\", \"Topic2\", \"Topic2\", \"Topic2\", \"Topic2\", \"Topic2\", \"Topic2\", \"Topic2\", \"Topic2\", \"Topic2\", \"Topic2\", \"Topic2\", \"Topic2\", \"Topic2\", \"Topic2\", \"Topic2\", \"Topic2\", \"Topic2\", \"Topic2\", \"Topic2\", \"Topic2\", \"Topic2\", \"Topic2\", \"Topic2\", \"Topic2\", \"Topic2\", \"Topic2\", \"Topic2\", \"Topic2\", \"Topic2\", \"Topic2\", \"Topic2\", \"Topic2\", \"Topic3\", \"Topic3\", \"Topic3\", \"Topic3\", \"Topic3\", \"Topic3\", \"Topic3\", \"Topic3\", \"Topic3\", \"Topic3\", \"Topic3\", \"Topic3\", \"Topic3\", \"Topic3\", \"Topic3\", \"Topic3\", \"Topic3\", \"Topic3\", \"Topic3\", \"Topic3\", \"Topic3\", \"Topic3\", \"Topic3\", \"Topic3\", \"Topic3\", \"Topic3\", \"Topic3\", \"Topic3\", \"Topic3\", \"Topic3\", \"Topic3\", \"Topic3\", \"Topic3\", \"Topic3\", \"Topic3\", \"Topic3\", \"Topic3\", \"Topic3\", \"Topic3\", \"Topic3\", \"Topic3\", \"Topic3\", \"Topic3\", \"Topic3\", \"Topic3\", \"Topic3\", \"Topic3\", \"Topic3\", \"Topic3\", \"Topic3\", \"Topic3\", \"Topic3\", \"Topic3\", \"Topic3\", \"Topic3\", \"Topic3\", \"Topic3\", \"Topic3\", \"Topic4\", \"Topic4\", \"Topic4\", \"Topic4\", \"Topic4\", \"Topic4\", \"Topic4\", \"Topic4\", \"Topic4\", \"Topic4\", \"Topic4\", \"Topic4\", \"Topic4\", \"Topic4\", \"Topic4\", \"Topic4\", \"Topic4\", \"Topic4\", \"Topic4\", \"Topic4\", \"Topic4\", \"Topic4\", \"Topic4\", \"Topic4\", \"Topic4\", \"Topic4\", \"Topic4\", \"Topic4\", \"Topic4\", \"Topic4\", \"Topic4\", \"Topic4\", \"Topic4\", \"Topic4\", \"Topic4\", \"Topic4\", \"Topic4\", \"Topic4\", \"Topic4\", \"Topic4\", \"Topic4\", \"Topic4\", \"Topic4\", \"Topic4\", \"Topic4\", \"Topic4\", \"Topic4\", \"Topic4\", \"Topic4\", \"Topic4\", \"Topic4\", \"Topic4\", \"Topic4\", \"Topic4\", \"Topic4\", \"Topic4\", \"Topic4\", \"Topic4\", \"Topic4\", \"Topic4\", \"Topic4\", \"Topic4\", \"Topic4\", \"Topic4\", \"Topic4\", \"Topic4\", \"Topic4\", \"Topic4\", \"Topic4\", \"Topic4\", \"Topic4\", \"Topic4\", \"Topic4\", \"Topic4\", \"Topic4\", \"Topic4\", \"Topic4\", \"Topic4\"], \"logprob\": [30.0, 29.0, 28.0, 27.0, 26.0, 25.0, 24.0, 23.0, 22.0, 21.0, 20.0, 19.0, 18.0, 17.0, 16.0, 15.0, 14.0, 13.0, 12.0, 11.0, 10.0, 9.0, 8.0, 7.0, 6.0, 5.0, 4.0, 3.0, 2.0, 1.0, -7.6109, -7.4414, -7.4438, -7.3017, -7.8275, -7.6857, -7.6873, -7.5067, -7.9126, -7.5657, -5.4328, -7.7113, -8.0226, -8.1181, -7.9377, -7.7847, -7.859, -8.2315, -8.233, -8.352, -8.352, -8.352, -8.2342, -8.352, -8.2369, -7.1775, -8.3599, -8.3615, -7.4479, -8.3663, -5.7966, -7.4045, -7.1656, -4.7277, -6.4449, -7.4197, -7.167, -7.438, -7.5838, -6.0657, -6.2748, -6.5484, -6.7234, -6.2862, -6.4546, -6.9385, -6.2245, -5.26, -4.9274, -4.5822, -6.3041, -5.6274, -5.8284, -6.0616, -6.6859, -5.2253, -5.7947, -6.8679, -6.1984, -6.2808, -6.46, -5.9996, -6.1188, -6.6272, -5.4822, -6.5204, -6.1391, -5.8892, -5.9676, -6.3036, -6.4673, -6.0844, -6.1529, -6.3129, -6.3633, -6.3679, -6.1666, -7.1579, -6.7198, -7.0742, -7.1212, -7.1212, -7.2755, -6.0907, -7.4703, -7.2886, -7.5415, -7.472, -7.4753, -6.8926, -7.55, -7.7055, -7.6274, -7.7951, -7.5538, -7.796, -7.7102, -7.8972, -7.8976, -8.0049, -7.9044, -7.9044, -8.0117, -7.8106, -7.165, -7.1656, -7.3851, -6.8627, -7.3944, -6.7487, -6.7013, -7.5223, -6.6229, -6.6471, -6.8929, -5.8913, -5.9304, -7.0762, -5.7333, -6.3938, -6.9853, -4.4277, -6.8159, -4.955, -6.4156, -6.3599, -5.4043, -5.7244, -6.5277, -6.7516, -5.8273, -6.5087, -5.7194, -6.5046, -6.3454, -6.2972, -6.1559, -6.029, -6.2173, -6.2562, -5.9342, -6.2262, -6.349, -5.9571, -6.2369, -6.2562, -6.0704, -6.4099, -6.444, -6.4714, -6.3854, -6.4316, -4.7002, -4.706, -4.7119, -6.309, -5.6622, -5.9287, -5.0684, -5.8871, -6.1514, -4.9124, -4.9737, -6.6334, -6.4682, -6.8373, -6.8046, -7.0962, -7.0498, -6.3174, -7.2587, -7.3177, -7.3197, -7.3805, -7.3821, -6.2827, -7.5908, -7.3836, -7.4493, -7.5946, -6.2709, -7.4541, -6.7656, -7.053, -6.6341, -5.6961, -6.3324, -4.4897, -5.8055, -4.8754, -5.6755, -5.2308, -6.2366, -5.8844, -5.3981, -5.544, -5.093, -5.7231, -4.8961, -5.2383, -5.3231, -5.7371, -5.5261, -5.339, -5.3913, -5.9289, -6.1101, -5.9689, -5.917, -5.9461, -7.2279, -6.9028, -7.646, -7.646, -6.8142, -7.5537, -7.7604, -7.6614, -7.4796, -7.3999, -7.5704, -7.7819, -7.8997, -7.6777, -7.6779, -7.678, -7.6787, -7.6787, -7.6789, -7.679, -7.6793, -8.0381, -8.0381, -8.0381, -8.0396, -8.0406, -7.7897, -7.6858, -8.0463, -8.047, -7.2235, -6.5898, -7.3681, -6.6383, -6.1623, -7.1366, -7.5279, -7.3855, -7.0314, -6.0408, -6.7571, -5.8983, -6.3535, -6.0759, -6.9751, -6.6474, -5.4845, -6.6235, -4.7938, -6.5244, -6.8284, -6.8031, -6.7572, -6.7817, -5.4277, -5.2587, -5.3295, -6.1329, -5.206, -5.7276, -5.4355, -5.7656, -5.2648, -5.3267, -6.2395, -5.59, -6.3802, -6.103, -5.7824, -5.7975, -6.0361, -6.0809, -6.0261, -6.2328, -6.2263, -6.2623, -6.3213, -6.3444], \"loglift\": [30.0, 29.0, 28.0, 27.0, 26.0, 25.0, 24.0, 23.0, 22.0, 21.0, 20.0, 19.0, 18.0, 17.0, 16.0, 15.0, 14.0, 13.0, 12.0, 11.0, 10.0, 9.0, 8.0, 7.0, 6.0, 5.0, 4.0, 3.0, 2.0, 1.0, 1.0793, 1.0771, 1.075, 1.0709, 1.0709, 1.0696, 1.0683, 1.0663, 1.066, 1.0648, 1.0485, 1.0457, 1.0444, 1.0442, 1.0425, 1.0417, 1.0415, 1.0365, 1.0352, 1.0341, 1.0341, 1.0341, 1.0341, 1.034, 1.0315, 1.0303, 1.0265, 1.0251, 1.0233, 1.0204, 1.007, 1.0174, 1.0058, 0.9125, 0.9642, 1.0033, 0.9698, 0.985, 0.9933, 0.8757, 0.8689, 0.8655, 0.8798, 0.8116, 0.8317, 0.8975, 0.7774, 0.5743, 0.4738, 0.3841, 0.745, 0.5811, 0.583, 0.6273, 0.7855, 0.3041, 0.4641, 0.8248, 0.5701, 0.5439, 0.6183, 0.3704, 0.3831, 0.668, -0.1111, 0.5723, 0.2327, -0.0718, -0.1674, 0.2781, 0.4697, -0.3473, -0.2481, -0.0867, -0.1034, -0.206, 1.3845, 1.3675, 1.367, 1.356, 1.3551, 1.3549, 1.3547, 1.351, 1.342, 1.3419, 1.34, 1.3398, 1.3363, 1.3336, 1.3304, 1.3294, 1.3282, 1.3275, 1.3271, 1.3267, 1.3246, 1.3203, 1.3202, 1.3182, 1.3123, 1.3123, 1.3112, 1.3108, 1.3084, 1.3081, 1.299, 1.2858, 1.2938, 1.2397, 1.2308, 1.288, 1.2, 1.2012, 1.2188, 1.0818, 1.064, 1.2181, 0.9583, 1.0875, 1.1991, 0.5386, 1.1427, 0.5744, 0.9088, 0.8623, 0.43, 0.484, 0.9141, 0.9943, 0.3346, 0.8146, 0.1853, 0.7835, 0.6395, 0.5827, 0.4467, 0.2298, 0.4149, 0.4057, -0.1339, 0.3038, 0.4757, -0.3169, 0.1349, 0.1553, -0.6993, 0.3586, 0.3533, 0.4656, -0.4601, -0.1717, 1.3966, 1.3951, 1.3939, 1.3931, 1.3919, 1.3901, 1.3899, 1.3871, 1.3867, 1.3866, 1.3808, 1.3788, 1.3765, 1.3754, 1.3717, 1.3683, 1.3679, 1.3629, 1.3593, 1.3575, 1.3562, 1.3554, 1.354, 1.3532, 1.353, 1.3521, 1.3515, 1.3491, 1.3475, 1.346, 1.342, 1.3212, 1.2911, 1.2023, 1.2483, 1.0306, 1.167, 0.9044, 1.0395, 0.9131, 1.1344, 1.0416, 0.9108, 0.9229, 0.6442, 0.8733, 0.475, 0.5791, 0.6021, 0.8506, 0.7, 0.4024, 0.0099, 0.6062, 0.9622, 0.4483, -0.0122, -0.1458, 1.599, 1.5872, 1.5858, 1.5858, 1.5858, 1.5829, 1.5764, 1.5699, 1.5699, 1.5677, 1.5651, 1.5544, 1.5537, 1.5525, 1.5524, 1.5522, 1.5515, 1.5515, 1.5513, 1.5512, 1.5509, 1.5491, 1.5491, 1.5491, 1.5475, 1.5465, 1.5451, 1.5449, 1.5406, 1.54, 1.5374, 1.5037, 1.5259, 1.4927, 1.4546, 1.5058, 1.5198, 1.5081, 1.4555, 1.3285, 1.4049, 1.2605, 1.3264, 1.2622, 1.4205, 1.3565, 1.1342, 1.3497, 0.9476, 1.3159, 1.3697, 1.2911, 1.2723, 1.2772, 0.7744, 0.6665, 0.4707, 0.8567, 0.3143, 0.5323, 0.3443, 0.5433, 0.1365, 0.0444, 0.7794, 0.1471, 0.8879, 0.5511, 0.1223, 0.0199, 0.3339, 0.377, 0.1177, 0.4736, 0.4007, 0.2046, 0.3612, -1.378]}, \"token.table\": {\"Topic\": [1, 2, 3, 4, 1, 2, 4, 4, 1, 4, 1, 1, 1, 2, 1, 4, 1, 1, 2, 3, 1, 2, 3, 4, 1, 2, 2, 1, 3, 1, 2, 3, 1, 2, 3, 4, 2, 4, 1, 2, 2, 1, 1, 2, 4, 3, 4, 1, 2, 3, 4, 2, 1, 2, 3, 4, 1, 2, 3, 4, 1, 2, 3, 4, 1, 2, 3, 4, 1, 2, 3, 4, 1, 1, 2, 3, 4, 1, 1, 2, 3, 4, 2, 1, 1, 2, 1, 2, 3, 4, 4, 4, 2, 3, 2, 2, 4, 3, 1, 2, 3, 4, 2, 3, 4, 1, 2, 3, 4, 1, 2, 3, 4, 1, 2, 3, 1, 1, 2, 3, 4, 3, 4, 3, 1, 2, 3, 4, 4, 1, 2, 3, 4, 1, 2, 3, 4, 1, 2, 3, 4, 1, 2, 3, 4, 1, 3, 3, 4, 2, 2, 1, 2, 1, 1, 2, 3, 4, 1, 2, 1, 2, 3, 4, 1, 2, 3, 4, 1, 2, 3, 4, 1, 3, 2, 1, 2, 4, 1, 4, 1, 2, 3, 4, 3, 4, 2, 3, 1, 2, 3, 4, 1, 2, 3, 4, 1, 2, 3, 4, 4, 3, 1, 2, 1, 3, 4, 1, 4, 3, 1, 2, 3, 4, 1, 2, 3, 4, 1, 3, 4, 1, 3, 4, 1, 2, 3, 4, 1, 2, 3, 4, 1, 2, 3, 4, 1, 2, 4, 4, 3, 1, 4, 3, 3, 1, 2, 4, 1, 2, 3, 4, 1, 3, 2, 4, 4, 2, 3, 4, 1, 2, 3, 4, 1, 1, 3, 4, 1, 2, 3, 4, 1, 3, 1, 2, 3, 4, 1, 2, 4, 1, 2, 3, 4, 1, 4, 1, 2, 3, 4, 1, 2, 3, 4, 3, 1, 2, 3, 4, 1, 3, 1, 2, 3, 4, 2, 1, 2, 3, 4, 1, 2, 3, 4, 2, 1, 2, 3, 4, 1, 2, 3, 4, 4, 1, 3, 4, 4, 1, 2, 3, 1, 2, 3, 4, 1, 2, 3, 4, 1, 1, 2, 3, 4, 1, 2, 3, 4, 1, 4, 1, 2, 3, 4, 1, 2, 3, 4, 4, 1, 3, 2, 1, 2, 4, 3, 1, 2, 3, 4, 1, 2, 3, 4, 4, 3, 1, 1, 2, 3, 4, 1, 2, 3, 4, 1, 2, 3, 4, 4, 4, 1, 2, 3, 4, 1, 2, 3, 4, 3, 4, 3, 4, 1, 3, 1, 3, 1, 2, 3, 4, 1, 2, 3, 4, 1, 2, 3, 4, 1, 2, 1, 2, 3, 4, 1, 2, 3, 1, 2, 4, 4, 1, 2, 3, 4, 1, 2, 3, 4, 1, 2, 3, 4, 3, 4, 2, 1, 3, 4, 1, 2, 3, 4, 1, 2, 1, 2, 3, 4, 1, 3, 4, 1, 2, 3, 4, 1, 1, 3, 4, 2, 1, 2, 3, 4, 1, 2, 3, 4, 1, 2, 1, 2, 3, 4, 2, 1, 1, 1, 4, 3, 1, 2, 3, 4, 1, 2, 3, 1, 2, 4, 1, 2, 3, 4, 1, 2, 3, 4, 4, 1, 2, 3, 4, 1, 2, 3, 4, 1, 1, 2, 3, 4, 2, 1, 2, 2, 2, 2, 1, 4, 1, 2, 1, 2, 3, 4, 1, 2, 3, 4, 1, 2, 3, 4, 1, 2, 3, 4, 4, 4, 1, 3, 4, 2, 4, 1, 2, 1, 2, 3, 4, 2, 3, 4, 2, 1, 2, 3, 4, 1, 2, 3, 4, 1, 2, 3, 1, 2, 1, 2, 3, 4, 4, 2, 1, 3, 1, 2, 3, 4, 1, 2, 3, 4, 1, 2, 3, 4, 3, 4], \"Freq\": [0.7097234087874403, 0.23202496056512473, 0.01364852709206616, 0.05459410836826464, 0.7706023120743993, 0.20444551136667738, 0.015726577797436723, 0.9051589959963581, 0.9308007720815046, 0.08461825200740951, 0.9092305722737688, 0.9738540487879721, 0.8884647709166305, 0.9101960981086334, 0.8897752453049119, 0.05931834968699413, 0.9331165864871903, 0.8478546330886397, 0.056523642205909316, 0.056523642205909316, 0.35593586604301114, 0.34481287022916707, 0.23358291209072607, 0.05561497906922049, 0.9194058447524234, 0.8935363834422035, 0.9692229323209178, 0.017919325262821074, 0.967643564192338, 0.9458943429923894, 0.9042100544304016, 0.06955461957156936, 0.3300413623168313, 0.36776037515304055, 0.23574383022630804, 0.06600827246336625, 0.9284895274327354, 0.04642447637163677, 0.04236903059887115, 0.9321186731751653, 0.8750827891396198, 0.9328555663230601, 0.884223400038835, 0.10073431139682931, 0.011192701266314367, 0.07924784525235166, 0.8717262977758683, 0.3005870661254626, 0.070971946168512, 0.4341813177367793, 0.19204173669126778, 0.8750844666654453, 0.32351307749107217, 0.3320265795303109, 0.28094556729487846, 0.06810801631390993, 0.29123494073768796, 0.12023460856143083, 0.3927663879673407, 0.19771913407879735, 0.1998739196033822, 0.5269403334998257, 0.1998739196033822, 0.05451106898274059, 0.119894494434292, 0.03197186518247787, 0.615458404762699, 0.23179602257296453, 0.1713654311992766, 0.027057699663043673, 0.5682116929239172, 0.23450006374637852, 0.9211595014829631, 0.34969955615189946, 0.36912730927144943, 0.23313303743459962, 0.048569382798874926, 0.8890227285620852, 0.32040898131262474, 0.3844907775751497, 0.2380181004036641, 0.06408179626252496, 0.8759434804009667, 0.8887886512943403, 0.059447991130589205, 0.8917198669588381, 0.5244096339472386, 0.3837143663028575, 0.02558095775352383, 0.06395239438380958, 0.8457570437381697, 0.8869875921943825, 0.9731080962031643, 0.9463154092066677, 0.9627977493749595, 0.9678586120516406, 0.9052707238708718, 0.9065717460793565, 0.235772500180008, 0.22816693565807228, 0.38027822609678713, 0.1445057259167791, 0.9172117079577143, 0.9427437783263798, 0.8440852200969183, 0.15907240984738283, 0.7953620492369141, 0.9354048151984706, 0.05056242244316057, 0.7360545453464613, 0.06008608533440501, 0.015021521333601252, 0.19527977733681626, 0.24248904800544926, 0.7274671440163478, 0.022044458909586298, 0.9599095157604082, 0.5727481347778687, 0.3458101945828641, 0.032419705742143506, 0.04322627432285801, 0.09052746970601928, 0.9052746970601929, 0.9276298957139737, 0.391251706986734, 0.5783720885890851, 0.017010943782031912, 0.034021887564063824, 0.8869399897801283, 0.04353963953466749, 0.04353963953466749, 0.13061891860400246, 0.7837135116240148, 0.5822696134557358, 0.2873538352119216, 0.060495544255141386, 0.06805748728703406, 0.03156246016283056, 0.06312492032566112, 0.22093722113981393, 0.6943741235822724, 0.037172807116498764, 0.18586403558249381, 0.037172807116498764, 0.7434561423299753, 0.016633857853192473, 0.9813976133383561, 0.10556557671395687, 0.844524613711655, 0.9103150838912076, 0.875761086402851, 0.15508645444379696, 0.8064495631077442, 0.9686860206044041, 0.5774827897580314, 0.3736653345493144, 0.02123098491757468, 0.029723378884604554, 0.878981316733542, 0.0878981316733542, 0.040683078771864764, 0.040683078771864764, 0.24409847263118856, 0.691612339121701, 0.2749562509798309, 0.2133988813574807, 0.2092950567159907, 0.303683023470261, 0.3102103680225213, 0.6304275221102852, 0.01000678606524262, 0.05003393032621311, 0.01437846882767055, 0.9777358802815974, 0.9379446817617729, 0.7856538309433995, 0.1571307661886799, 0.06285230647547196, 0.92149786132988, 0.8869795126776856, 0.29243701826035223, 0.2079552129851394, 0.18196081136199696, 0.31843141988349466, 0.9745394669316193, 0.9052707784372522, 0.041236550746949055, 0.9484406671798282, 0.05552964328465069, 0.04164723246348802, 0.4858843787406935, 0.41647232463488015, 0.03216614035726288, 0.10051918861644651, 0.603115131698679, 0.2653706579474188, 0.30739559647544257, 0.059495921898472755, 0.3668915183739153, 0.26773164854312737, 0.8883532916943, 0.9273010026689347, 0.37682204556576, 0.602915272905216, 0.026897550462718793, 0.9414142661951578, 0.026897550462718793, 0.0974432129718825, 0.8769889167469426, 0.9274395595816153, 0.04643199359807151, 0.10447198559566089, 0.3637172831848935, 0.4875359327797508, 0.01364988974265444, 0.05459955897061776, 0.6074200935481225, 0.3275973538237066, 0.13536430580564826, 0.8121858348338896, 0.049223383929326646, 0.6404638420649355, 0.1463917353291281, 0.21958760299369215, 0.8077997211163156, 0.178345392973732, 0.0069939369793620395, 0.0069939369793620395, 0.031932598001524426, 0.11176409300533549, 0.19159558800914656, 0.670584558032013, 0.1364778593839004, 0.10918228750712031, 0.5823055333713083, 0.17287195521960713, 0.9243585306929818, 0.05675885714781467, 0.01621681632794705, 0.8869244562502123, 0.961733838599721, 0.967428415347104, 0.05374602307483911, 0.9716297556791398, 0.9072067443377406, 0.26523034472996987, 0.7161219307709187, 0.013261517236498493, 0.6088079263919046, 0.309394192100804, 0.04990228904851677, 0.03992183123881342, 0.023331106287524515, 0.9799064640760297, 0.884280866870912, 0.07369007223924266, 0.8874098130473839, 0.05499532829196881, 0.16498598487590643, 0.7699345960875634, 0.02688528864635138, 0.1344264432317569, 0.1344264432317569, 0.6990175048051358, 0.8881215302803119, 0.7436124208126677, 0.1450951065000327, 0.10882132987502453, 0.5679265032026611, 0.34374498878055804, 0.029890868589613744, 0.05978173717922749, 0.01873622357296024, 0.9742836257939326, 0.013514872376424686, 0.006757436188212343, 0.9730708111025773, 0.006757436188212343, 0.7352223848461161, 0.21784366958403442, 0.027230458698004303, 0.2291807219706647, 0.026962437878901728, 0.3100680356073699, 0.4448802250018785, 0.12196559622681905, 0.8537591735877333, 0.22973677194411316, 0.6604932193393253, 0.08615128947904244, 0.028717096493014144, 0.1656157208441737, 0.8280786042208684, 0.852102642148946, 0.14607473865410506, 0.9896495023757491, 0.14456929835200055, 0.16384520479893397, 0.3662422224917347, 0.32769040959786794, 0.011040655725175359, 0.982618359540607, 0.2273210739078054, 0.08861668982846652, 0.4623479469311296, 0.21961527479228657, 0.917033716574943, 0.39522178032960203, 0.5457824585504029, 0.0376401695552002, 0.0188200847776001, 0.5128281499290724, 0.30510029172995445, 0.1103554246682814, 0.06491495568722436, 0.8940133258731776, 0.4718412053852073, 0.25661539240248116, 0.1655583176790201, 0.09933499060741206, 0.20637227749112907, 0.18761116135557188, 0.3283195323722508, 0.2814167420333578, 0.8869404230821288, 0.4715841618383013, 0.26118507424890536, 0.26118507424890536, 0.886907660021276, 0.0832591287223857, 0.9158504159462426, 0.0832591287223857, 0.3757605537974469, 0.18280243157713633, 0.13202397836126514, 0.3046707192952272, 0.4070029103801909, 0.27618054632941524, 0.2107693643040274, 0.10175072759504772, 0.947154632529922, 0.07854826559438131, 0.03927413279719066, 0.19637066398595326, 0.6676602575522411, 0.07170551780553482, 0.11268009940869758, 0.6863242418529761, 0.12292374480948827, 0.8884626833876609, 0.9219961538799274, 0.0757307007182543, 0.025243566906084768, 0.0757307007182543, 0.8077941409947126, 0.05582228975474937, 0.08373343463212406, 0.269807733814622, 0.5861340424248683, 0.9052317367602793, 0.015849397023675077, 0.9747379169560172, 0.9734471502466716, 0.9044046783631725, 0.05652529239769828, 0.05652529239769828, 0.9557756297144979, 0.03255167162104847, 0.15345788049922848, 0.44642292508866466, 0.36736886543754693, 0.01974138274916105, 0.01974138274916105, 0.75017254446812, 0.19741382749161052, 0.8879908817387824, 0.9515826193236414, 0.9456670587295036, 0.5204396155549047, 0.016521892557298565, 0.24507473959992868, 0.21753825200443108, 0.25512675113351807, 0.2915734298668778, 0.24145924660850818, 0.2141242375584884, 0.06325079047623884, 0.11385142285722992, 0.6957586952386272, 0.12650158095247768, 0.9052352794464328, 0.9312697985061639, 0.7201946002025394, 0.21824078794016347, 0.021824078794016346, 0.04364815758803269, 0.339008989137106, 0.6144537928110045, 0.021188061821069124, 0.04237612364213825, 0.07038914674043946, 0.8446697608852736, 0.060441820834567526, 0.9066273125185128, 0.05145263315429843, 0.951873713354521, 0.028572052515808334, 0.9714497855374833, 0.5601454623841042, 0.3886723616542764, 0.011431540048655188, 0.034294620145965564, 0.05207594027141223, 0.1330829584713868, 0.6075526364998093, 0.21408997667136137, 0.29529855107427394, 0.1068101142183544, 0.49006993582539077, 0.1068101142183544, 0.8491326040732843, 0.12736989061099263, 0.2651495863854945, 0.34174835578574847, 0.27693401244707205, 0.12373647364656411, 0.8572561862587299, 0.06594278355836383, 0.06594278355836383, 0.7719107705792903, 0.17430243206629137, 0.04980069487608325, 0.9052707752534523, 0.04221191976337368, 0.04221191976337368, 0.08442383952674735, 0.8442383952674736, 0.059121501620354316, 0.09853583603392387, 0.13795017044749341, 0.7094580194442518, 0.13252432938162487, 0.02650486587632497, 0.7818935433515867, 0.06626216469081243, 0.09049358018570218, 0.8144422216713196, 0.9090674852309776, 0.8889443166729382, 0.9618428793605964, 0.8869293780436214, 0.2709041116564023, 0.704350690306646, 0.013545205582820116, 0.013545205582820116, 0.1490868376846924, 0.8448254135465904, 0.4427585717319626, 0.45617549814808267, 0.040250779248360236, 0.06708463208060039, 0.9472640216565458, 0.9455993801350177, 0.8452823503320634, 0.038202808483608575, 0.13370982969263, 0.1528112339344343, 0.6685491484631501, 0.8884637668120885, 0.03435933402453108, 0.893342684637808, 0.06871866804906215, 0.9539148561494095, 0.5802214111368699, 0.3950443650293582, 0.006172568203583722, 0.018517704610751164, 0.14210403613824407, 0.7460461897257814, 0.07105201806912204, 0.03552600903456102, 0.9034308904909194, 0.05646443065568246, 0.25370147612217053, 0.43491681620943523, 0.22953943077720193, 0.08456715870739018, 0.9537260837534228, 0.9112341199405923, 0.9213279815158615, 0.8884625587531415, 0.8869967022152241, 0.9514151825120983, 0.17810883090352694, 0.21373059708423234, 0.16029794781317425, 0.46308296034917007, 0.10979402644855216, 0.8417542027722332, 0.03659800881618405, 0.8408375082092467, 0.12304939144525562, 0.020508231907542602, 0.25348644515662644, 0.2376435423343373, 0.2297220909231927, 0.27725079939006014, 0.7624024487832706, 0.20605471588737043, 0.020605471588737042, 0.020605471588737042, 0.9517780354009001, 0.045141194668264786, 0.09028238933652957, 0.13542358400479437, 0.7222591146922366, 0.23959568294006384, 0.10268386411717022, 0.44496341117440424, 0.21392471691077128, 0.9852910337325758, 0.6039576006580007, 0.30934413692239066, 0.05892269274712203, 0.04419201956034152, 0.9392735085134079, 0.059463986004657486, 0.8919597900698624, 0.969064193898598, 0.9381112997496095, 0.8930485850478315, 0.9213626251739936, 0.9503789047688589, 0.9115206849118047, 0.04557603424559024, 0.03604746528982787, 0.07209493057965574, 0.14418986115931148, 0.7209493057965574, 0.24533148924005455, 0.09199930846502045, 0.2514647764710559, 0.41093024447709137, 0.43035060690216487, 0.25103785402626283, 0.22414094109487753, 0.0986220140817461, 0.47593046555561547, 0.41710759902626976, 0.058822866529345735, 0.04812779988764651, 0.923033342911871, 0.8883532898654007, 0.011140911554007978, 0.9804002167527021, 0.005570455777003989, 0.05523659951820676, 0.9390221918095149, 0.08591786780527974, 0.9021376119554373, 0.08904669727949968, 0.8014202755154971, 0.04452334863974984, 0.04452334863974984, 0.060252108704849545, 0.12050421740969909, 0.7832774131630441, 0.9177094004846064, 0.6867472464680998, 0.014307234301418746, 0.17168681161702495, 0.14307234301418748, 0.07627296226413927, 0.15254592452827853, 0.07627296226413927, 0.6864566603772535, 0.10379104235238579, 0.8303283388190863, 0.06919402823492385, 0.07338991344928365, 0.8806789613914039, 0.78368448869191, 0.19270930049801063, 0.012847286699867377, 0.025694573399734754, 0.9050789006606, 0.9733221137028983, 0.0317030690674548, 0.951092072023644, 0.006203583572835569, 0.05273046036910234, 0.6823941930119126, 0.2574487182726761, 0.043928094759932854, 0.08785618951986571, 0.6442787231456819, 0.23428317205297525, 0.43822400876541473, 0.4319636657830517, 0.056343086841267605, 0.07199394429717527, 0.9150973057254206, 0.053829253277965915], \"Term\": [\".%\", \".%\", \".%\", \".%\", \"AR\", \"AR\", \"AR\", \"Atropos\", \"DWAC\", \"DWAC\", \"Fi\", \"Flow\", \"GAME\", \"Giga\", \"HTC\", \"HTC\", \"HUD\", \"Instagram\", \"Instagram\", \"Instagram\", \"JPTT\", \"JPTT\", \"JPTT\", \"JPTT\", \"KY\", \"Muse\", \"Nike\", \"OHCA\", \"OHCA\", \"Phunware\", \"Roblox\", \"Roblox\", \"Sent\", \"Sent\", \"Sent\", \"Sent\", \"Tesla\", \"Tesla\", \"USB\", \"USB\", \"USB.\", \"VIVE\", \"VR\", \"VR\", \"VR\", \"Wecare\", \"Wecare\", \"com\", \"com\", \"com\", \"com\", \"de\", \"from\", \"from\", \"from\", \"from\", \"https\", \"https\", \"https\", \"https\", \"iPhone\", \"iPhone\", \"iPhone\", \"iPhone\", \"imgur\", \"imgur\", \"imgur\", \"imgur\", \"jpg\", \"jpg\", \"jpg\", \"jpg\", \"lurl\", \"my\", \"my\", \"my\", \"my\", \"netflixkr\", \"on\", \"on\", \"on\", \"on\", \"production\", \"redirect\", \"\\u4e09\\u96c4\", \"\\u4e09\\u96c4\", \"\\u4e16\\u754c\", \"\\u4e16\\u754c\", \"\\u4e16\\u754c\", \"\\u4e16\\u754c\", \"\\u4e2d\\u4fe1\\u91d1\", \"\\u4e2d\\u6587\\u5b57\", \"\\u4e8c\\u4e8c\", \"\\u4e8c\\u54e5\", \"\\u4e8c\\u5e74\", \"\\u4e94\\u5143\", \"\\u4e94\\u5927\", \"\\u4e94\\u7532\", \"\\u4eca\\u5929\", \"\\u4eca\\u5929\", \"\\u4eca\\u5929\", \"\\u4eca\\u5929\", \"\\u4ecb\\u9762\", \"\\u4f4f\\u9662\", \"\\u4fee\\u6cd5\", \"\\u50b3\\u8f38\", \"\\u50b3\\u8f38\", \"\\u50b7\\u8005\", \"\\u50b7\\u8005\", \"\\u5104\\u5143\", \"\\u5104\\u5143\", \"\\u5104\\u5143\", \"\\u5104\\u5143\", \"\\u5104\\u7f8e\", \"\\u5104\\u7f8e\", \"\\u5104\\u7f8e\", \"\\u5149\\u96fb\", \"\\u5167\\u5bb9\", \"\\u5167\\u5bb9\", \"\\u5167\\u5bb9\", \"\\u5167\\u5bb9\", \"\\u5167\\u653f\\u90e8\", \"\\u5167\\u653f\\u90e8\", \"\\u5168\\u68df\", \"\\u5168\\u7403\", \"\\u5168\\u7403\", \"\\u5168\\u7403\", \"\\u5168\\u7403\", \"\\u5169\\u5247\", \"\\u516c\\u5171\", \"\\u516c\\u5171\", \"\\u516c\\u5171\", \"\\u516c\\u5171\", \"\\u516c\\u53f8\", \"\\u516c\\u53f8\", \"\\u516c\\u53f8\", \"\\u516c\\u53f8\", \"\\u516c\\u5b89\", \"\\u516c\\u5b89\", \"\\u516c\\u5b89\", \"\\u516c\\u5b89\", \"\\u516c\\u5bd3\", \"\\u516c\\u5bd3\", \"\\u516c\\u5bd3\", \"\\u516c\\u5bd3\", \"\\u5206\\u968a\", \"\\u5206\\u968a\", \"\\u5217\\u7ba1\", \"\\u5217\\u7ba1\", \"\\u5341\\u4e00\\u6708\", \"\\u5341\\u5927\", \"\\u534a\\u5c0e\\u9ad4\", \"\\u534a\\u5c0e\\u9ad4\", \"\\u5357\\u4e9e\\u79d1\", \"\\u539f\\u6587\", \"\\u539f\\u6587\", \"\\u539f\\u6587\", \"\\u539f\\u6587\", \"\\u53ef\\u671b\", \"\\u53ef\\u671b\", \"\\u53f0\\u4e2d\", \"\\u53f0\\u4e2d\", \"\\u53f0\\u4e2d\", \"\\u53f0\\u4e2d\", \"\\u53f0\\u7063\", \"\\u53f0\\u7063\", \"\\u53f0\\u7063\", \"\\u53f0\\u7063\", \"\\u53f0\\u80a1\", \"\\u53f0\\u80a1\", \"\\u53f0\\u80a1\", \"\\u53f0\\u80a1\", \"\\u5438\\u5165\", \"\\u5438\\u5165\", \"\\u5546\\u6a19\", \"\\u5546\\u6a5f\", \"\\u5546\\u6a5f\", \"\\u5546\\u6a5f\", \"\\u5546\\u6e6f\", \"\\u554f\\u677f\", \"\\u554f\\u984c\", \"\\u554f\\u984c\", \"\\u554f\\u984c\", \"\\u554f\\u984c\", \"\\u55c6\\u50b7\", \"\\u570b\\u6cf0\\u91d1\", \"\\u570b\\u8ecd\", \"\\u570b\\u8ecd\", \"\\u5730\\u65b9\", \"\\u5730\\u65b9\", \"\\u5730\\u65b9\", \"\\u5730\\u65b9\", \"\\u57ce\\u4e2d\\u57ce\", \"\\u57ce\\u4e2d\\u57ce\", \"\\u57ce\\u4e2d\\u57ce\", \"\\u57ce\\u4e2d\\u57ce\", \"\\u5831\\u5c0e\", \"\\u5831\\u5c0e\", \"\\u5831\\u5c0e\", \"\\u5831\\u5c0e\", \"\\u58fd\\u96aa\", \"\\u5916\\u50b7\", \"\\u5916\\u8cc7\", \"\\u5916\\u8cc7\", \"\\u5927\\u540c\", \"\\u5927\\u540c\", \"\\u5927\\u540c\", \"\\u5927\\u5ec8\", \"\\u5927\\u5ec8\", \"\\u5927\\u660c\", \"\\u5927\\u6a13\", \"\\u5927\\u6a13\", \"\\u5927\\u6a13\", \"\\u5927\\u6a13\", \"\\u5927\\u706b\", \"\\u5927\\u706b\", \"\\u5927\\u706b\", \"\\u5927\\u706b\", \"\\u5973\\u6027\", \"\\u5973\\u6027\", \"\\u5973\\u6027\", \"\\u5b69\\u5b50\", \"\\u5b69\\u5b50\", \"\\u5b69\\u5b50\", \"\\u5b87\\u5b99\", \"\\u5b87\\u5b99\", \"\\u5b87\\u5b99\", \"\\u5b87\\u5b99\", \"\\u5b89\\u5168\", \"\\u5b89\\u5168\", \"\\u5b89\\u5168\", \"\\u5b89\\u5168\", \"\\u5b8c\\u6574\", \"\\u5b8c\\u6574\", \"\\u5b8c\\u6574\", \"\\u5b8c\\u6574\", \"\\u5b8f\\u9054\\u96fb\", \"\\u5b8f\\u9054\\u96fb\", \"\\u5b8f\\u9054\\u96fb\", \"\\u5c08\\u677f\", \"\\u5c0f\\u6e2f\", \"\\u5ddd\\u666e\", \"\\u5ddd\\u666e\", \"\\u5de6\\u71df\", \"\\u5de8\\u97ff\", \"\\u5e02\\u503c\", \"\\u5e02\\u503c\", \"\\u5e02\\u503c\", \"\\u5e02\\u5834\", \"\\u5e02\\u5834\", \"\\u5e02\\u5834\", \"\\u5e02\\u5834\", \"\\u5e02\\u7acb\", \"\\u5e02\\u7acb\", \"\\u5e33\\u865f\", \"\\u5e33\\u865f\", \"\\u5ee3\\u5834\", \"\\u5efa\\u7269\", \"\\u5efa\\u7269\", \"\\u5efa\\u7269\", \"\\u5efa\\u7bc9\", \"\\u5efa\\u7bc9\", \"\\u5efa\\u7bc9\", \"\\u5efa\\u7bc9\", \"\\u5f35\\u5fd7\\u8aa0\", \"\\u5f90\\u82e5\\u7444\", \"\\u5f90\\u82e5\\u7444\", \"\\u5f90\\u82e5\\u7444\", \"\\u5fc3\\u5f97\", \"\\u5fc3\\u5f97\", \"\\u5fc3\\u5f97\", \"\\u5fc3\\u5f97\", \"\\u6027\\u55c6\\u50b7\", \"\\u6027\\u55c6\\u50b7\", \"\\u610f\\u8b58\", \"\\u610f\\u8b58\", \"\\u610f\\u8b58\", \"\\u610f\\u8b58\", \"\\u61c9\\u7528\", \"\\u61c9\\u7528\", \"\\u61c9\\u7528\", \"\\u623f\\u5b50\", \"\\u623f\\u5b50\", \"\\u623f\\u5b50\", \"\\u623f\\u5b50\", \"\\u6295\\u7968\", \"\\u6295\\u7968\", \"\\u6307\\u6578\", \"\\u6307\\u6578\", \"\\u6307\\u6578\", \"\\u6307\\u6578\", \"\\u6311\\u6230\", \"\\u6311\\u6230\", \"\\u6436\\u6551\", \"\\u6436\\u6551\", \"\\u6536\\u6cbb\", \"\\u653f\\u5e9c\", \"\\u653f\\u5e9c\", \"\\u653f\\u5e9c\", \"\\u653f\\u5e9c\", \"\\u6551\\u8b77\\u8eca\", \"\\u6551\\u8b77\\u8eca\", \"\\u65b0\\u805e\", \"\\u65b0\\u805e\", \"\\u65b0\\u805e\", \"\\u65b0\\u805e\", \"\\u65fa\\u5b8f\", \"\\u660e\\u5e74\", \"\\u660e\\u5e74\", \"\\u660e\\u5e74\", \"\\u660e\\u5e74\", \"\\u6642\\u9593\", \"\\u6642\\u9593\", \"\\u6642\\u9593\", \"\\u6642\\u9593\", \"\\u6676\\u5713\", \"\\u6700\\u5f8c\", \"\\u6700\\u5f8c\", \"\\u6700\\u5f8c\", \"\\u6700\\u5f8c\", \"\\u6709\\u6c92\\u6709\", \"\\u6709\\u6c92\\u6709\", \"\\u6709\\u6c92\\u6709\", \"\\u6709\\u6c92\\u6709\", \"\\u672c\\u677f\", \"\\u674e\\u975a\\u857e\", \"\\u674e\\u975a\\u857e\", \"\\u674e\\u975a\\u857e\", \"\\u677f\\u8ad6\", \"\\u6797\\u50b3\\u5bcc\", \"\\u6797\\u50b3\\u5bcc\", \"\\u6797\\u50b3\\u5bcc\", \"\\u6839\\u672c\", \"\\u6839\\u672c\", \"\\u6839\\u672c\", \"\\u6839\\u672c\", \"\\u6a19\\u984c\", \"\\u6a19\\u984c\", \"\\u6a19\\u984c\", \"\\u6a19\\u984c\", \"\\u6a21\\u5f0f\", \"\\u6aa2\\u67e5\", \"\\u6aa2\\u67e5\", \"\\u6aa2\\u67e5\", \"\\u6aa2\\u67e5\", \"\\u6b7b\\u4ea1\", \"\\u6b7b\\u4ea1\", \"\\u6b7b\\u4ea1\", \"\\u6b7b\\u4ea1\", \"\\u6beb\\u7c73\", \"\\u6c34\\u6876\", \"\\u6cd5\\u898f\", \"\\u6cd5\\u898f\", \"\\u6cd5\\u898f\", \"\\u6cd5\\u898f\", \"\\u6d88\\u9632\", \"\\u6d88\\u9632\", \"\\u6d88\\u9632\", \"\\u6d88\\u9632\", \"\\u6df1\\u5207\", \"\\u6e05\\u9192\", \"\\u6e05\\u9192\", \"\\u6ec5\\u706b\\u5668\", \"\\u6f32\\u505c\", \"\\u6f32\\u505c\", \"\\u6f32\\u505c\", \"\\u706b\\u6d77\", \"\\u706b\\u707d\", \"\\u706b\\u707d\", \"\\u706b\\u707d\", \"\\u706b\\u707d\", \"\\u706b\\u8b66\", \"\\u706b\\u8b66\", \"\\u706b\\u8b66\", \"\\u706b\\u8b66\", \"\\u70cf\\u514b\\u862d\", \"\\u7121\\u6548\", \"\\u71b1\\u641c\", \"\\u738b\\u529b\\u5b8f\", \"\\u738b\\u529b\\u5b8f\", \"\\u738b\\u529b\\u5b8f\", \"\\u738b\\u529b\\u5b8f\", \"\\u73fe\\u5728\", \"\\u73fe\\u5728\", \"\\u73fe\\u5728\", \"\\u73fe\\u5728\", \"\\u73fe\\u5834\", \"\\u73fe\\u5834\", \"\\u73fe\\u5834\", \"\\u73fe\\u5834\", \"\\u73fe\\u884c\", \"\\u745e\\u838e\", \"\\u7522\\u54c1\", \"\\u7522\\u54c1\", \"\\u7522\\u54c1\", \"\\u7522\\u54c1\", \"\\u7522\\u696d\", \"\\u7522\\u696d\", \"\\u7522\\u696d\", \"\\u7522\\u696d\", \"\\u7522\\u6b0a\", \"\\u7522\\u6b0a\", \"\\u7533\\u5831\", \"\\u7533\\u5831\", \"\\u7537\\u5b50\", \"\\u7537\\u5b50\", \"\\u7537\\u6027\", \"\\u7537\\u6027\", \"\\u767c\\u5e03\", \"\\u767c\\u5e03\", \"\\u767c\\u5e03\", \"\\u767c\\u5e03\", \"\\u767c\\u751f\", \"\\u767c\\u751f\", \"\\u767c\\u751f\", \"\\u767c\\u751f\", \"\\u76ee\\u524d\", \"\\u76ee\\u524d\", \"\\u76ee\\u524d\", \"\\u76ee\\u524d\", \"\\u773c\\u93e1\", \"\\u773c\\u93e1\", \"\\u77e5\\u9053\", \"\\u77e5\\u9053\", \"\\u77e5\\u9053\", \"\\u77e5\\u9053\", \"\\u786c\\u9ad4\", \"\\u786c\\u9ad4\", \"\\u786c\\u9ad4\", \"\\u79d1\\u6280\", \"\\u79d1\\u6280\", \"\\u79d1\\u6280\", \"\\u79d1\\u6280\\u80a1\", \"\\u7ba1\\u59d4\\u6703\", \"\\u7ba1\\u59d4\\u6703\", \"\\u7ba1\\u59d4\\u6703\", \"\\u7ba1\\u59d4\\u6703\", \"\\u7ba1\\u7406\", \"\\u7ba1\\u7406\", \"\\u7ba1\\u7406\", \"\\u7ba1\\u7406\", \"\\u7d9c\\u5408\", \"\\u7d9c\\u5408\", \"\\u7d9c\\u5408\", \"\\u7d9c\\u5408\", \"\\u7dad\\u8b77\", \"\\u7dad\\u8b77\", \"\\u7e3d\\u5e79\\u4e8b\", \"\\u7e3d\\u7d93\\u7406\", \"\\u7e3d\\u91ab\\u9662\", \"\\u7e41\\u9ad4\", \"\\u7f8e\\u5143\", \"\\u7f8e\\u5143\", \"\\u7f8e\\u5143\", \"\\u7f8e\\u5143\", \"\\u7f8e\\u5149\", \"\\u7f8e\\u5149\", \"\\u7f8e\\u570b\", \"\\u7f8e\\u570b\", \"\\u7f8e\\u570b\", \"\\u7f8e\\u570b\", \"\\u7fa4\\u806f\", \"\\u7fa9\\u5927\", \"\\u8001\\u5916\", \"\\u8001\\u820a\", \"\\u8001\\u820a\", \"\\u8001\\u820a\", \"\\u8001\\u820a\", \"\\u805a\\u6703\", \"\\u806f\\u5408\", \"\\u806f\\u5408\", \"\\u806f\\u5408\", \"\\u806f\\u96fb\", \"\\u80a1\\u50f9\", \"\\u80a1\\u50f9\", \"\\u80a1\\u50f9\", \"\\u80a1\\u50f9\", \"\\u80a1\\u5e02\", \"\\u80a1\\u5e02\", \"\\u80a1\\u5e02\", \"\\u80a1\\u5e02\", \"\\u80a1\\u6771\", \"\\u80a1\\u6771\", \"\\u81c9\\u66f8\", \"\\u81c9\\u66f8\", \"\\u81c9\\u66f8\", \"\\u81c9\\u66f8\", \"\\u822a\\u904b\\u80a1\", \"\\u82f1\\u6fdf\", \"\\u83ef\\u90a6\\u96fb\", \"\\u842c\\u65ed\", \"\\u842c\\u80fd\", \"\\u8521\\u82f1\\u6587\", \"\\u8655\\u7406\", \"\\u8655\\u7406\", \"\\u8655\\u7406\", \"\\u8655\\u7406\", \"\\u865f\\u78bc\", \"\\u865f\\u78bc\", \"\\u865f\\u78bc\", \"\\u8667\\u640d\", \"\\u8667\\u640d\", \"\\u8667\\u640d\", \"\\u8868\\u793a\", \"\\u8868\\u793a\", \"\\u8868\\u793a\", \"\\u8868\\u793a\", \"\\u88dd\\u7f6e\", \"\\u88dd\\u7f6e\", \"\\u88dd\\u7f6e\", \"\\u88dd\\u7f6e\", \"\\u8907\\u5408\\u5f0f\", \"\\u8907\\u96dc\", \"\\u8907\\u96dc\", \"\\u8907\\u96dc\", \"\\u8907\\u96dc\", \"\\u8a18\\u8005\", \"\\u8a18\\u8005\", \"\\u8a18\\u8005\", \"\\u8a18\\u8005\", \"\\u8a55\\u5206\", \"\\u8a55\\u8ad6\", \"\\u8a55\\u8ad6\", \"\\u8a55\\u8ad6\", \"\\u8a55\\u8ad6\", \"\\u8b1d\\u91d1\\u6cb3\", \"\\u8b8a\\u5316\", \"\\u8b8a\\u5316\", \"\\u8ca8\\u6ac3\", \"\\u8ce3\\u8d85\", \"\\u8eca\\u624b\", \"\\u8edf\\u9280\", \"\\u8f15\\u751f\", \"\\u8f1d\\u9054\", \"\\u8f1d\\u9054\", \"\\u9003\\u751f\", \"\\u9003\\u751f\", \"\\u9003\\u751f\", \"\\u9003\\u751f\", \"\\u9019\\u7a2e\", \"\\u9019\\u7a2e\", \"\\u9019\\u7a2e\", \"\\u9019\\u7a2e\", \"\\u9023\\u7d50\", \"\\u9023\\u7d50\", \"\\u9023\\u7d50\", \"\\u9023\\u7d50\", \"\\u904a\\u6232\", \"\\u904a\\u6232\", \"\\u904a\\u6232\", \"\\u904a\\u6232\", \"\\u907f\\u96e3\", \"\\u90e8\\u4f4d\", \"\\u91ab\\u9662\", \"\\u91ab\\u9662\", \"\\u91ab\\u9662\", \"\\u91d1\\u63a7\", \"\\u91d1\\u63a7\", \"\\u923a\\u5275\", \"\\u923a\\u5275\", \"\\u9577\\u69ae\", \"\\u9577\\u69ae\", \"\\u9577\\u69ae\", \"\\u9577\\u69ae\", \"\\u9632\\u706b\", \"\\u9632\\u706b\", \"\\u9632\\u706b\", \"\\u967d\\u660e\", \"\\u96e2\\u5a5a\", \"\\u96e2\\u5a5a\", \"\\u96e2\\u5a5a\", \"\\u96e2\\u5a5a\", \"\\u96fb\\u8996\", \"\\u96fb\\u8996\", \"\\u96fb\\u8996\", \"\\u96fb\\u8996\", \"\\u96fb\\u8a71\", \"\\u96fb\\u8a71\", \"\\u96fb\\u8a71\", \"\\u9739\\u9742\", \"\\u9739\\u9742\", \"\\u984c\\u6750\", \"\\u984c\\u6750\", \"\\u984c\\u6750\", \"\\u984c\\u6750\", \"\\u984f\\u5bb6\", \"\\u9a30\\u8a0a\", \"\\u9ad8\\u91ab\", \"\\u9ad8\\u91ab\", \"\\u9ad8\\u96c4\", \"\\u9ad8\\u96c4\", \"\\u9ad8\\u96c4\", \"\\u9ad8\\u96c4\", \"\\u9ad8\\u96c4\\u5e02\", \"\\u9ad8\\u96c4\\u5e02\", \"\\u9ad8\\u96c4\\u5e02\", \"\\u9ad8\\u96c4\\u5e02\", \"\\u9b77\\u9b5a\", \"\\u9b77\\u9b5a\", \"\\u9b77\\u9b5a\", \"\\u9b77\\u9b5a\", \"\\u9ed1\\u7159\", \"\\u9ed1\\u7159\"]}, \"R\": 30, \"lambda.step\": 0.01, \"plot.opts\": {\"xlab\": \"PC1\", \"ylab\": \"PC2\"}, \"topic.order\": [4, 3, 2, 1]};\n",
       "\n",
       "function LDAvis_load_lib(url, callback){\n",
       "  var s = document.createElement('script');\n",
       "  s.src = url;\n",
       "  s.async = true;\n",
       "  s.onreadystatechange = s.onload = callback;\n",
       "  s.onerror = function(){console.warn(\"failed to load library \" + url);};\n",
       "  document.getElementsByTagName(\"head\")[0].appendChild(s);\n",
       "}\n",
       "\n",
       "if(typeof(LDAvis) !== \"undefined\"){\n",
       "   // already loaded: just create the visualization\n",
       "   !function(LDAvis){\n",
       "       new LDAvis(\"#\" + \"ldavis_el4578456627550728079253145\", ldavis_el4578456627550728079253145_data);\n",
       "   }(LDAvis);\n",
       "}else if(typeof define === \"function\" && define.amd){\n",
       "   // require.js is available: use it to load d3/LDAvis\n",
       "   require.config({paths: {d3: \"https://d3js.org/d3.v5\"}});\n",
       "   require([\"d3\"], function(d3){\n",
       "      window.d3 = d3;\n",
       "      LDAvis_load_lib(\"https://cdn.jsdelivr.net/gh/bmabey/pyLDAvis@3.3.1/pyLDAvis/js/ldavis.v3.0.0.js\", function(){\n",
       "        new LDAvis(\"#\" + \"ldavis_el4578456627550728079253145\", ldavis_el4578456627550728079253145_data);\n",
       "      });\n",
       "    });\n",
       "}else{\n",
       "    // require.js not available: dynamically load d3 & LDAvis\n",
       "    LDAvis_load_lib(\"https://d3js.org/d3.v5.js\", function(){\n",
       "         LDAvis_load_lib(\"https://cdn.jsdelivr.net/gh/bmabey/pyLDAvis@3.3.1/pyLDAvis/js/ldavis.v3.0.0.js\", function(){\n",
       "                 new LDAvis(\"#\" + \"ldavis_el4578456627550728079253145\", ldavis_el4578456627550728079253145_data);\n",
       "            })\n",
       "         });\n",
       "}\n",
       "</script>"
      ],
      "text/plain": [
       "<IPython.core.display.HTML object>"
      ]
     },
     "execution_count": 33,
     "metadata": {},
     "output_type": "execute_result"
    }
   ],
   "source": [
    "IPython.display.HTML('./lda_result/ldaVis4.html')"
   ]
  },
  {
   "cell_type": "code",
   "execution_count": null,
   "id": "8aa7ef89-9dbd-4a4e-9685-859521f620a4",
   "metadata": {},
   "outputs": [],
   "source": []
  }
 ],
 "metadata": {
  "kernelspec": {
   "display_name": "Python 3 (ipykernel)",
   "language": "python",
   "name": "python3"
  },
  "language_info": {
   "codemirror_mode": {
    "name": "ipython",
    "version": 3
   },
   "file_extension": ".py",
   "mimetype": "text/x-python",
   "name": "python",
   "nbconvert_exporter": "python",
   "pygments_lexer": "ipython3",
   "version": "3.8.8"
  }
 },
 "nbformat": 4,
 "nbformat_minor": 5
}
